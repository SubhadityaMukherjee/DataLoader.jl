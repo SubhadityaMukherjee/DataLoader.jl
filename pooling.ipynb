{
 "cells": [
  {
   "cell_type": "code",
   "execution_count": 15,
   "metadata": {
    "tags": []
   },
   "outputs": [
    {
     "output_type": "stream",
     "name": "stderr",
     "text": "┌ Info: Precompiling ImageFiltering [6a3955dd-da59-5b1f-98d4-e7296123deb5]\n└ @ Base loading.jl:1260\n"
    }
   ],
   "source": [
    "using StaticArrays, ImageFiltering"
   ]
  },
  {
   "cell_type": "code",
   "execution_count": 195,
   "metadata": {
    "tags": []
   },
   "outputs": [
    {
     "output_type": "stream",
     "name": "stderr",
     "text": "┌ Info: Precompiling ImageView [86fae568-95e7-573e-a6b2-d8a6b900c9ef]\n└ @ Base loading.jl:1260\n"
    }
   ],
   "source": [
    "using Plots,Images, ImageView"
   ]
  },
  {
   "cell_type": "code",
   "execution_count": 368,
   "metadata": {
    "tags": []
   },
   "outputs": [],
   "source": [
    "using TestImages\n",
    "\n",
    "using Cairo,Gtk\n",
    "using Latexify"
   ]
  },
  {
   "cell_type": "code",
   "execution_count": 363,
   "metadata": {
    "tags": []
   },
   "outputs": [
    {
     "output_type": "stream",
     "name": "stderr",
     "text": "┌ Info: Precompiling BenchmarkTools [6e4b80f9-dd63-53aa-95a3-0cdb28fa8baf]\n└ @ Base loading.jl:1260\n"
    }
   ],
   "source": [
    "using BenchmarkTools\n"
   ]
  },
  {
   "cell_type": "code",
   "execution_count": 369,
   "metadata": {
    "tags": []
   },
   "outputs": [
    {
     "output_type": "stream",
     "name": "stdout",
     "text": "$m \\cdot n$"
    }
   ],
   "source": [
    "print(latexify(\"m*n\"))"
   ]
  },
  {
   "cell_type": "code",
   "execution_count": 159,
   "metadata": {},
   "outputs": [
    {
     "output_type": "execute_result",
     "data": {
      "text/plain": "im2col (generic function with 2 methods)"
     },
     "metadata": {},
     "execution_count": 159
    }
   ],
   "source": [
    "function im2col(A, block_size) # mxn: block_size\n",
    "            m,n = block_size\n",
    "           M,N = size(A)\n",
    "           mc = M-m+1          # no. vertical blocks\n",
    "           nc = N-n+1          # no. horizontal blocks\n",
    "           B = Array{eltype(A)}(undef, m*n, mc*nc)\n",
    "           for j = 1:nc\n",
    "             for i = 1:mc\n",
    "               @views block = A[i:i+m-1, j:j+n-1]\n",
    "               for k=1:m*n\n",
    "                  B[k,(j-1)*mc+i] = block[k]\n",
    "               end\n",
    "             end\n",
    "           end\n",
    "           return B\n",
    "       end"
   ]
  },
  {
   "cell_type": "code",
   "execution_count": 160,
   "metadata": {},
   "outputs": [
    {
     "output_type": "execute_result",
     "data": {
      "text/plain": "col2im (generic function with 2 methods)"
     },
     "metadata": {},
     "execution_count": 160
    }
   ],
   "source": [
    "function col2im(A,block_size)\n",
    "    mm, nn = block_size\n",
    "    return reshape(A, (mm, nn))\n",
    "end"
   ]
  },
  {
   "cell_type": "code",
   "execution_count": 161,
   "metadata": {},
   "outputs": [
    {
     "output_type": "execute_result",
     "data": {
      "text/plain": "5×5 LinearAlgebra.Adjoint{Int64,Array{Int64,2}}:\n  1   2   3   4   5\n  6   7   8   9  10\n 11  12  13  14  15\n 16  17  18  19  20\n 21  22  23  24  25"
     },
     "metadata": {},
     "execution_count": 161
    }
   ],
   "source": [
    "B = reshape(collect(1:25),(5,5))'\n"
   ]
  },
  {
   "cell_type": "code",
   "execution_count": 163,
   "metadata": {},
   "outputs": [
    {
     "output_type": "execute_result",
     "data": {
      "text/plain": "25×1 Array{Int64,2}:\n  1\n  6\n 11\n 16\n 21\n  2\n  7\n 12\n 17\n 22\n  3\n  8\n 13\n 18\n 23\n  4\n  9\n 14\n 19\n 24\n  5\n 10\n 15\n 20\n 25"
     },
     "metadata": {},
     "execution_count": 163
    }
   ],
   "source": [
    "C = im2col(B, (5,5))"
   ]
  },
  {
   "cell_type": "code",
   "execution_count": 164,
   "metadata": {
    "tags": []
   },
   "outputs": [
    {
     "output_type": "execute_result",
     "data": {
      "text/plain": "5×5 Array{Int64,2}:\n  1   2   3   4   5\n  6   7   8   9  10\n 11  12  13  14  15\n 16  17  18  19  20\n 21  22  23  24  25"
     },
     "metadata": {},
     "execution_count": 164
    }
   ],
   "source": [
    "col2im(C,(5,5))"
   ]
  },
  {
   "cell_type": "code",
   "execution_count": 462,
   "metadata": {},
   "outputs": [
    {
     "output_type": "execute_result",
     "data": {
      "text/plain": "3×512×512 reinterpret(N0f8, ::Array{RGB{N0f8},3}):\n[:, :, 1] =\n 0.643  0.471  0.388  0.251  0.431  …  0.365  0.376  0.475  0.494  0.035\n 0.588  0.49   0.29   0.31   0.329     0.388  0.451  0.58   0.663  0.043\n 0.278  0.243  0.122  0.188  0.153     0.353  0.525  0.608  0.659  0.047\n\n[:, :, 2] =\n 0.247  0.529  0.518  0.588  0.51   …  0.361  0.463  0.482  0.459  0.039\n 0.224  0.38   0.463  0.565  0.518     0.486  0.553  0.612  0.592  0.047\n 0.122  0.129  0.18   0.224  0.18      0.478  0.549  0.588  0.592  0.043\n\n[:, :, 3] =\n 0.294  0.216  0.235  0.443  0.635  …  0.455  0.522  0.486  0.475  0.043\n 0.169  0.137  0.161  0.384  0.518     0.58   0.627  0.588  0.533  0.059\n 0.039  0.09   0.141  0.137  0.204     0.549  0.62   0.545  0.522  0.047\n\n...\n\n[:, :, 510] =\n 0.459  0.478  0.463  0.294  0.239  …  0.373  0.337  0.431  0.286  0.02\n 0.467  0.549  0.365  0.302  0.231     0.373  0.424  0.286  0.329  0.031\n 0.267  0.384  0.353  0.18   0.224     0.278  0.357  0.235  0.267  0.02\n\n[:, :, 511] =\n 0.553  0.533  0.341  0.357  0.251  …  0.353  0.42   0.353  0.388  0.008\n 0.667  0.624  0.357  0.282  0.357     0.38   0.318  0.365  0.271  0.02\n 0.396  0.502  0.302  0.2    0.239     0.294  0.349  0.275  0.337  0.0\n\n[:, :, 512] =\n 0.702  0.471  0.376  0.243  0.314  …  0.349  0.325  0.318  0.314  0.016\n 0.737  0.541  0.314  0.306  0.369     0.325  0.357  0.314  0.247  0.02\n 0.463  0.29   0.192  0.184  0.235     0.333  0.376  0.235  0.278  0.008"
     },
     "metadata": {},
     "execution_count": 462
    }
   ],
   "source": [
    "\n",
    "channelview(testimage(\"mandrill\"))[1,:,:]"
   ]
  },
  {
   "cell_type": "code",
   "execution_count": 200,
   "metadata": {},
   "outputs": [
    {
     "output_type": "execute_result",
     "data": {
      "text/plain": "262144×1 Array{N0f8,2} with eltype Normed{UInt8,8}:\n 0.643N0f8\n 0.471N0f8\n 0.388N0f8\n 0.251N0f8\n 0.431N0f8\n 0.38N0f8\n 0.239N0f8\n 0.212N0f8\n 0.251N0f8\n 0.216N0f8\n 0.212N0f8\n 0.2N0f8\n 0.196N0f8\n ⋮\n 0.322N0f8\n 0.373N0f8\n 0.325N0f8\n 0.267N0f8\n 0.278N0f8\n 0.329N0f8\n 0.29N0f8\n 0.349N0f8\n 0.325N0f8\n 0.318N0f8\n 0.314N0f8\n 0.016N0f8"
     },
     "metadata": {},
     "execution_count": 200
    }
   ],
   "source": [
    "\n",
    "im2col(channelview(testimage(\"mandrill\"))[1,:,:],(512, 512))"
   ]
  },
  {
   "cell_type": "code",
   "execution_count": 222,
   "metadata": {},
   "outputs": [
    {
     "output_type": "execute_result",
     "data": {
      "text/plain": "pad_constant (generic function with 2 methods)"
     },
     "metadata": {},
     "execution_count": 222
    }
   ],
   "source": [
    "function pad_constant(img,kernel,constant=0)\n",
    "    kernel_h, kernel_w = size(kernel)\n",
    "    img_h, img_w = size(img)\n",
    "    padded_kernel= ones(img_h,img_w).*(1/(1+exp(-constant)));\n",
    "    pad_h, pad_w = size(padded_kernel)\n",
    "    center_x,center_y = pad_w ÷2, pad_h ÷2\n",
    "    tmp_x = center_x-(kernel_w÷2)\n",
    "    tmp_y = center_y-(kernel_h÷2)\n",
    "    padded_kernel[collect(tmp_x:tmp_x+kernel_w-1),collect(tmp_y:tmp_y+kernel_h-1)] = kernel;\n",
    "    return padded_kernel\n",
    "end"
   ]
  },
  {
   "cell_type": "code",
   "execution_count": 196,
   "metadata": {
    "tags": []
   },
   "outputs": [
    {
     "output_type": "stream",
     "name": "stderr",
     "text": "\n(julia:1896465): Gtk-WARNING **: 22:14:13.478: Theme parsing error: gtk.css:9104:22: '/*' in comment block\n\n(julia:1896465): Gtk-WARNING **: 22:14:13.480: Theme parsing error: gtk.css:10931:0: Expected a valid selector\n"
    },
    {
     "output_type": "execute_result",
     "data": {
      "text/plain": "Dict{String,Any} with 4 entries:\n  \"gui\"         => Dict{String,Any}(\"window\"=>GtkWindowLeaf(name=\"\", parent, wi…\n  \"roi\"         => Dict{String,Any}(\"redraw\"=>37: \"map(clim-mapped image, input…\n  \"annotations\" => 3: \"input-2\" = Dict{UInt64,Any}() Dict{UInt64,Any} \n  \"clim\"        => 2: \"CLim\" = CLim{Normed{UInt8,8}}(0.0, 1.0) CLim{Normed{UInt…"
     },
     "metadata": {},
     "execution_count": 196
    }
   ],
   "source": [
    "imshow(col2im(im2col(channelview(testimage(\"mandrill\"))[1,:,:],(512, 512)),\n",
    "(512, 512)))"
   ]
  },
  {
   "cell_type": "code",
   "execution_count": 201,
   "metadata": {},
   "outputs": [],
   "source": [
    "using FFTW"
   ]
  },
  {
   "cell_type": "code",
   "execution_count": 219,
   "metadata": {},
   "outputs": [],
   "source": [
    "img = channelview(testimage(\"mandrill\"))[1,:,:];"
   ]
  },
  {
   "cell_type": "code",
   "execution_count": 220,
   "metadata": {},
   "outputs": [
    {
     "output_type": "execute_result",
     "data": {
      "text/plain": "512×512 Array{Float32,2}:\n 0.643137   0.247059   0.294118   …  0.458824   0.552941    0.701961\n 0.470588   0.529412   0.215686      0.478431   0.533333    0.470588\n 0.388235   0.517647   0.235294      0.462745   0.341176    0.376471\n 0.25098    0.588235   0.443137      0.294118   0.356863    0.243137\n 0.431373   0.509804   0.635294      0.239216   0.25098     0.313726\n 0.380392   0.321569   0.701961   …  0.337255   0.545098    0.658824\n 0.239216   0.27451    0.584314      0.713726   0.792157    0.65098\n 0.211765   0.247059   0.45098       0.67451    0.419608    0.52549\n 0.25098    0.262745   0.282353      0.545098   0.662745    0.466667\n 0.215686   0.211765   0.2           0.341176   0.380392    0.596078\n 0.211765   0.215686   0.372549   …  0.313726   0.305882    0.368627\n 0.2        0.231373   0.356863      0.286275   0.388235    0.243137\n 0.196078   0.231373   0.411765      0.286275   0.247059    0.407843\n ⋮                                ⋱             ⋮           \n 0.560784   0.52549    0.517647   …  0.305882   0.360784    0.321569\n 0.517647   0.509804   0.498039      0.368627   0.345098    0.372549\n 0.501961   0.498039   0.454902      0.352941   0.32549     0.32549\n 0.415686   0.447059   0.494118      0.317647   0.384314    0.266667\n 0.458824   0.470588   0.447059      0.419608   0.298039    0.278431\n 0.419608   0.415686   0.45098    …  0.345098   0.407843    0.329412\n 0.380392   0.388235   0.45098       0.368627   0.372549    0.290196\n 0.364706   0.360784   0.454902      0.372549   0.352941    0.34902\n 0.376471   0.462745   0.521569      0.337255   0.419608    0.32549\n 0.47451    0.482353   0.486275      0.431373   0.352941    0.317647\n 0.494118   0.458824   0.47451    …  0.286275   0.388235    0.313726\n 0.0352941  0.0392157  0.0431373     0.0196078  0.00784314  0.0156863"
     },
     "metadata": {},
     "execution_count": 220
    }
   ],
   "source": [
    "img = convert.(Float32,img)"
   ]
  },
  {
   "cell_type": "code",
   "execution_count": 221,
   "metadata": {},
   "outputs": [
    {
     "output_type": "execute_result",
     "data": {
      "text/plain": "Dict{String,Any} with 4 entries:\n  \"gui\"         => Dict{String,Any}(\"window\"=>GtkWindowLeaf(name=\"\", parent, wi…\n  \"roi\"         => Dict{String,Any}(\"redraw\"=>111: \"map(clim-mapped image, inpu…\n  \"annotations\" => 77: \"input-26\" = Dict{UInt64,Any}() Dict{UInt64,Any} \n  \"clim\"        => 76: \"CLim\" = CLim{Float32}(0.0, 1.0) CLim{Float32} "
     },
     "metadata": {},
     "execution_count": 221
    }
   ],
   "source": [
    "imshow(img)"
   ]
  },
  {
   "cell_type": "code",
   "execution_count": 223,
   "metadata": {},
   "outputs": [
    {
     "output_type": "execute_result",
     "data": {
      "text/plain": "15×15 Array{Float64,2}:\n 0.731564  0.67065    0.33955    0.0162717  …  0.868125   0.610576  0.283087\n 0.884447  0.332166   0.126174   0.591551      0.557242   0.916682  0.162709\n 0.225237  0.0770074  0.923544   0.776053      0.692071   0.254583  0.332156\n 0.518578  0.417852   0.473367   0.302953      0.766679   0.684387  0.328251\n 0.407969  0.388558   0.741347   0.506399      0.45745    0.493883  0.144527\n 0.898691  0.482283   0.309024   0.520462   …  0.0725439  0.241748  0.533475\n 0.465126  0.798104   0.257927   0.807132      0.550102   0.490976  0.662244\n 0.564938  0.119881   0.111996   0.16864       0.854827   0.17676   0.618202\n 0.191036  0.302235   0.0647027  0.684673      0.323148   0.940296  0.142913\n 0.742474  0.191227   0.933384   0.096563      0.851548   0.126602  0.870332\n 0.245919  0.292399   0.384466   0.688763   …  0.780014   0.371705  0.233357\n 0.81841   0.454936   0.633638   0.48933       0.216536   0.443935  0.77582\n 0.700633  0.41665    0.54953    0.545615      0.903096   0.228287  0.407164\n 0.623524  0.365092   0.730279   0.332917      0.722093   0.484911  0.518535\n 0.15766   0.145996   0.858257   0.811844      0.266251   0.708478  0.711586"
     },
     "metadata": {},
     "execution_count": 223
    }
   ],
   "source": [
    "kernel = rand(15, 15)"
   ]
  },
  {
   "cell_type": "code",
   "execution_count": 224,
   "metadata": {},
   "outputs": [
    {
     "output_type": "execute_result",
     "data": {
      "text/plain": "512×512 Array{Float64,2}:\n 0.5  0.5  0.5  0.5  0.5  0.5  0.5  0.5  …  0.5  0.5  0.5  0.5  0.5  0.5  0.5\n 0.5  0.5  0.5  0.5  0.5  0.5  0.5  0.5     0.5  0.5  0.5  0.5  0.5  0.5  0.5\n 0.5  0.5  0.5  0.5  0.5  0.5  0.5  0.5     0.5  0.5  0.5  0.5  0.5  0.5  0.5\n 0.5  0.5  0.5  0.5  0.5  0.5  0.5  0.5     0.5  0.5  0.5  0.5  0.5  0.5  0.5\n 0.5  0.5  0.5  0.5  0.5  0.5  0.5  0.5     0.5  0.5  0.5  0.5  0.5  0.5  0.5\n 0.5  0.5  0.5  0.5  0.5  0.5  0.5  0.5  …  0.5  0.5  0.5  0.5  0.5  0.5  0.5\n 0.5  0.5  0.5  0.5  0.5  0.5  0.5  0.5     0.5  0.5  0.5  0.5  0.5  0.5  0.5\n 0.5  0.5  0.5  0.5  0.5  0.5  0.5  0.5     0.5  0.5  0.5  0.5  0.5  0.5  0.5\n 0.5  0.5  0.5  0.5  0.5  0.5  0.5  0.5     0.5  0.5  0.5  0.5  0.5  0.5  0.5\n 0.5  0.5  0.5  0.5  0.5  0.5  0.5  0.5     0.5  0.5  0.5  0.5  0.5  0.5  0.5\n 0.5  0.5  0.5  0.5  0.5  0.5  0.5  0.5  …  0.5  0.5  0.5  0.5  0.5  0.5  0.5\n 0.5  0.5  0.5  0.5  0.5  0.5  0.5  0.5     0.5  0.5  0.5  0.5  0.5  0.5  0.5\n 0.5  0.5  0.5  0.5  0.5  0.5  0.5  0.5     0.5  0.5  0.5  0.5  0.5  0.5  0.5\n ⋮                        ⋮              ⋱  ⋮                        ⋮    \n 0.5  0.5  0.5  0.5  0.5  0.5  0.5  0.5  …  0.5  0.5  0.5  0.5  0.5  0.5  0.5\n 0.5  0.5  0.5  0.5  0.5  0.5  0.5  0.5     0.5  0.5  0.5  0.5  0.5  0.5  0.5\n 0.5  0.5  0.5  0.5  0.5  0.5  0.5  0.5     0.5  0.5  0.5  0.5  0.5  0.5  0.5\n 0.5  0.5  0.5  0.5  0.5  0.5  0.5  0.5     0.5  0.5  0.5  0.5  0.5  0.5  0.5\n 0.5  0.5  0.5  0.5  0.5  0.5  0.5  0.5     0.5  0.5  0.5  0.5  0.5  0.5  0.5\n 0.5  0.5  0.5  0.5  0.5  0.5  0.5  0.5  …  0.5  0.5  0.5  0.5  0.5  0.5  0.5\n 0.5  0.5  0.5  0.5  0.5  0.5  0.5  0.5     0.5  0.5  0.5  0.5  0.5  0.5  0.5\n 0.5  0.5  0.5  0.5  0.5  0.5  0.5  0.5     0.5  0.5  0.5  0.5  0.5  0.5  0.5\n 0.5  0.5  0.5  0.5  0.5  0.5  0.5  0.5     0.5  0.5  0.5  0.5  0.5  0.5  0.5\n 0.5  0.5  0.5  0.5  0.5  0.5  0.5  0.5     0.5  0.5  0.5  0.5  0.5  0.5  0.5\n 0.5  0.5  0.5  0.5  0.5  0.5  0.5  0.5  …  0.5  0.5  0.5  0.5  0.5  0.5  0.5\n 0.5  0.5  0.5  0.5  0.5  0.5  0.5  0.5     0.5  0.5  0.5  0.5  0.5  0.5  0.5"
     },
     "metadata": {},
     "execution_count": 224
    }
   ],
   "source": [
    "kernel_padded = pad_constant(img, kernel)"
   ]
  },
  {
   "cell_type": "code",
   "execution_count": 206,
   "metadata": {},
   "outputs": [
    {
     "output_type": "execute_result",
     "data": {
      "text/plain": "Dict{String,Any} with 4 entries:\n  \"gui\"         => Dict{String,Any}(\"window\"=>GtkWindowLeaf(name=\"\", parent, wi…\n  \"roi\"         => Dict{String,Any}(\"redraw\"=>74: \"map(clim-mapped image, input…\n  \"annotations\" => 40: \"input-14\" = Dict{UInt64,Any}() Dict{UInt64,Any} \n  \"clim\"        => 39: \"CLim\" = CLim{Float64}(0.0102129, 0.997642) CLim{Float64…"
     },
     "metadata": {},
     "execution_count": 206
    }
   ],
   "source": [
    "imshow(kernel_padded)"
   ]
  },
  {
   "cell_type": "code",
   "execution_count": 225,
   "metadata": {},
   "outputs": [],
   "source": [
    "flat_ker = im2col(kernel_padded, (512, 512));"
   ]
  },
  {
   "cell_type": "code",
   "execution_count": 227,
   "metadata": {},
   "outputs": [],
   "source": [
    "flat_im = im2col(img, (512,512));"
   ]
  },
  {
   "cell_type": "code",
   "execution_count": 370,
   "metadata": {
    "tags": []
   },
   "outputs": [
    {
     "output_type": "stream",
     "name": "stdout",
     "text": "0.038521 seconds (190 allocations: 20.010 MiB)\n"
    },
    {
     "output_type": "execute_result",
     "data": {
      "text/plain": "262144×1 Array{Complex{Float64},2}:\n 70622.60645434976 + 8.558134645137577e-8im\n 70622.47815437838 - 6.258381384012658e-9im\n 70622.32777927439 + 7.945017259538007e-9im\n  70622.4856978972 + 1.1670681763444176e-7im\n 70622.43406400015 + 2.204228719315508e-8im\n 70622.46463714165 + 4.0708222131790155e-8im\n 70622.27373051841 - 1.6821833555335407e-8im\n 70622.30707697633 + 1.4448283369928154e-7im\n 70622.68439267651 - 3.6181790798657776e-9im\n 70622.51402114856 - 3.010846635173875e-8im\n  70622.3992236888 + 4.4051844638518495e-8im\n 70622.31367310684 - 3.186557476909364e-8im\n 70622.13095088594 - 1.1032385689085611e-7im\n                   ⋮\n 70622.53727270706 - 6.830284886465638e-8im\n 70622.62191410013 + 1.1076941161642594e-7im\n 70622.63208585385 + 2.6883613690017226e-8im\n 70622.80154153319 + 6.650665919816927e-8im\n 70622.67940129325 - 3.130188942882523e-8im\n 70622.88523502267 + 9.804242000063336e-9im\n 70622.67947663346 - 4.28457462638645e-8im\n 70622.65996999141 + 6.333984123161687e-8im\n  70622.6243671224 - 1.2158238713572762e-7im\n 70622.42568749202 - 8.154407928567663e-8im\n 70622.48072103469 + 4.970809639350413e-8im\n 70622.52722043441 - 3.941656123204453e-8im"
     },
     "metadata": {},
     "execution_count": 370
    }
   ],
   "source": [
    "@time conv = ifft(fft(flat_im).*fft(flat_ker))\n"
   ]
  },
  {
   "cell_type": "code",
   "execution_count": 371,
   "metadata": {},
   "outputs": [
    {
     "output_type": "execute_result",
     "data": {
      "text/plain": "Dict{String,Any} with 4 entries:\n  \"gui\"         => Dict{String,Any}(\"window\"=>GtkWindowLeaf(name=\"\", parent, wi…\n  \"roi\"         => Dict{String,Any}(\"redraw\"=>222: \"map(clim-mapped image, inpu…\n  \"annotations\" => 188: \"input-62\" = Dict{UInt64,Any}() Dict{UInt64,Any} \n  \"clim\"        => 187: \"CLim\" = CLim{Float64}(70618.2, 70625.4) CLim{Float64} "
     },
     "metadata": {},
     "execution_count": 371
    }
   ],
   "source": [
    "out1 = imshow(col2im(real.(conv),(512, 512)))"
   ]
  },
  {
   "cell_type": "code",
   "execution_count": 372,
   "metadata": {},
   "outputs": [
    {
     "output_type": "execute_result",
     "data": {
      "text/plain": "write_to_png (generic function with 1 method)"
     },
     "metadata": {},
     "execution_count": 372
    }
   ],
   "source": [
    "\n",
    "function write_to_png(guidict, filename)\n",
    "    canvas = guidict[\"gui\"][\"canvas\"]\n",
    "    ctx = getgc(canvas)\n",
    "    Cairo.write_to_png(ctx.surface, filename)\n",
    "end"
   ]
  },
  {
   "cell_type": "code",
   "execution_count": 374,
   "metadata": {},
   "outputs": [
    {
     "output_type": "execute_result",
     "data": {
      "text/plain": "0"
     },
     "metadata": {},
     "execution_count": 374
    }
   ],
   "source": [
    "\n",
    "write_to_png(out1, \"/home/subhaditya/Desktop/GITHUB/SubhadityaMukherjee.github.io/img/deconstrucImages/imconv.png\""
   ]
  },
  {
   "cell_type": "markdown",
   "metadata": {},
   "source": [
    "# Pooling"
   ]
  },
  {
   "cell_type": "code",
   "execution_count": 628,
   "metadata": {},
   "outputs": [
    {
     "output_type": "execute_result",
     "data": {
      "text/plain": "maxpool (generic function with 4 methods)"
     },
     "metadata": {},
     "execution_count": 628
    }
   ],
   "source": [
    "function maxpool(img, pool_size=2,stride = 2,depth=false)\n",
    "\n",
    "    if depth == true\n",
    "        input_d , input_h, input_w = size(img)\n",
    "         output_h = Integer((input_h - pool_size)/stride )\n",
    "        output_w = Integer((input_w - pool_size)/stride )\n",
    "    \n",
    "        result = zeros(input_d,output_h, output_w)  \n",
    "        for i in collect(1:output_h),j in collect(1:output_w)  \n",
    "            result[:, i,j] .= maximum(img[:, i*stride:i*stride+pool_size, j*stride:j*stride+pool_size])  \n",
    "        end\n",
    "\n",
    "    else\n",
    "        input_h, input_w = size(img)\n",
    "        output_h = Integer((input_h - pool_size)/stride )\n",
    "        output_w = Integer((input_w - pool_size)/stride )\n",
    "    \n",
    "        result = zeros(output_h, output_w)  \n",
    "\n",
    "        for i in collect(1:output_h),j in collect(1:output_w)\n",
    "            result[i,j] = maximum(img[i*stride:i*stride+pool_size, j*stride:j*stride+pool_size])\n",
    "        end\n",
    "      \n",
    "    \n",
    "    end\n",
    "\n",
    "    return result\n",
    "end"
   ]
  },
  {
   "cell_type": "code",
   "execution_count": 629,
   "metadata": {},
   "outputs": [],
   "source": [
    "temp =rand(3, 64, 64);"
   ]
  },
  {
   "cell_type": "code",
   "execution_count": 645,
   "metadata": {
    "tags": []
   },
   "outputs": [
    {
     "output_type": "execute_result",
     "data": {
      "text/plain": "Dict{String,Any} with 4 entries:\n  \"gui\"         => Dict{String,Any}(\"window\"=>GtkWindowLeaf(name=\"\", parent, wi…\n  \"roi\"         => Dict{String,Any}(\"redraw\"=>1128: \"map(clim-mapped image, inp…\n  \"annotations\" => 1094: \"input-357\" = Dict{UInt64,Any}() Dict{UInt64,Any} \n  \"clim\"        => 1093: \"CLim\" = CLim{Float64}(0.262745, 1.0) CLim{Float64} "
     },
     "metadata": {},
     "execution_count": 645
    }
   ],
   "source": [
    "out3 = imshow(maxpool(img,10,2,false))"
   ]
  },
  {
   "cell_type": "code",
   "execution_count": 647,
   "metadata": {},
   "outputs": [
    {
     "output_type": "execute_result",
     "data": {
      "text/plain": "0"
     },
     "metadata": {},
     "execution_count": 647
    }
   ],
   "source": [
    "write_to_png(out3, \"/home/subhaditya/Desktop/GITHUB/SubhadityaMukherjee.github.io/img/deconstrucImages/mp1.png\")"
   ]
  },
  {
   "cell_type": "code",
   "execution_count": 648,
   "metadata": {},
   "outputs": [
    {
     "output_type": "execute_result",
     "data": {
      "text/plain": "avgpool (generic function with 4 methods)"
     },
     "metadata": {},
     "execution_count": 648
    }
   ],
   "source": [
    "function avgpool(img, pool_size=2,stride = 2,depth=false)\n",
    "\n",
    "    if depth == true\n",
    "        input_d , input_h, input_w = size(img)\n",
    "         output_h = Integer((input_h - pool_size)/stride )\n",
    "        output_w = Integer((input_w - pool_size)/stride )\n",
    "    \n",
    "        result = zeros(input_d,output_h, output_w)  \n",
    "\n",
    "        for i in collect(1:output_h)\n",
    "            for j in collect(1:output_w)\n",
    "                temp = @view img[:, i*stride:i*stride+pool_size, j*stride:j*stride+pool_size]\n",
    "                result[:, i,j] .= sum(temp)/prod(size(temp))\n",
    "            end        \n",
    "        end\n",
    "    else\n",
    "        input_h, input_w = size(img)\n",
    "        output_h = Integer((input_h - pool_size)/stride )\n",
    "        output_w = Integer((input_w - pool_size)/stride )\n",
    "    \n",
    "        result = zeros(output_h, output_w)  \n",
    "\n",
    "        for i in collect(1:output_h)\n",
    "            for j in collect(1:output_w)\n",
    "                temp = @view img[i*stride:i*stride+pool_size, j*stride:j*stride+pool_size]\n",
    "                #@show size(temp)\n",
    "                result[i,j] = sum(temp)/prod(size(temp))\n",
    "            end        \n",
    "    end\n",
    "    end\n",
    "\n",
    "    return result\n",
    "end"
   ]
  },
  {
   "cell_type": "code",
   "execution_count": 656,
   "metadata": {
    "tags": []
   },
   "outputs": [
    {
     "output_type": "execute_result",
     "data": {
      "text/plain": "Dict{String,Any} with 4 entries:\n  \"gui\"         => Dict{String,Any}(\"window\"=>GtkWindowLeaf(name=\"\", parent, wi…\n  \"roi\"         => Dict{String,Any}(\"redraw\"=>1404: \"map(clim-mapped image, inp…\n  \"annotations\" => 1353: \"input-444\" = Dict{UInt64,Any}() Dict{UInt64,Any} \n  \"clim\"        => 1352: \"CLim\" = CLim{Float64}(0.165577, 0.681191) CLim{Float6…"
     },
     "metadata": {},
     "execution_count": 656
    }
   ],
   "source": [
    "img = channelview(testimage(\"mandrill\"));\n",
    "out3 = imshow(avgpool(img,2,2,true))"
   ]
  },
  {
   "cell_type": "code",
   "execution_count": 652,
   "metadata": {},
   "outputs": [
    {
     "output_type": "execute_result",
     "data": {
      "text/plain": "0"
     },
     "metadata": {},
     "execution_count": 652
    }
   ],
   "source": [
    "write_to_png(out3, \"/home/subhaditya/Desktop/GITHUB/SubhadityaMukherjee.github.io/img/deconstrucImages/ap1.png\")"
   ]
  },
  {
   "cell_type": "code",
   "execution_count": null,
   "metadata": {},
   "outputs": [],
   "source": []
  }
 ],
 "metadata": {
  "language_info": {
   "codemirror_mode": {
    "name": "ipython",
    "version": 3
   },
   "file_extension": ".py",
   "mimetype": "text/x-python",
   "name": "python",
   "nbconvert_exporter": "python",
   "pygments_lexer": "ipython3",
   "version": "3.6.10-final"
  },
  "orig_nbformat": 2,
  "kernelspec": {
   "name": "julia-1.4",
   "display_name": "Julia 1.4.1"
  }
 },
 "nbformat": 4,
 "nbformat_minor": 2
}