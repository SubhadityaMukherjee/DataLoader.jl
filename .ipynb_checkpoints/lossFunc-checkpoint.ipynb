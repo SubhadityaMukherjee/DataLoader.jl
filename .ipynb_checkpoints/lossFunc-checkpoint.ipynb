{
 "cells": [
  {
   "cell_type": "code",
   "execution_count": 108,
   "metadata": {},
   "outputs": [
    {
     "name": "stderr",
     "output_type": "stream",
     "text": [
      "┌ Info: Precompiling Latexify [23fbe1c1-3f47-55db-b15f-69d7ec21a316]\n",
      "└ @ Base loading.jl:1260\n"
     ]
    }
   ],
   "source": [
    "using Distributions\n",
    "using Latexify"
   ]
  },
  {
   "cell_type": "code",
   "execution_count": 134,
   "metadata": {},
   "outputs": [
    {
     "data": {
      "text/plain": [
       "lat (generic function with 1 method)"
      ]
     },
     "execution_count": 134,
     "metadata": {},
     "output_type": "execute_result"
    }
   ],
   "source": [
    "function lat(x)\n",
    "    print('$')\n",
    "    print(latexify(string(x)))\n",
    "    print('$')\n",
    "end"
   ]
  },
  {
   "cell_type": "code",
   "execution_count": 135,
   "metadata": {},
   "outputs": [],
   "source": [
    "y = rand(50,1);\n",
    "ŷ = rand(50,1);"
   ]
  },
  {
   "attachments": {
    "3dfe8015-ad87-4399-8187-fdc156b74f15.png": {
     "image/png": "[encoded data removed]"
    }
   },
   "cell_type": "markdown",
   "metadata": {},
   "source": [
    "# Log softmax\n",
    "![image.png](attachment:3dfe8015-ad87-4399-8187-fdc156b74f15.png)"
   ]
  },
  {
   "cell_type": "code",
   "execution_count": 136,
   "metadata": {},
   "outputs": [
    {
     "data": {
      "text/plain": [
       "logsoftmax (generic function with 1 method)"
      ]
     },
     "execution_count": 136,
     "metadata": {},
     "output_type": "execute_result"
    }
   ],
   "source": [
    "logsoftmax(ŷ) = log.(exp.(ŷ)/sum(exp.(ŷ)))"
   ]
  },
  {
   "cell_type": "code",
   "execution_count": 196,
   "metadata": {
    "scrolled": true
   },
   "outputs": [
    {
     "name": "stdout",
     "output_type": "stream",
     "text": [
      "$\\log\\left( \\frac{e^{ŷ}}{\\mathrm{sum}\\left( e^{ŷ} \\right)} \\right)$"
     ]
    }
   ],
   "source": [
    "print(latexify(\"log.(exp.(ŷ)/sum(exp.(ŷ)))\"))"
   ]
  },
  {
   "cell_type": "code",
   "execution_count": 37,
   "metadata": {
    "scrolled": true
   },
   "outputs": [
    {
     "data": {
      "text/plain": [
       "50×1 Array{Float64,2}:\n",
       " -3.788005706411597\n",
       " -3.7168150505783335\n",
       " -4.22938702271856\n",
       " -4.2629180174217085\n",
       " -3.9754971735950924\n",
       " -4.028986070745706\n",
       " -4.048186436540255\n",
       " -4.389674404124493\n",
       " -4.208416336986742\n",
       " -3.9948485804935103\n",
       " -4.473595126197517\n",
       " -3.7919723641958503\n",
       " -4.2223059467459745\n",
       "  ⋮\n",
       " -3.6255843649851838\n",
       " -4.036141555268871\n",
       " -3.702487876205579\n",
       " -4.071095297806484\n",
       " -4.034945678732242\n",
       " -3.9098193415254068\n",
       " -4.0888501962937625\n",
       " -4.3825529935855565\n",
       " -3.5912436392882094\n",
       " -3.4908250054504992\n",
       " -3.7743701681658304\n",
       " -3.963565492939484"
      ]
     },
     "execution_count": 37,
     "metadata": {},
     "output_type": "execute_result"
    }
   ],
   "source": [
    "logsoftmax(ŷ) "
   ]
  },
  {
   "cell_type": "markdown",
   "metadata": {},
   "source": [
    "## BCELogits"
   ]
  },
  {
   "cell_type": "code",
   "execution_count": 38,
   "metadata": {},
   "outputs": [
    {
     "data": {
      "text/plain": [
       "bcelogits (generic function with 1 method)"
      ]
     },
     "execution_count": 38,
     "metadata": {},
     "output_type": "execute_result"
    }
   ],
   "source": [
    "bcelogits(y,ŷ,weight)  =-sum(y .* logsoftmax(ŷ) .* weight) * 1 // size(y, 2)"
   ]
  },
  {
   "cell_type": "code",
   "execution_count": 39,
   "metadata": {},
   "outputs": [
    {
     "data": {
      "text/plain": [
       "937.3079697092289"
      ]
     },
     "execution_count": 39,
     "metadata": {},
     "output_type": "execute_result"
    }
   ],
   "source": [
    "bcelogits(y,ŷ,10) "
   ]
  },
  {
   "cell_type": "code",
   "execution_count": 193,
   "metadata": {},
   "outputs": [
    {
     "data": {
      "text/latex": [
       "$\\left(  - \\mathrm{sum}\\left( y \\cdot \\mathrm{logsoftmax}\\left( ŷ \\right) \\cdot weight \\right) \\right) \\cdot \\mathrm{//}\\left( 1, \\mathrm{size}\\left( y, 2 \\right) \\right)$"
      ],
      "text/plain": [
       "L\"$\\left(  - \\mathrm{sum}\\left( y \\cdot \\mathrm{logsoftmax}\\left( ŷ \\right) \\cdot weight \\right) \\right) \\cdot \\mathrm{//}\\left( 1, \\mathrm{size}\\left( y, 2 \\right) \\right)$\""
      ]
     },
     "execution_count": 193,
     "metadata": {},
     "output_type": "execute_result"
    }
   ],
   "source": [
    "latexify(\"-sum(y .* logsoftmax(ŷ) .* weight) * 1 // size(y, 2)\")"
   ]
  },
  {
   "cell_type": "code",
   "execution_count": 138,
   "metadata": {},
   "outputs": [
    {
     "name": "stdout",
     "output_type": "stream",
     "text": [
      "$$\\left(  - \\mathrm{sum}\\left( y \\cdot \\mathrm{logsoftmax}\\left( ŷ \\right) \\cdot weight \\right) \\right) \\cdot \\mathrm{//}\\left( 1, \\mathrm{size}\\left( y, 2 \\right) \\right)$$"
     ]
    }
   ],
   "source": [
    "lat(\"-sum(y .* logsoftmax(ŷ) .* weight) * 1 // size(y, 2)\")"
   ]
  },
  {
   "attachments": {
    "ca2ba5ce-2547-4085-b852-887c284420f6.png": {
     "image/png": "[encoded data removed]"
    }
   },
   "cell_type": "markdown",
   "metadata": {},
   "source": [
    "## MarginRanking\n",
    "![image.png](attachment:ca2ba5ce-2547-4085-b852-887c284420f6.png)\n",
    "- Creates a criterion that measures the loss given inputs x1x1x1 , x2x2x2 , two 1D mini-batch Tensors, and a label 1D mini-batch tensor yyy (containing 1 or -1).\n",
    "- If y=1y = 1y=1 then it assumed the first input should be ranked higher (have a larger value) than the second input, and vice-versa for y=−1y = -1y=−1 .\n",
    "- take avg"
   ]
  },
  {
   "cell_type": "code",
   "execution_count": 40,
   "metadata": {},
   "outputs": [
    {
     "data": {
      "text/plain": [
       "marginranking (generic function with 2 methods)"
      ]
     },
     "execution_count": 40,
     "metadata": {},
     "output_type": "execute_result"
    }
   ],
   "source": [
    "marginranking(x1,x2,y,margin=0.0) = (1/length(y))*sum(max.(0, -y.*(x1.-x2).+margin))"
   ]
  },
  {
   "cell_type": "code",
   "execution_count": 41,
   "metadata": {},
   "outputs": [
    {
     "data": {
      "text/plain": [
       "0.16292236220029824"
      ]
     },
     "execution_count": 41,
     "metadata": {},
     "output_type": "execute_result"
    }
   ],
   "source": [
    "marginranking(rand(50,2),rand(50,2),y)"
   ]
  },
  {
   "cell_type": "code",
   "execution_count": 118,
   "metadata": {},
   "outputs": [
    {
     "name": "stdout",
     "output_type": "stream",
     "text": [
      "$\\frac{1}{\\mathrm{length}\\left( y \\right)} \\cdot \\mathrm{sum}\\left( \\mathrm{max}\\left( 0, \\left(  - y \\right) \\cdot x1 - x2 + margin \\right) \\right)$"
     ]
    }
   ],
   "source": [
    "lat(\"(1/length(y))*sum(max.(0, -y.*(x1.-x2).+margin))\")"
   ]
  },
  {
   "cell_type": "markdown",
   "metadata": {},
   "source": [
    "## Multi Label Margin "
   ]
  },
  {
   "cell_type": "code",
   "execution_count": null,
   "metadata": {},
   "outputs": [],
   "source": []
  },
  {
   "attachments": {
    "82a735d4-a1b5-45ef-9d9e-d1dad1079c8c.png": {
     "image/png": "[encoded data removed]"
    }
   },
   "cell_type": "markdown",
   "metadata": {},
   "source": [
    "## Huber/Smooth L1/Smooth MAE\n",
    "- ![image.png](attachment:82a735d4-a1b5-45ef-9d9e-d1dad1079c8c.png)\n",
    "- It is less sensitive to outliers than the MSELoss and in some cases prevents exploding gradients\n",
    "- Fast RCNN\n"
   ]
  },
  {
   "cell_type": "code",
   "execution_count": 42,
   "metadata": {},
   "outputs": [
    {
     "data": {
      "text/plain": [
       "huber (generic function with 1 method)"
      ]
     },
     "execution_count": 42,
     "metadata": {},
     "output_type": "execute_result"
    }
   ],
   "source": [
    "function huber(y,ŷ) \n",
    "    \n",
    "    if count(x->x==0, all.(abs.(y.-ŷ).<1.0))>=1\n",
    "        return (1/length(y)).*sum(0.5 .*(y .- ŷ).^2)\n",
    "    else\n",
    "        return (1/length(y)).*sum(abs.(y .- ŷ).-0.5)\n",
    "    end\n",
    "end"
   ]
  },
  {
   "cell_type": "code",
   "execution_count": 122,
   "metadata": {},
   "outputs": [
    {
     "name": "stdout",
     "output_type": "stream",
     "text": [
      "$\\left( \\left\\|y - ŷ\\right\\| \\lt 1.0 \\right)$"
     ]
    }
   ],
   "source": [
    "lat(\" (abs.(y.-ŷ).<1.0)\")"
   ]
  },
  {
   "cell_type": "code",
   "execution_count": 123,
   "metadata": {},
   "outputs": [
    {
     "name": "stdout",
     "output_type": "stream",
     "text": [
      "$\\frac{1}{\\mathrm{length}\\left( y \\right)} \\cdot \\mathrm{sum}\\left( \\left\\|y - ŷ\\right\\| - 0.5 \\right)$"
     ]
    }
   ],
   "source": [
    "lat(\" (1/length(y)).*sum(abs.(y .- ŷ).-0.5)\")"
   ]
  },
  {
   "cell_type": "code",
   "execution_count": 43,
   "metadata": {},
   "outputs": [
    {
     "data": {
      "text/plain": [
       "-0.15485723106169677"
      ]
     },
     "execution_count": 43,
     "metadata": {},
     "output_type": "execute_result"
    }
   ],
   "source": [
    "huber(y,ŷ)"
   ]
  },
  {
   "cell_type": "markdown",
   "metadata": {},
   "source": [
    "## CTC\n",
    "- train: calculate the loss value to train the NN\n",
    "- infer: decode the matrix to get the text contained in the input image\n"
   ]
  },
  {
   "cell_type": "code",
   "execution_count": null,
   "metadata": {},
   "outputs": [],
   "source": []
  },
  {
   "attachments": {
    "11624ceb-1c39-44ae-8e9c-72cdc9e36f3d.png": {
     "image/png": "[encoded data removed]"
    }
   },
   "cell_type": "markdown",
   "metadata": {},
   "source": [
    "## NLL\n",
    "![image.png](attachment:11624ceb-1c39-44ae-8e9c-72cdc9e36f3d.png)\n",
    "- Classification,  Smaller quicker training, Simple tasks."
   ]
  },
  {
   "cell_type": "code",
   "execution_count": 44,
   "metadata": {},
   "outputs": [
    {
     "data": {
      "text/plain": [
       "nll (generic function with 2 methods)"
      ]
     },
     "execution_count": 44,
     "metadata": {},
     "output_type": "execute_result"
    }
   ],
   "source": [
    "nll(y) = -sum(log.(y))\n",
    "nll(x,y) = -sum(log.(y))"
   ]
  },
  {
   "cell_type": "code",
   "execution_count": 45,
   "metadata": {},
   "outputs": [
    {
     "data": {
      "text/plain": [
       "55.084533667981475"
      ]
     },
     "execution_count": 45,
     "metadata": {},
     "output_type": "execute_result"
    }
   ],
   "source": [
    "nll(y)"
   ]
  },
  {
   "cell_type": "code",
   "execution_count": 139,
   "metadata": {},
   "outputs": [
    {
     "name": "stdout",
     "output_type": "stream",
     "text": [
      "$$ - \\mathrm{sum}\\left( \\log\\left( y \\right) \\right)$$"
     ]
    }
   ],
   "source": [
    "lat(\"-sum(log.(y))\")"
   ]
  },
  {
   "attachments": {
    "5394c2d1-64dc-49dc-b4f0-d80d62f9a3f7.png": {
     "image/png": "[encoded data removed]"
    }
   },
   "cell_type": "markdown",
   "metadata": {},
   "source": [
    "## BCE\n",
    "![image.png](attachment:5394c2d1-64dc-49dc-b4f0-d80d62f9a3f7.png)\n",
    "- classification 2 cat"
   ]
  },
  {
   "cell_type": "code",
   "execution_count": 46,
   "metadata": {},
   "outputs": [
    {
     "data": {
      "text/plain": [
       "bce (generic function with 1 method)"
      ]
     },
     "execution_count": 46,
     "metadata": {},
     "output_type": "execute_result"
    }
   ],
   "source": [
    "bce(y,ŷ) = (1/length(y))*sum(y.*log.(ŷ).+(log.(1 .-y).*log.(1 .-ŷ)))"
   ]
  },
  {
   "cell_type": "code",
   "execution_count": 140,
   "metadata": {},
   "outputs": [
    {
     "name": "stdout",
     "output_type": "stream",
     "text": [
      "$$\\frac{1}{\\mathrm{length}\\left( y \\right)} \\cdot \\mathrm{sum}\\left( y \\cdot \\log\\left( ŷ \\right) + \\log\\left( 1 - y \\right) \\cdot \\log\\left( 1 - ŷ \\right) \\right)$$"
     ]
    }
   ],
   "source": [
    "lat(\"(1/length(y))*sum(y.*log.(ŷ).+(log.(1 .-y).*log.(1 .-ŷ)))\")"
   ]
  },
  {
   "cell_type": "code",
   "execution_count": 47,
   "metadata": {},
   "outputs": [
    {
     "data": {
      "text/plain": [
       "0.3799912364361439"
      ]
     },
     "execution_count": 47,
     "metadata": {},
     "output_type": "execute_result"
    }
   ],
   "source": [
    "bce(y,ŷ)"
   ]
  },
  {
   "attachments": {
    "c8b0f359-5330-414c-894a-87c956eb9986.png": {
     "image/png": "[encoded data removed]"
    }
   },
   "cell_type": "markdown",
   "metadata": {},
   "source": [
    "## CategoricalCE \n",
    "![image.png](attachment:c8b0f359-5330-414c-894a-87c956eb9986.png)\n",
    "- classification n cat"
   ]
  },
  {
   "cell_type": "code",
   "execution_count": 48,
   "metadata": {},
   "outputs": [
    {
     "data": {
      "text/plain": [
       "cce (generic function with 1 method)"
      ]
     },
     "execution_count": 48,
     "metadata": {},
     "output_type": "execute_result"
    }
   ],
   "source": [
    "cce(y,ŷ) = -sum(y.*log.(ŷ))"
   ]
  },
  {
   "cell_type": "code",
   "execution_count": 141,
   "metadata": {},
   "outputs": [
    {
     "name": "stdout",
     "output_type": "stream",
     "text": [
      "$$ - \\mathrm{sum}\\left( y \\cdot \\log\\left( ŷ \\right) \\right)$$"
     ]
    }
   ],
   "source": [
    "lat(\"-sum(y.*log.(ŷ))\")"
   ]
  },
  {
   "cell_type": "code",
   "execution_count": 49,
   "metadata": {},
   "outputs": [
    {
     "data": {
      "text/plain": [
       "25.421823158124266"
      ]
     },
     "execution_count": 49,
     "metadata": {},
     "output_type": "execute_result"
    }
   ],
   "source": [
    "cce(y,ŷ)"
   ]
  },
  {
   "attachments": {
    "6cbb7628-1096-442d-9cb8-01cfdaa2caff.png": {
     "image/png": "[encoded data removed]"
    },
    "c0457b4e-d519-48dc-9af0-ebd75dc94c6c.png": {
     "image/png": "[encoded data removed]"
    }
   },
   "cell_type": "markdown",
   "metadata": {},
   "source": [
    "## Cosine Similar\n",
    "- ![image.png](attachment:c0457b4e-d519-48dc-9af0-ebd75dc94c6c.png)\n",
    "- l2 ![image.png](attachment:6cbb7628-1096-442d-9cb8-01cfdaa2caff.png)"
   ]
  },
  {
   "cell_type": "code",
   "execution_count": 50,
   "metadata": {},
   "outputs": [
    {
     "data": {
      "text/plain": [
       "cosinesimilarity (generic function with 1 method)"
      ]
     },
     "execution_count": 50,
     "metadata": {},
     "output_type": "execute_result"
    }
   ],
   "source": [
    "l2_norm(x) = sqrt.(sum((abs.(x).^2)))\n",
    "function cosinesimilarity(y,ŷ)\n",
    "    return -sum(l2_norm(y).*l2_norm(ŷ))\n",
    "end"
   ]
  },
  {
   "cell_type": "code",
   "execution_count": 143,
   "metadata": {},
   "outputs": [
    {
     "name": "stdout",
     "output_type": "stream",
     "text": [
      "$$\\sqrt{\\mathrm{sum}\\left( \\left( \\left\\|x\\right\\| \\right)^{2} \\right)}$$"
     ]
    }
   ],
   "source": [
    "lat(\" sqrt.(sum((abs.(x).^2)))\")"
   ]
  },
  {
   "cell_type": "code",
   "execution_count": 145,
   "metadata": {},
   "outputs": [
    {
     "name": "stdout",
     "output_type": "stream",
     "text": [
      "$$ - \\mathrm{sum}\\left( \\mathrm{l2norm}\\left( y \\right) \\cdot \\mathrm{l2norm}\\left( ŷ \\right) \\right)$$"
     ]
    }
   ],
   "source": [
    "lat(\"-sum(l2norm(y).*l2norm(ŷ))\")"
   ]
  },
  {
   "cell_type": "code",
   "execution_count": 51,
   "metadata": {},
   "outputs": [
    {
     "data": {
      "text/plain": [
       "-16.47813249289978"
      ]
     },
     "execution_count": 51,
     "metadata": {},
     "output_type": "execute_result"
    }
   ],
   "source": [
    "cosinesimilarity(y,ŷ)"
   ]
  },
  {
   "attachments": {
    "0ddacd88-3e1e-46b7-b2e0-aeb88d6ef05b.png": {
     "image/png": "[encoded data removed]"
    }
   },
   "cell_type": "markdown",
   "metadata": {},
   "source": [
    "## Hinge (categorical)\n",
    "- ![image.png](attachment:0ddacd88-3e1e-46b7-b2e0-aeb88d6ef05b.png)\n",
    "- Classification\n",
    "- SVMs\n",
    "- the w are weights of the model (wow)"
   ]
  },
  {
   "cell_type": "code",
   "execution_count": 189,
   "metadata": {},
   "outputs": [
    {
     "data": {
      "text/plain": [
       "hinge (generic function with 1 method)"
      ]
     },
     "execution_count": 189,
     "metadata": {},
     "output_type": "execute_result"
    }
   ],
   "source": [
    "hinge(x,w_y,w_t) = max.(0,1 .+ max.(w_y.*x .- w_t.*x))"
   ]
  },
  {
   "cell_type": "code",
   "execution_count": 190,
   "metadata": {},
   "outputs": [
    {
     "name": "stdout",
     "output_type": "stream",
     "text": [
      "$$\\mathrm{max}\\left( 0, 1 + \\mathrm{max}\\left( w_{y} \\cdot x - w_{t} \\cdot x \\right) \\right)$$"
     ]
    }
   ],
   "source": [
    "lat(\"max(0,1 .+ max(w_y.*x .- w_t.*x))\")"
   ]
  },
  {
   "cell_type": "code",
   "execution_count": 191,
   "metadata": {
    "scrolled": true
   },
   "outputs": [
    {
     "data": {
      "text/plain": [
       "50×1 Array{Float64,2}:\n",
       " 1.1230599374893364\n",
       " 0.8477913927957573\n",
       " 1.3843418963504173\n",
       " 1.2491294012328966\n",
       " 0.9653291139676401\n",
       " 0.8484011053991836\n",
       " 0.9456116958097014\n",
       " 1.3310736984832086\n",
       " 1.0531412159028846\n",
       " 0.8738349372435419\n",
       " 1.14437875373705\n",
       " 1.2055167023164706\n",
       " 1.008779213307181\n",
       " ⋮\n",
       " 0.9772626237931125\n",
       " 1.6487815194912914\n",
       " 1.129888664642388\n",
       " 1.1295089623721197\n",
       " 0.926707405655999\n",
       " 1.0012096398789605\n",
       " 1.354682984142723\n",
       " 0.8842267398406938\n",
       " 1.2692625674380063\n",
       " 1.392194916792535\n",
       " 0.9846578412089632\n",
       " 1.022818607760263"
      ]
     },
     "execution_count": 191,
     "metadata": {},
     "output_type": "execute_result"
    }
   ],
   "source": [
    "hinge(y,y,ŷ)"
   ]
  },
  {
   "attachments": {
    "8cb3143d-f358-4227-b872-2e2de87a33df.png": {
     "image/png": "[encoded data removed]"
    }
   },
   "cell_type": "markdown",
   "metadata": {},
   "source": [
    "## KL Divergence\n",
    "![image.png](attachment:8cb3143d-f358-4227-b872-2e2de87a33df.png)\n",
    "- Classification\n",
    "- Same can be achieved with cross entropy with lesser computation, so avoid it."
   ]
  },
  {
   "cell_type": "code",
   "execution_count": 73,
   "metadata": {},
   "outputs": [
    {
     "data": {
      "text/plain": [
       "xlogx (generic function with 1 method)"
      ]
     },
     "execution_count": 73,
     "metadata": {},
     "output_type": "execute_result"
    }
   ],
   "source": [
    "function xlogx(x)\n",
    "  result = x * log(x)\n",
    "  ifelse(iszero(x), zero(result), result)\n",
    "end"
   ]
  },
  {
   "cell_type": "code",
   "execution_count": 78,
   "metadata": {},
   "outputs": [
    {
     "data": {
      "text/plain": [
       "kldivergence (generic function with 1 method)"
      ]
     },
     "execution_count": 78,
     "metadata": {},
     "output_type": "execute_result"
    }
   ],
   "source": [
    "function kldivergence( y,ŷ)\n",
    "  entropy = sum(xlogx.(y)) * 1 //size(y,2)\n",
    "  cross_entropy = cce(ŷ, y)\n",
    "  return entropy + cross_entropy\n",
    "end"
   ]
  },
  {
   "cell_type": "code",
   "execution_count": 79,
   "metadata": {},
   "outputs": [
    {
     "data": {
      "text/plain": [
       "17.853432789010057"
      ]
     },
     "execution_count": 79,
     "metadata": {},
     "output_type": "execute_result"
    }
   ],
   "source": [
    "kldivergence(y,ŷ)"
   ]
  },
  {
   "cell_type": "code",
   "execution_count": 150,
   "metadata": {},
   "outputs": [
    {
     "name": "stdout",
     "output_type": "stream",
     "text": [
      "$$entropy + crossentropy$$"
     ]
    }
   ],
   "source": [
    "lat(\" entropy + crossentropy\")"
   ]
  },
  {
   "attachments": {
    "830d4b79-83c3-4dc1-9f2e-a7db3ca1570e.png": {
     "image/png": "[encoded data removed]"
    }
   },
   "cell_type": "markdown",
   "metadata": {},
   "source": [
    "## Log Cosh\n",
    "![image.png](attachment:830d4b79-83c3-4dc1-9f2e-a7db3ca1570e.png)\n",
    "- works like the MSE, but is smoothed towards large errors (presumably caused by outliers) so that the final error score isn’t impacted thoroughly."
   ]
  },
  {
   "cell_type": "code",
   "execution_count": 54,
   "metadata": {},
   "outputs": [
    {
     "data": {
      "text/plain": [
       "logcosh (generic function with 1 method)"
      ]
     },
     "execution_count": 54,
     "metadata": {},
     "output_type": "execute_result"
    }
   ],
   "source": [
    "softplus(x) = log.(exp.(x).+1)\n",
    "function logcosh(y,ŷ)\n",
    "    x = ŷ - y\n",
    "    return mean(x.+softplus(-2 .*x) .- log(2.))\n",
    "end"
   ]
  },
  {
   "cell_type": "code",
   "execution_count": 152,
   "metadata": {},
   "outputs": [
    {
     "name": "stdout",
     "output_type": "stream",
     "text": [
      "$$x = ŷ - y$$"
     ]
    }
   ],
   "source": [
    "lat(\"x = ŷ - y\")"
   ]
  },
  {
   "cell_type": "code",
   "execution_count": 153,
   "metadata": {},
   "outputs": [
    {
     "name": "stdout",
     "output_type": "stream",
     "text": [
      "$$\\mathrm{mean}\\left( x + \\mathrm{softplus}\\left( -2 \\cdot x \\right) - \\log\\left( 2.0 \\right) \\right)$$"
     ]
    }
   ],
   "source": [
    "lat(\"mean(x.+softplus(-2 .*x) .- log(2.))\")"
   ]
  },
  {
   "cell_type": "code",
   "execution_count": 55,
   "metadata": {},
   "outputs": [
    {
     "data": {
      "text/plain": [
       "0.08194916703578882"
      ]
     },
     "execution_count": 55,
     "metadata": {},
     "output_type": "execute_result"
    }
   ],
   "source": [
    "logcosh(y,ŷ)"
   ]
  },
  {
   "attachments": {
    "610f8d82-a235-4e2b-8762-c521e3b079f1.png": {
     "image/png": "[encoded data removed]"
    }
   },
   "cell_type": "markdown",
   "metadata": {},
   "source": [
    "## MAE == L1\n",
    "- Mean absolute error\n",
    "![image.png](attachment:610f8d82-a235-4e2b-8762-c521e3b079f1.png)\n",
    "- Use Mean absolute error when you are doing regression and don’t want outliers to play a big role. It can also be useful if you know that your distribution is multimodal, and it’s desirable to have predictions at one of the modes, rather than at the mean of them.\n",
    "- Denoising, reconstruction"
   ]
  },
  {
   "cell_type": "code",
   "execution_count": 56,
   "metadata": {},
   "outputs": [
    {
     "data": {
      "text/plain": [
       "mae (generic function with 2 methods)"
      ]
     },
     "execution_count": 56,
     "metadata": {},
     "output_type": "execute_result"
    }
   ],
   "source": [
    "function mae(y,ŷ,reduction= \"mean\") \n",
    "    if reduction==\"mean\"\n",
    "        return (1/length(y))*sum(abs.(y .- ŷ))\n",
    "    elseif reduction==\"sum\"\n",
    "        return sum(abs.(y .- ŷ))\n",
    "    end\n",
    "end"
   ]
  },
  {
   "cell_type": "code",
   "execution_count": 154,
   "metadata": {},
   "outputs": [
    {
     "name": "stdout",
     "output_type": "stream",
     "text": [
      "$$\\frac{1}{\\mathrm{length}\\left( y \\right)} \\cdot \\mathrm{sum}\\left( \\left\\|y - ŷ\\right\\| \\right)$$"
     ]
    }
   ],
   "source": [
    "lat(\"(1/length(y))*sum(abs.(y .- ŷ))\")"
   ]
  },
  {
   "cell_type": "code",
   "execution_count": 155,
   "metadata": {},
   "outputs": [
    {
     "name": "stdout",
     "output_type": "stream",
     "text": [
      "$$\\mathrm{sum}\\left( \\left\\|y - ŷ\\right\\| \\right)$$"
     ]
    }
   ],
   "source": [
    "lat(\"sum(abs.(y .- ŷ))\")"
   ]
  },
  {
   "cell_type": "code",
   "execution_count": 57,
   "metadata": {},
   "outputs": [
    {
     "data": {
      "text/plain": [
       "0.34514276893830326"
      ]
     },
     "execution_count": 57,
     "metadata": {},
     "output_type": "execute_result"
    }
   ],
   "source": [
    "mae(y,ŷ)"
   ]
  },
  {
   "cell_type": "code",
   "execution_count": 58,
   "metadata": {},
   "outputs": [
    {
     "data": {
      "text/plain": [
       "17.257138446915164"
      ]
     },
     "execution_count": 58,
     "metadata": {},
     "output_type": "execute_result"
    }
   ],
   "source": [
    "mae(y,ŷ,\"sum\")"
   ]
  },
  {
   "attachments": {
    "636d2b2c-5417-4ef9-9d2a-5f35250f1aac.png": {
     "image/png": "[encoded data removed]"
    }
   },
   "cell_type": "markdown",
   "metadata": {},
   "source": [
    "## MAPE\n",
    "- mean absolute % error\n",
    "![image.png](attachment:636d2b2c-5417-4ef9-9d2a-5f35250f1aac.png)"
   ]
  },
  {
   "cell_type": "code",
   "execution_count": 164,
   "metadata": {},
   "outputs": [
    {
     "data": {
      "text/plain": [
       "mape (generic function with 1 method)"
      ]
     },
     "execution_count": 164,
     "metadata": {},
     "output_type": "execute_result"
    }
   ],
   "source": [
    "mape(y,ŷ) = (1/length(y))*sum( abs.((y-ŷ)/y))"
   ]
  },
  {
   "cell_type": "code",
   "execution_count": 166,
   "metadata": {},
   "outputs": [
    {
     "name": "stdout",
     "output_type": "stream",
     "text": [
      "$$\\frac{1}{\\mathrm{length}\\left( y \\right)} \\cdot \\mathrm{sum}\\left( \\left\\|\\frac{y - ŷ}{y}\\right\\| \\right)$$"
     ]
    }
   ],
   "source": [
    "lat(\"(1/length(y))*sum( abs.((y-ŷ)/y))\")"
   ]
  },
  {
   "cell_type": "code",
   "execution_count": 165,
   "metadata": {},
   "outputs": [
    {
     "data": {
      "text/plain": [
       "0.4843105364548849"
      ]
     },
     "execution_count": 165,
     "metadata": {},
     "output_type": "execute_result"
    }
   ],
   "source": [
    "mape(y,ŷ)"
   ]
  },
  {
   "cell_type": "markdown",
   "metadata": {},
   "source": [
    "## MSLE\n",
    "- Mean squared log error\n",
    "- ![image.png](attachment:41644a1e-6909-4aa1-9497-f84385925a53.png)\n",
    "- Use MSLE when doing regression, believing that your target, conditioned on the input, is normally distributed, and you don’t want large errors to be significantly more penalized than small ones, in those cases where the range of the target value is large."
   ]
  },
  {
   "cell_type": "code",
   "execution_count": 59,
   "metadata": {},
   "outputs": [
    {
     "data": {
      "text/plain": [
       "msle (generic function with 1 method)"
      ]
     },
     "execution_count": 59,
     "metadata": {},
     "output_type": "execute_result"
    }
   ],
   "source": [
    "msle(y,ŷ) = (1/length(y))*sum((log.(y.+1).-log.(ŷ.+1)).^2)"
   ]
  },
  {
   "cell_type": "code",
   "execution_count": 167,
   "metadata": {},
   "outputs": [
    {
     "name": "stdout",
     "output_type": "stream",
     "text": [
      "$$\\frac{1}{\\mathrm{length}\\left( y \\right)} \\cdot \\mathrm{sum}\\left( \\left( \\log\\left( y + 1 \\right) - \\log\\left( ŷ + 1 \\right) \\right)^{2} \\right)$$"
     ]
    }
   ],
   "source": [
    "lat(\"(1/length(y))*sum((log.(y.+1).-log.(ŷ.+1)).^2)\")"
   ]
  },
  {
   "cell_type": "code",
   "execution_count": 60,
   "metadata": {},
   "outputs": [
    {
     "data": {
      "text/plain": [
       "0.08500279352255234"
      ]
     },
     "execution_count": 60,
     "metadata": {},
     "output_type": "execute_result"
    }
   ],
   "source": [
    "msle(y,ŷ)"
   ]
  },
  {
   "cell_type": "markdown",
   "metadata": {},
   "source": [
    "## MSE\n",
    "- Regression"
   ]
  },
  {
   "cell_type": "code",
   "execution_count": 61,
   "metadata": {},
   "outputs": [
    {
     "data": {
      "text/plain": [
       "mse (generic function with 2 methods)"
      ]
     },
     "execution_count": 61,
     "metadata": {},
     "output_type": "execute_result"
    }
   ],
   "source": [
    "function mse(y,ŷ,reduction= \"mean\") \n",
    "    if reduction==\"mean\"\n",
    "        return (1/length(y))*sum((y .- ŷ).^2 )\n",
    "    elseif reduction==\"sum\"\n",
    "        return sum((y .- ŷ).^2 )\n",
    "    end\n",
    "end"
   ]
  },
  {
   "cell_type": "code",
   "execution_count": 168,
   "metadata": {},
   "outputs": [
    {
     "name": "stdout",
     "output_type": "stream",
     "text": [
      "$$\\frac{1}{\\mathrm{length}\\left( y \\right)} \\cdot \\mathrm{sum}\\left( \\left( y - ŷ \\right)^{2} \\right)$$"
     ]
    }
   ],
   "source": [
    "lat(\"(1/length(y))*sum((y .- ŷ).^2 )\")"
   ]
  },
  {
   "cell_type": "code",
   "execution_count": 170,
   "metadata": {},
   "outputs": [
    {
     "name": "stdout",
     "output_type": "stream",
     "text": [
      "$$\\mathrm{sum}\\left( \\left( y - ŷ \\right)^{2} \\right)$$"
     ]
    }
   ],
   "source": [
    "lat(\"sum((y .- ŷ).^2 )\")"
   ]
  },
  {
   "cell_type": "code",
   "execution_count": 62,
   "metadata": {},
   "outputs": [
    {
     "data": {
      "text/plain": [
       "0.17457429030284874"
      ]
     },
     "execution_count": 62,
     "metadata": {},
     "output_type": "execute_result"
    }
   ],
   "source": [
    "mse(y,ŷ)"
   ]
  },
  {
   "cell_type": "code",
   "execution_count": 63,
   "metadata": {},
   "outputs": [
    {
     "data": {
      "text/plain": [
       "8.728714515142437"
      ]
     },
     "execution_count": 63,
     "metadata": {},
     "output_type": "execute_result"
    }
   ],
   "source": [
    "mse(y,ŷ,\"sum\")"
   ]
  },
  {
   "cell_type": "markdown",
   "metadata": {},
   "source": [
    "## RMSE"
   ]
  },
  {
   "cell_type": "code",
   "execution_count": 64,
   "metadata": {},
   "outputs": [
    {
     "data": {
      "text/plain": [
       "rmse (generic function with 2 methods)"
      ]
     },
     "execution_count": 64,
     "metadata": {},
     "output_type": "execute_result"
    }
   ],
   "source": [
    "function rmse(y,ŷ,reduction= \"mean\") \n",
    "    if reduction==\"mean\"\n",
    "        return  sqrt((1/2)*sum((y .- ŷ).^2 ))\n",
    "    elseif reduction==\"sum\"\n",
    "        return sqrt(sum((y .- ŷ).^2 ))\n",
    "    end\n",
    "end"
   ]
  },
  {
   "cell_type": "code",
   "execution_count": 171,
   "metadata": {},
   "outputs": [
    {
     "name": "stdout",
     "output_type": "stream",
     "text": [
      "$$\\sqrt{\\frac{1}{2} \\cdot \\mathrm{sum}\\left( \\left( y - ŷ \\right)^{2} \\right)}$$"
     ]
    }
   ],
   "source": [
    "lat(\"sqrt((1/2)*sum((y .- ŷ).^2 ))\")"
   ]
  },
  {
   "cell_type": "code",
   "execution_count": 172,
   "metadata": {},
   "outputs": [
    {
     "name": "stdout",
     "output_type": "stream",
     "text": [
      "$$\\sqrt{\\mathrm{sum}\\left( \\left( y - ŷ \\right)^{2} \\right)}$$"
     ]
    }
   ],
   "source": [
    "lat(\"sqrt(sum((y .- ŷ).^2 ))\")"
   ]
  },
  {
   "cell_type": "code",
   "execution_count": 65,
   "metadata": {},
   "outputs": [
    {
     "data": {
      "text/plain": [
       "2.089104415191165"
      ]
     },
     "execution_count": 65,
     "metadata": {},
     "output_type": "execute_result"
    }
   ],
   "source": [
    "rmse(y,ŷ)"
   ]
  },
  {
   "cell_type": "code",
   "execution_count": 66,
   "metadata": {},
   "outputs": [
    {
     "data": {
      "text/plain": [
       "2.9544397971768586"
      ]
     },
     "execution_count": 66,
     "metadata": {},
     "output_type": "execute_result"
    }
   ],
   "source": [
    "rmse(y,ŷ,\"sum\")"
   ]
  },
  {
   "attachments": {
    "3fbcd015-4527-445e-9153-1e13bbe62f07.png": {
     "image/png": "[encoded data removed]"
    }
   },
   "cell_type": "markdown",
   "metadata": {},
   "source": [
    "## Poisson\n",
    "![image.png](attachment:3fbcd015-4527-445e-9153-1e13bbe62f07.png)\n",
    "- When data is from poisson distr"
   ]
  },
  {
   "cell_type": "code",
   "execution_count": 67,
   "metadata": {},
   "outputs": [
    {
     "data": {
      "text/plain": [
       "poisson (generic function with 1 method)"
      ]
     },
     "execution_count": 67,
     "metadata": {},
     "output_type": "execute_result"
    }
   ],
   "source": [
    "\n",
    "poisson(y,ŷ) = (1/length(y))*sum(ŷ.-log.(ŷ))"
   ]
  },
  {
   "cell_type": "code",
   "execution_count": 173,
   "metadata": {},
   "outputs": [
    {
     "name": "stdout",
     "output_type": "stream",
     "text": [
      "$$\\frac{1}{\\mathrm{length}\\left( y \\right)} \\cdot \\mathrm{sum}\\left( ŷ - \\log\\left( ŷ \\right) \\right)$$"
     ]
    }
   ],
   "source": [
    "lat(\" (1/length(y))*sum(ŷ.-log.(ŷ))\")"
   ]
  },
  {
   "cell_type": "code",
   "execution_count": 68,
   "metadata": {},
   "outputs": [
    {
     "data": {
      "text/plain": [
       "1.520098134349592"
      ]
     },
     "execution_count": 68,
     "metadata": {},
     "output_type": "execute_result"
    }
   ],
   "source": [
    "poisson(y,ŷ)"
   ]
  },
  {
   "attachments": {
    "5ac6350c-866c-4202-aa80-b7c58d9b082e.png": {
     "image/png": "[encoded data removed]"
    }
   },
   "cell_type": "markdown",
   "metadata": {},
   "source": [
    "## Sparse CE\n",
    "![image.png](attachment:5ac6350c-866c-4202-aa80-b7c58d9b082e.png)"
   ]
  },
  {
   "cell_type": "code",
   "execution_count": 106,
   "metadata": {},
   "outputs": [
    {
     "data": {
      "text/plain": [
       "sparsece (generic function with 1 method)"
      ]
     },
     "execution_count": 106,
     "metadata": {},
     "output_type": "execute_result"
    }
   ],
   "source": [
    "\n",
    "sparsece(y,ŷ) = -sum(ŷ.*log.(ŷ))"
   ]
  },
  {
   "cell_type": "code",
   "execution_count": 174,
   "metadata": {},
   "outputs": [
    {
     "name": "stdout",
     "output_type": "stream",
     "text": [
      "$$ - \\mathrm{sum}\\left( ŷ \\cdot \\log\\left( ŷ \\right) \\right)$$"
     ]
    }
   ],
   "source": [
    "lat(\"-sum(ŷ.*log.(ŷ))\")"
   ]
  },
  {
   "cell_type": "code",
   "execution_count": 107,
   "metadata": {},
   "outputs": [
    {
     "data": {
      "text/plain": [
       "12.133270080434077"
      ]
     },
     "execution_count": 107,
     "metadata": {},
     "output_type": "execute_result"
    }
   ],
   "source": [
    "sparsece(y,ŷ)"
   ]
  },
  {
   "attachments": {
    "2f4d20a9-3d4e-4a31-b284-30496f08b3a0.png": {
     "image/png": "[encoded data removed]"
    }
   },
   "cell_type": "markdown",
   "metadata": {},
   "source": [
    "## Squared Hinge\n",
    "![image.png](attachment:2f4d20a9-3d4e-4a31-b284-30496f08b3a0.png)\n",
    "- problems involving yes/no (binary) decisions and when you’re not interested in knowing how certain the classifier is about the classification\n",
    "- tanh for last layer\n",
    "- maximum margin"
   ]
  },
  {
   "cell_type": "code",
   "execution_count": 69,
   "metadata": {},
   "outputs": [
    {
     "data": {
      "text/plain": [
       "squaredhinge (generic function with 1 method)"
      ]
     },
     "execution_count": 69,
     "metadata": {},
     "output_type": "execute_result"
    }
   ],
   "source": [
    "\n",
    "squaredhinge(y,ŷ) = sum(max.(0,1 .-(y.*ŷ)).^2)"
   ]
  },
  {
   "cell_type": "code",
   "execution_count": 175,
   "metadata": {},
   "outputs": [
    {
     "name": "stdout",
     "output_type": "stream",
     "text": [
      "$$\\mathrm{sum}\\left( \\left( \\mathrm{max}\\left( 0, 1 - y \\cdot ŷ \\right) \\right)^{2} \\right)$$"
     ]
    }
   ],
   "source": [
    "lat(\"sum(max.(0,1 .-(y.*ŷ)).^2)\")"
   ]
  },
  {
   "cell_type": "code",
   "execution_count": 70,
   "metadata": {},
   "outputs": [
    {
     "data": {
      "text/plain": [
       "31.097072238603694"
      ]
     },
     "execution_count": 70,
     "metadata": {},
     "output_type": "execute_result"
    }
   ],
   "source": [
    "squaredhinge(y,ŷ)"
   ]
  },
  {
   "cell_type": "markdown",
   "metadata": {},
   "source": [
    "## Soft margin"
   ]
  },
  {
   "cell_type": "code",
   "execution_count": null,
   "metadata": {},
   "outputs": [],
   "source": []
  },
  {
   "cell_type": "markdown",
   "metadata": {},
   "source": [
    "## Multi Label Soft margin"
   ]
  },
  {
   "cell_type": "code",
   "execution_count": null,
   "metadata": {},
   "outputs": [],
   "source": []
  },
  {
   "cell_type": "markdown",
   "metadata": {},
   "source": [
    "## Triplet margin\n",
    "- Requires tuples of anchor, positive, negative \n",
    "- alpha is the distance between positive and negative sample, arbitrarily set to 0.3"
   ]
  },
  {
   "cell_type": "code",
   "execution_count": 104,
   "metadata": {},
   "outputs": [
    {
     "data": {
      "text/plain": [
       "tripletloss (generic function with 3 methods)"
      ]
     },
     "execution_count": 104,
     "metadata": {},
     "output_type": "execute_result"
    }
   ],
   "source": [
    "function tripletloss(anchor , positive, negative, α = 0.3)\n",
    "    pos_distance = (anchor.-positive).^2 .+ (-1)\n",
    "    neg_distance =  (anchor.-negative).^2 .+ (-1)\n",
    "    loss_1 = (pos_distance.-neg_distance).+α\n",
    "    return sum(max.(loss_1, 0.0))\n",
    "end"
   ]
  },
  {
   "cell_type": "markdown",
   "metadata": {},
   "source": [
    "We first find the positive distance $$pos{distance} = \\left( anchor - positive \\right)^{2} -1$$\n",
    "\n",
    "Then the negative distance $$neg{distance} = \\left( anchor - negative \\right)^{2} -1$$\n",
    "\n",
    "Then the temporary loss $$pos{distance} - neg{distance} + \\alpha$$\n",
    "\n",
    "And the final loss $$\\mathrm{sum}\\left( \\mathrm{max}\\left( loss_{1}, 0.0 \\right) \\right)$$"
   ]
  },
  {
   "cell_type": "code",
   "execution_count": 178,
   "metadata": {},
   "outputs": [
    {
     "name": "stdout",
     "output_type": "stream",
     "text": [
      "$$\\mathrm{sum}\\left( \\mathrm{max}\\left( loss_{1}, 0.0 \\right) \\right)$$"
     ]
    }
   ],
   "source": [
    "lat(\"  sum(max.(loss_1, 0.0))\")"
   ]
  },
  {
   "cell_type": "code",
   "execution_count": 105,
   "metadata": {},
   "outputs": [
    {
     "data": {
      "text/plain": [
       "2.7292673915531056"
      ]
     },
     "execution_count": 105,
     "metadata": {},
     "output_type": "execute_result"
    }
   ],
   "source": [
    "tripletloss(y, ŷ,-ŷ)"
   ]
  }
 ],
 "metadata": {
  "kernelspec": {
   "display_name": "Julia 1.4.1",
   "language": "julia",
   "name": "julia-1.4"
  },
  "language_info": {
   "file_extension": ".jl",
   "mimetype": "application/julia",
   "name": "julia",
   "version": "1.4.1"
  }
 },
 "nbformat": 4,
 "nbformat_minor": 4
}
