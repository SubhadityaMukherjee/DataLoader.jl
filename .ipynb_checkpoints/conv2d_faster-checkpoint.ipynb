{
 "cells": [
  {
   "cell_type": "markdown",
   "metadata": {},
   "source": [
    "# Old"
   ]
  },
  {
   "cell_type": "code",
   "execution_count": 1,
   "metadata": {},
   "outputs": [
    {
     "data": {
      "text/plain": [
       "conv2d (generic function with 3 methods)"
      ]
     },
     "execution_count": 1,
     "metadata": {},
     "output_type": "execute_result"
    }
   ],
   "source": [
    "function conv2d(img, kernel, stride = 1, padding = \"valid\")\n",
    "    input_h, input_w = size(img)\n",
    "    kernel_h, kernel_w = size(kernel)\n",
    "    \n",
    "    if padding == \"same\"\n",
    "        pad_h = (kernel_h-1) ÷ 2\n",
    "        pad_w = (kernel_w-1) ÷ 2\n",
    "        \n",
    "        img_padded = zeros(input_h+(2*pad_h),input_w+(2*pad_w))\n",
    "        \n",
    "        for i in 1:input_h , j in 1:input_w\n",
    "            img_padded[i+pad_h, j+pad_w] = img[i,j]\n",
    "        end\n",
    "        \n",
    "    elseif padding == \"valid\"\n",
    "    else\n",
    "        throw(DomainError(padding, \"Invalid padding value\"))\n",
    "    end\n",
    "    \n",
    "    result = zeros((input_h- kernel_h) ÷ stride +1 ,(input_w- kernel_w) ÷ stride +1 )\n",
    "    result_h, result_w = size(result)\n",
    "    \n",
    "    ih, iw = 1, 1\n",
    "    for i in 1: result_h\n",
    "        for j in 1: result_w\n",
    "            for k in 1:kernel_h\n",
    "                for l in 1:kernel_w\n",
    "                    result[i,j] += img[ih+k-1, iw+l-1]*kernel[k,l]\n",
    "                end\n",
    "            end\n",
    "            ih+=stride\n",
    "        end\n",
    "        iw+= stride\n",
    "        ih = 1\n",
    "    end\n",
    "    return result\n",
    "end"
   ]
  },
  {
   "cell_type": "code",
   "execution_count": 2,
   "metadata": {},
   "outputs": [],
   "source": [
    "img = rand(Float32,1000,1000)\n",
    "kernel = rand(Float32,15,15);"
   ]
  },
  {
   "cell_type": "code",
   "execution_count": 3,
   "metadata": {
    "scrolled": true
   },
   "outputs": [
    {
     "name": "stdout",
     "output_type": "stream",
     "text": [
      "  0.521730 seconds (63.23 k allocations: 10.666 MiB)\n"
     ]
    },
    {
     "data": {
      "text/plain": [
       "986×986 Array{Float64,2}:\n",
       " 61.0058  63.0363  61.4648  61.9932  …  59.0185  61.2962  59.0614  58.7558\n",
       " 62.8072  60.8278  61.2984  62.2295     59.7577  60.4585  58.825   57.3948\n",
       " 61.6264  62.3058  60.1915  61.7963     58.2725  60.2993  60.669   59.5288\n",
       " 60.398   62.1876  61.3257  64.4278     59.5904  59.9651  58.8041  61.2687\n",
       " 59.2836  61.5057  59.9321  60.156      62.6159  61.2288  58.4625  57.626\n",
       " 60.9848  61.251   63.5031  63.7711  …  59.7282  59.1463  60.668   59.1625\n",
       " 59.6902  60.4638  60.2091  59.4504     59.6118  58.0     58.7756  55.6248\n",
       " 59.2396  60.5142  62.2245  61.647      58.8285  57.5694  56.3702  57.3272\n",
       " 55.86    57.3453  59.0372  58.3352     56.6679  59.3034  57.9823  53.6218\n",
       " 56.6829  57.7709  60.0337  58.5975     55.6539  55.6162  57.4648  57.7506\n",
       " 58.1509  58.8623  58.1123  60.8276  …  57.5348  56.6942  59.6804  57.0398\n",
       " 55.9031  56.0094  57.5034  58.3488     53.7084  56.3024  59.8366  56.0869\n",
       " 56.771   55.766   57.113   57.5667     55.2141  57.8263  59.6232  56.4508\n",
       "  ⋮                                  ⋱                              ⋮\n",
       " 53.7631  58.4068  58.2158  59.9735     57.5383  59.37    59.687   58.9148\n",
       " 57.828   55.9859  57.0562  60.5871  …  57.7559  57.7578  57.7436  57.5913\n",
       " 59.1844  58.7149  60.6206  57.4235     59.5089  57.6779  57.7195  58.351\n",
       " 58.8546  57.9768  59.5667  60.6332     61.0661  57.2212  60.3868  57.1817\n",
       " 57.3061  59.1222  58.6126  60.126      57.3554  60.8141  59.6045  58.6565\n",
       " 58.0953  59.9556  57.0995  59.9903     61.0265  58.9687  59.3039  57.9925\n",
       " 58.3764  60.9584  61.6085  61.6818  …  56.3114  59.7343  59.5057  56.6791\n",
       " 57.8779  58.6971  60.9583  59.8141     57.0625  59.6253  58.8648  58.5258\n",
       " 56.7038  54.405   59.3227  58.4551     56.8856  60.2659  59.3064  56.6324\n",
       " 58.7655  62.4957  58.6535  57.0934     56.6603  58.8631  56.6326  56.5548\n",
       " 58.7501  60.2009  60.9766  58.0598     57.8484  59.5222  59.9476  56.8054\n",
       " 59.1233  59.0001  58.4216  56.5313  …  57.1508  58.0958  57.331   58.9044"
      ]
     },
     "execution_count": 3,
     "metadata": {},
     "output_type": "execute_result"
    }
   ],
   "source": [
    "@time conv2d(img,kernel)"
   ]
  },
  {
   "cell_type": "code",
   "execution_count": null,
   "metadata": {},
   "outputs": [],
   "source": []
  },
  {
   "cell_type": "markdown",
   "metadata": {},
   "source": [
    "# Loops P1"
   ]
  },
  {
   "cell_type": "code",
   "execution_count": 4,
   "metadata": {},
   "outputs": [],
   "source": [
    "using FFTW"
   ]
  },
  {
   "cell_type": "code",
   "execution_count": 5,
   "metadata": {},
   "outputs": [],
   "source": [
    "img = rand(1000,1000)\n",
    "kernel = rand(15,15);"
   ]
  },
  {
   "cell_type": "code",
   "execution_count": 3,
   "metadata": {},
   "outputs": [
    {
     "data": {
      "text/plain": [
       "conv2d_gpu (generic function with 3 methods)"
      ]
     },
     "execution_count": 3,
     "metadata": {},
     "output_type": "execute_result"
    }
   ],
   "source": [
    "function conv2d_gpu(img, kernel, stride = 1, padding = \"valid\")\n",
    "    input_h, input_w = size(img)\n",
    "    kernel_h, kernel_w = size(kernel)\n",
    "    \n",
    "    if padding == \"same\"\n",
    "        pad_h = (kernel_h-1) ÷ 2\n",
    "        pad_w = (kernel_w-1) ÷ 2\n",
    "        img_padded = zeros(input_h+(2*pad_h),input_w+(2*pad_w))\n",
    "        for i in 1:input_h , j in 1:input_w\n",
    "            img_padded[i+pad_h, j+pad_w] = img[i,j]\n",
    "            img = img_padded\n",
    "        end\n",
    "    elseif padding == \"valid\"\n",
    "    else\n",
    "        throw(DomainError(padding, \"Invalid padding value\"))\n",
    "    end\n",
    "    @info size(img)\n",
    "    result = zeros((input_h- kernel_h) ÷ stride +1 ,(input_w- kernel_w) ÷ stride +1 )\n",
    "    result_h, result_w = size(result)\n",
    "    \n",
    "  ih, iw = 1, 1\n",
    "    for i in 1: result_h\n",
    "        for j in 1: result_w\n",
    "#             for k in 1:kernel_h\n",
    "#                 for l in 1:kernel_w\n",
    "# #                     result[i,j] += img[ih+k-1, iw+l-1]*kernel[k,l]\n",
    "                    \n",
    "#                 end\n",
    "#             end\n",
    "             result[i,j] +=ifft(fft(img[ih+k-1, iw+l-1])*fft(kernel))\n",
    "            ih+=stride\n",
    "        end\n",
    "        iw+= stride\n",
    "        ih = 1\n",
    "    end\n",
    "    return result\n",
    "end"
   ]
  },
  {
   "cell_type": "code",
   "execution_count": 4,
   "metadata": {
    "scrolled": true
   },
   "outputs": [
    {
     "name": "stderr",
     "output_type": "stream",
     "text": [
      "┌ Info: (1000, 1000)\n",
      "└ @ Main In[3]:17\n"
     ]
    },
    {
     "ename": "MethodError",
     "evalue": "MethodError: no method matching fft(::Float64)\nClosest candidates are:\n  fft(!Matched::AbstractArray{#s12,N} where N where #s12<:Real) at /home/subhaditya/.julia/packages/AbstractFFTs/mhQvY/src/definitions.jl:198\n  fft(!Matched::AbstractArray{#s13,N} where N where #s13<:Real, !Matched::Any) at /home/subhaditya/.julia/packages/AbstractFFTs/mhQvY/src/definitions.jl:198\n  fft(!Matched::AbstractArray{#s18,N} where N where #s18<:(Complex{#s19} where #s19<:Union{Integer, Rational})) at /home/subhaditya/.julia/packages/AbstractFFTs/mhQvY/src/definitions.jl:200\n  ...",
     "output_type": "error",
     "traceback": [
      "MethodError: no method matching fft(::Float64)\nClosest candidates are:\n  fft(!Matched::AbstractArray{#s12,N} where N where #s12<:Real) at /home/subhaditya/.julia/packages/AbstractFFTs/mhQvY/src/definitions.jl:198\n  fft(!Matched::AbstractArray{#s13,N} where N where #s13<:Real, !Matched::Any) at /home/subhaditya/.julia/packages/AbstractFFTs/mhQvY/src/definitions.jl:198\n  fft(!Matched::AbstractArray{#s18,N} where N where #s18<:(Complex{#s19} where #s19<:Union{Integer, Rational})) at /home/subhaditya/.julia/packages/AbstractFFTs/mhQvY/src/definitions.jl:200\n  ...",
      "",
      "Stacktrace:",
      " [1] conv2d_gpu(::Array{Float64,2}, ::Array{Float64,2}, ::Int64, ::String) at ./In[3]:27",
      " [2] conv2d_gpu(::Array{Float64,2}, ::Array{Float64,2}) at ./In[3]:2",
      " [3] macro expansion at ./util.jl:175 [inlined]",
      " [4] top-level scope at ./In[4]:1"
     ]
    }
   ],
   "source": [
    "# @time \n",
    "@time conv2d_gpu(img,kernel)"
   ]
  },
  {
   "cell_type": "code",
   "execution_count": null,
   "metadata": {},
   "outputs": [],
   "source": []
  },
  {
   "cell_type": "code",
   "execution_count": null,
   "metadata": {},
   "outputs": [],
   "source": []
  },
  {
   "cell_type": "code",
   "execution_count": null,
   "metadata": {},
   "outputs": [],
   "source": []
  },
  {
   "cell_type": "code",
   "execution_count": null,
   "metadata": {},
   "outputs": [],
   "source": []
  },
  {
   "cell_type": "markdown",
   "metadata": {},
   "source": [
    "# CuDA\n"
   ]
  },
  {
   "cell_type": "code",
   "execution_count": 28,
   "metadata": {
    "scrolled": true
   },
   "outputs": [],
   "source": [
    "using CUDA,GPUArrays,CUDA.CUFFT"
   ]
  },
  {
   "cell_type": "code",
   "execution_count": 6,
   "metadata": {},
   "outputs": [],
   "source": [
    "img = rand(1000,1000)\n",
    "kernel = rand(15,15);"
   ]
  },
  {
   "cell_type": "code",
   "execution_count": 26,
   "metadata": {},
   "outputs": [],
   "source": [
    "# CUBLAS.cublasLoggerConfigure(1, 0, 1, C_NULL)"
   ]
  },
  {
   "cell_type": "code",
   "execution_count": 29,
   "metadata": {},
   "outputs": [],
   "source": [
    "CUDA.allowscalar(true)"
   ]
  },
  {
   "cell_type": "code",
   "execution_count": 15,
   "metadata": {},
   "outputs": [
    {
     "name": "stderr",
     "output_type": "stream",
     "text": [
      "┌ Info: Precompiling Images [916415d5-f1e6-5110-898d-aaa5f9f070e0]\n",
      "└ @ Base loading.jl:1260\n"
     ]
    }
   ],
   "source": [
    "using Images,ImageViewew"
   ]
  },
  {
   "cell_type": "code",
   "execution_count": null,
   "metadata": {},
   "outputs": [],
   "source": [
    "function conv2d_fft(img, kernel, stride = 1, padding = \"valid\")\n",
    "    input_h, input_w = size(img)\n",
    "    kernel_h, kernel_w = size(kernel)\n",
    "    pad_h = (kernel_h-1) ÷ 2\n",
    "    pad_w = (kernel_w-1) ÷ 2\n",
    "\n",
    "    img_padded = zeros(input_h+(2*pad_h),input_w+(2*pad_w))\n",
    "    em_kernel = zeros(size(img_padded))\n",
    "    @info size(em_kernel)\n",
    "    \n",
    "\n",
    "    for i in 1:input_h , j in 1:input_w\n",
    "        img_padded[i+pad_h, j+pad_w] = img[i,j]\n",
    "    end\n",
    "    imshow(img_padded)\n",
    "#     @info size(img_padded), size(kernel)\n",
    "    \n",
    "    \n",
    "end"
   ]
  },
  {
   "cell_type": "code",
   "execution_count": 13,
   "metadata": {
    "scrolled": true
   },
   "outputs": [
    {
     "name": "stdout",
     "output_type": "stream",
     "text": [
      "  0.052876 seconds (146.95 k allocations: 22.505 MiB)\n"
     ]
    },
    {
     "name": "stderr",
     "output_type": "stream",
     "text": [
      "┌ Info: (1014, 1014)\n",
      "└ @ Main In[12]:9\n"
     ]
    }
   ],
   "source": [
    "@time conv2d_fft(img,kernel)"
   ]
  },
  {
   "cell_type": "code",
   "execution_count": 14,
   "metadata": {},
   "outputs": [
    {
     "ename": "UndefVarError",
     "evalue": "UndefVarError: img_padded not defined",
     "output_type": "error",
     "traceback": [
      "UndefVarError: img_padded not defined",
      "",
      "Stacktrace:",
      " [1] top-level scope at In[14]:1"
     ]
    }
   ],
   "source": [
    "img_padded"
   ]
  },
  {
   "cell_type": "markdown",
   "metadata": {},
   "source": [
    "# FFT"
   ]
  },
  {
   "cell_type": "markdown",
   "metadata": {},
   "source": [
    "$f*g= 𝔉^{-1}\\big\\{𝔉\\{f\\}\\cdot 𝔉\\{g\\}\\big\\}$"
   ]
  },
  {
   "cell_type": "code",
   "execution_count": 18,
   "metadata": {},
   "outputs": [
    {
     "ename": "ErrorException",
     "evalue": "error in method definition: function Base.* must be explicitly imported to be extended",
     "output_type": "error",
     "traceback": [
      "error in method definition: function Base.* must be explicitly imported to be extended",
      "",
      "Stacktrace:",
      " [1] top-level scope at none:0",
      " [2] top-level scope at In[18]:1"
     ]
    }
   ],
   "source": [
    "𝔉"
   ]
  },
  {
   "cell_type": "code",
   "execution_count": null,
   "metadata": {},
   "outputs": [],
   "source": []
  },
  {
   "cell_type": "code",
   "execution_count": 31,
   "metadata": {},
   "outputs": [],
   "source": [
    "using CUDA.CUFFT"
   ]
  },
  {
   "cell_type": "code",
   "execution_count": 43,
   "metadata": {
    "scrolled": true
   },
   "outputs": [
    {
     "name": "stdout",
     "output_type": "stream",
     "text": [
      "  0.001866 seconds (742 allocations: 23.516 KiB)\n"
     ]
    },
    {
     "name": "stderr",
     "output_type": "stream",
     "text": [
      "I! cuBLAS (v10.2) function cublasStatus_t cublasZgemm_v2(cublasContext*, cublasOperation_t, cublasOperation_t, int, int, int, const cuDoubleComplex*, const cuDoubleComplex*, int, const cuDoubleComplex*, int, const cuDoubleComplex*, cuDoubleComplex*, int) called:\n",
      "i!  handle: type=cublasHandle_t; val=POINTER (IN HEX:0x0xb8ed650)\n",
      "i!  transa: type=cublasOperation_t; val=CUBLAS_OP_N(0)\n",
      "i!  transb: type=cublasOperation_t; val=CUBLAS_OP_N(0)\n",
      "i!  m: type=int; val=1000\n",
      "i!  n: type=int; val=1000\n",
      "i!  k: type=int; val=1000\n",
      "i!  alpha: type=SOME TYPE; val=POINTER (IN HEX:0x0x7ff4149185f0)\n",
      "i!  A: type=SOME TYPE; val=POINTER (IN HEX:0x0x7ff111000000)\n",
      "i!  lda: type=int; val=1000\n",
      "i!  B: type=SOME TYPE; val=POINTER (IN HEX:0x0x7ff116000000)\n",
      "i!  ldb: type=int; val=1000\n",
      "i!  beta: type=SOME TYPE; val=POINTER (IN HEX:0x0x7ff414918650)\n",
      "i!  C: type=SOME TYPE; val=POINTER (IN HEX:0x0x7ff11d000000)\n",
      "i!  ldc: type=int; val=1000\n",
      "i! Time: 2020-07-03T20:32:01 elapsed from start 9.666667 minutes or 580.000000 seconds\n",
      "i!Process=2925538; Thread=140688492732928; GPU=0; Handle=POINTER (IN HEX:0x0xb8ed650); StreamId=POINTER (IN HEX:0x(nil)) (defaultStream); MathMode=CUBLAS_DEFAULT_MATH\n",
      "i! COMPILED WITH: GNU GCC/G++ / 4.1.2 20080704 (Red Hat 4.1.2-48)\n",
      "I! cuBLAS (v10.2) function cublasStatus_t cublasZscal_v2(cublasContext*, int, const cuDoubleComplex*, cuDoubleComplex*, int) called:\n",
      "i!  handle: type=cublasHandle_t; val=POINTER (IN HEX:0x0xb8ed650)\n",
      "i!  n: type=int; val=1000000\n",
      "i!  alpha: type=SOME TYPE; val=POINTER (IN HEX:0x0x7ff414235930)\n",
      "i!  x: type=SOME TYPE; val=POINTER (IN HEX:0x0x7ff11f000000)\n",
      "i!  incx: type=int; val=1\n",
      "i! Time: 2020-07-03T20:32:01 elapsed from start 9.666667 minutes or 580.000000 seconds\n",
      "i!Process=2925538; Thread=140688492732928; GPU=0; Handle=POINTER (IN HEX:0x0xb8ed650); StreamId=POINTER (IN HEX:0x(nil)) (defaultStream); MathMode=CUBLAS_DEFAULT_MATH\n",
      "i! COMPILED WITH: GNU GCC/G++ / 4.1.2 20080704 (Red Hat 4.1.2-48)\n"
     ]
    },
    {
     "data": {
      "text/plain": [
       "1000×1000 CuArray{Complex{Float64},2,Nothing}:\n",
       " 243012.0-2.21743e-12im  248462.0+4.01465e-12im  …  241187.0-2.52501e-12im\n",
       " 246895.0+3.073e-12im    252705.0+6.76299e-13im     246505.0+2.79914e-13im\n",
       " 244040.0+1.29822e-12im  248105.0-5.81032e-13im     241536.0-1.12949e-12im\n",
       " 243674.0+2.3766e-12im   252479.0-7.71853e-12im     241838.0+2.15367e-12im\n",
       " 245296.0-8.24491e-12im  252462.0+1.12814e-12im     246401.0+5.69911e-13im\n",
       " 242099.0-6.79953e-12im  252635.0-4.2406e-12im   …  242305.0+4.35187e-12im\n",
       " 238863.0+3.01047e-12im  250017.0+1.15065e-13im     239439.0+1.7488e-12im\n",
       " 235779.0-5.5786e-12im   244164.0-1.35589e-12im     228264.0-4.2733e-12im\n",
       " 251754.0+2.63911e-12im  255426.0+1.13083e-12im     244159.0+5.11367e-13im\n",
       " 246463.0-3.65313e-13im  255684.0-3.11646e-12im     243004.0+3.5881e-12im\n",
       " 254619.0+1.5321e-12im   255587.0+3.03261e-12im  …  249885.0+4.20335e-12im\n",
       " 245245.0+3.32796e-12im  256673.0+1.39922e-12im     250151.0+1.76742e-12im\n",
       " 255243.0+1.23851e-12im  265632.0-2.16189e-12im     257422.0-2.98085e-12im\n",
       "         ⋮                                       ⋱  \n",
       " 244818.0+6.62441e-12im  251014.0+7.39377e-12im     243364.0+3.02899e-12im\n",
       " 241017.0+1.44152e-12im  245957.0-2.62923e-12im     236984.0+4.89625e-14im\n",
       " 251698.0-3.24681e-12im  258307.0-2.82633e-12im  …  247840.0+6.68109e-12im\n",
       " 248690.0+2.07162e-12im  258984.0+2.44327e-12im     247645.0+2.58561e-12im\n",
       " 245718.0-4.49229e-12im  249999.0+3.60852e-12im     242592.0+2.12573e-12im\n",
       " 244819.0+1.19098e-12im  249867.0+9.95819e-14im     247011.0+5.48189e-13im\n",
       " 241148.0-6.95225e-12im  252256.0+3.22967e-12im     247586.0+7.10838e-14im\n",
       " 248212.0+6.34275e-13im  258727.0+1.55582e-13im  …  249217.0+4.78768e-12im\n",
       " 248823.0+3.84916e-12im  259700.0+9.16396e-14im     248409.0+6.17966e-12im\n",
       " 246188.0-2.18812e-12im  248735.0-2.80368e-12im     237524.0-1.81618e-12im\n",
       " 257155.0-2.52546e-12im  259552.0+3.57105e-13im     253329.0-4.33071e-12im\n",
       " 244657.0+4.63347e-12im  245488.0+4.00208e-12im     240919.0-2.34037e-12im"
      ]
     },
     "execution_count": 43,
     "metadata": {},
     "output_type": "execute_result"
    }
   ],
   "source": [
    "@time ifft(fft(img)*fft(img))"
   ]
  },
  {
   "cell_type": "code",
   "execution_count": null,
   "metadata": {},
   "outputs": [],
   "source": []
  },
  {
   "cell_type": "code",
   "execution_count": null,
   "metadata": {},
   "outputs": [],
   "source": []
  }
 ],
 "metadata": {
  "kernelspec": {
   "display_name": "Julia 1.4.1",
   "language": "julia",
   "name": "julia-1.4"
  },
  "language_info": {
   "file_extension": ".jl",
   "mimetype": "application/julia",
   "name": "julia",
   "version": "1.4.1"
  }
 },
 "nbformat": 4,
 "nbformat_minor": 4
}
