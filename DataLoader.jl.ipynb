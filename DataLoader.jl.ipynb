{
 "cells": [
  {
   "cell_type": "markdown",
   "metadata": {},
   "source": [
    "# Functionality to add\n",
    "- Databunch\n",
    "- Learner\n",
    "- Fit one cycle\n",
    "- Show batch"
   ]
  },
  {
   "cell_type": "code",
   "execution_count": 84,
   "metadata": {},
   "outputs": [
    {
     "name": "stderr",
     "output_type": "stream",
     "text": [
      "ERROR: ERROR: LoadError: LoadError: InterruptException:\n",
      "Stacktrace:InterruptException:\n",
      "Stacktrace:\n",
      " [1] _include_from_serialized(\n",
      " [1] ::poptaskref(String, ::Array{Any,1}) at ./loading.jl:681\n",
      " [2] _require_search_from_serialized(::Base.PkgId, ::String) at ./loading.jl:781\n",
      " [3] _tryrequire_from_serialized(::Base.PkgId, ::UInt64, ::String) at ./loading.jl:712\n",
      " [4] _require_search_from_serialized(::Base.PkgId, ::String) at ./loading.jl:770\n",
      " [5] _require(::Base.PkgId) at ./loading.jl:1006\n",
      " [6] require(::Base.PkgId) at ./loading.jl:927\n",
      " [7] require(::Module, ::Symbol) at ./loading.jl:922\n",
      " [8] include(::Module, ::String) at ./Base.jl:377\n",
      " [9] top-level scope at none:2\n",
      " [10] eval at ./boot.jl:331 [inlined]\n",
      " [11] eval(::Expr) at ./client.jl:449\n",
      " [12] top-level scope at ./none:3\n",
      "in expression starting at /home/subhaditya/.julia/packages/Flux/Fj3bt/src/Flux.jl:6\n",
      "::Base.InvasiveLinkedListSynchronized{Task}) at ./task.jl:702\n",
      " [2] wait at ./task.jl:709 [inlined]\n",
      " [3] wait(::Base.GenericCondition{Base.Threads.SpinLock}) at ./condition.jl:106\n",
      " [4] wait(::Base.Process) at ./process.jl:622\n",
      " [5] success at ./process.jl:483 [inlined]\n",
      " [6] compilecache(::Base.PkgId, ::String) at ./loading.jl:1262\n",
      " [7] _require(::Base.PkgId) at ./loading.jl:1029\n",
      " [8] require(::Base.PkgId) at ./loading.jl:927\n",
      " [9] require(::Module, ::Symbol) at ./loading.jl:922\n",
      " [10] include(::Module, ::String) at ./Base.jl:377\n",
      " [11] top-level scope at none:2\n",
      " [12] eval at ./boot.jl:331 [inlined]\n",
      " [13] eval(::Expr) at ./client.jl:449\n",
      " [14] top-level scope at ./none:3\n",
      "in expression starting at /home/subhaditya/.julia/packages/Metalhead/RZn9O/src/Metalhead.jl:4\n"
     ]
    },
    {
     "ename": "InterruptException",
     "evalue": "InterruptException:",
     "output_type": "error",
     "traceback": [
      "InterruptException:",
      "",
      "Stacktrace:",
      " [1] #notify#465 at ./condition.jl:124 [inlined]",
      " [2] _require(::Base.PkgId) at ./loading.jl:1068",
      " [3] require(::Base.PkgId) at ./loading.jl:927",
      " [4] require(::Module, ::Symbol) at ./loading.jl:922",
      " [5] top-level scope at In[84]:1"
     ]
    }
   ],
   "source": [
    "using Metalhead\n",
    "using FileIO\n",
    "using Images\n",
    "using Serialization\n",
    "using Random\n",
    "using Flux\n",
    "using Flux.Data: DataLoader\n",
    "using Flux.Optimise: Optimiser, WeightDecay\n",
    "using Flux: onehotbatch, onecold, logitcrossentropy\n",
    "using Statistics, Random\n",
    "import ProgressMeter\n",
    "using Parameters: @with_kw\n",
    "import MLDatasets\n",
    "import DrWatson: savename, struct2dict\n",
    "import BSON\n",
    "using CUDAapi\n",
    "using Plots\n",
    "import GR\n",
    "using Images\n",
    "using CuArrays\n",
    "using ImageView\n",
    "gr()"
   ]
  },
  {
   "cell_type": "markdown",
   "metadata": {},
   "source": [
    "# ImageList -> Playground"
   ]
  },
  {
   "cell_type": "markdown",
   "metadata": {},
   "source": [
    "## From folder"
   ]
  },
  {
   "cell_type": "code",
   "execution_count": 38,
   "metadata": {},
   "outputs": [
    {
     "ename": "InterruptException",
     "evalue": "InterruptException:",
     "output_type": "error",
     "traceback": [
      "InterruptException:",
      "",
      "Stacktrace:",
      " [1] display_dict(::Int64) at /home/subhaditya/.julia/packages/IJulia/DrVMH/src/display.jl:95",
      " [2] #invokelatest#1 at ./essentials.jl:712 [inlined]",
      " [3] invokelatest at ./essentials.jl:711 [inlined]",
      " [4] execute_request(::ZMQ.Socket, ::IJulia.Msg) at /home/subhaditya/.julia/packages/IJulia/DrVMH/src/execute_request.jl:112",
      " [5] #invokelatest#1 at ./essentials.jl:712 [inlined]",
      " [6] invokelatest at ./essentials.jl:711 [inlined]",
      " [7] eventloop(::ZMQ.Socket) at /home/subhaditya/.julia/packages/IJulia/DrVMH/src/eventloop.jl:8",
      " [8] (::IJulia.var\"#15#18\")() at ./task.jl:358"
     ]
    }
   ],
   "source": [
    "\n",
    "path = \"/media/subhaditya/DATA/COSMO/Datasets/catDog/\"\n",
    "\n",
    "categories = readdir(path)\n",
    "\n",
    "\n",
    "imageSize = 64"
   ]
  },
  {
   "cell_type": "code",
   "execution_count": 39,
   "metadata": {
    "scrolled": true
   },
   "outputs": [
    {
     "name": "stdout",
     "output_type": "stream",
     "text": [
      "  0.005223 seconds (12.52 k allocations: 696.953 KiB)\n"
     ]
    },
    {
     "data": {
      "text/plain": [
       "12502-element Array{String,1}:\n",
       " \"1.jpg\"\n",
       " \"10.jpg\"\n",
       " \"100.jpg\"\n",
       " \"1000.jpg\"\n",
       " \"10000.jpg\"\n",
       " \"10001.jpg\"\n",
       " \"10002.jpg\"\n",
       " \"10003.jpg\"\n",
       " \"10004.jpg\"\n",
       " \"10005.jpg\"\n",
       " \"10006.jpg\"\n",
       " \"10007.jpg\"\n",
       " \"10008.jpg\"\n",
       " ⋮\n",
       " \"999.jpg\"\n",
       " \"9990.jpg\"\n",
       " \"9991.jpg\"\n",
       " \"9992.jpg\"\n",
       " \"9993.jpg\"\n",
       " \"9994.jpg\"\n",
       " \"9995.jpg\"\n",
       " \"9996.jpg\"\n",
       " \"9997.jpg\"\n",
       " \"9998.jpg\"\n",
       " \"9999.jpg\"\n",
       " \"models\""
      ]
     },
     "execution_count": 39,
     "metadata": {},
     "output_type": "execute_result"
    }
   ],
   "source": [
    "@time test_folder = readdir(joinpath(path,\"cat\"))"
   ]
  },
  {
   "cell_type": "code",
   "execution_count": 40,
   "metadata": {
    "scrolled": true
   },
   "outputs": [
    {
     "data": {
      "text/plain": [
       "3×64×64 reinterpret(N0f8, ::Array{RGB{N0f8},3}):\n",
       "[:, :, 1] =\n",
       " 0.51   0.204  0.384  0.345  0.667  …  0.047  0.133  0.086  0.141  0.224\n",
       " 0.518  0.212  0.416  0.376  0.698     0.047  0.129  0.055  0.153  0.212\n",
       " 0.569  0.263  0.467  0.427  0.749     0.027  0.051  0.051  0.063  0.259\n",
       "\n",
       "[:, :, 2] =\n",
       " 0.592  0.247  0.431  0.655  0.659  …  0.176  0.094  0.137  0.055  0.2\n",
       " 0.6    0.255  0.463  0.686  0.69      0.173  0.075  0.129  0.047  0.196\n",
       " 0.651  0.302  0.514  0.737  0.741     0.118  0.082  0.043  0.059  0.133\n",
       "\n",
       "[:, :, 3] =\n",
       " 0.604  0.69   0.557  0.247  0.588  …  0.384  0.42   0.051  0.204  0.114\n",
       " 0.612  0.698  0.588  0.278  0.62      0.376  0.404  0.051  0.196  0.114\n",
       " 0.659  0.745  0.639  0.329  0.671     0.294  0.373  0.008  0.184  0.031\n",
       "\n",
       "...\n",
       "\n",
       "[:, :, 62] =\n",
       " 0.22   0.365  0.137  0.6    0.318  …  0.275  0.078  0.075  0.059  0.522\n",
       " 0.278  0.373  0.157  0.612  0.349     0.255  0.094  0.082  0.059  0.502\n",
       " 0.439  0.439  0.173  0.639  0.4       0.208  0.043  0.082  0.031  0.392\n",
       "\n",
       "[:, :, 63] =\n",
       " 0.027  0.329  0.047  0.584  0.643  …  0.067  0.071  0.071  0.2    0.086\n",
       " 0.208  0.404  0.071  0.592  0.675     0.051  0.075  0.047  0.192  0.075\n",
       " 0.392  0.459  0.075  0.639  0.725     0.063  0.075  0.039  0.137  0.059\n",
       "\n",
       "[:, :, 64] =\n",
       " 0.376  0.282  0.22   0.188  0.357  …  0.075  0.145  0.141  0.059  0.055\n",
       " 0.459  0.325  0.227  0.224  0.4       0.078  0.129  0.125  0.063  0.059\n",
       " 0.584  0.396  0.227  0.275  0.431     0.051  0.082  0.035  0.027  0.051"
      ]
     },
     "execution_count": 40,
     "metadata": {},
     "output_type": "execute_result"
    }
   ],
   "source": [
    "\n",
    "images =zeros((imageSize, imageSize, 3, size(test_folder, 1)));\n",
    "file_name = joinpath(path, \"cat\", \"9998.jpg\")\n",
    "img = channelview(imresize(load(file_name), (imageSize, imageSize)))\n"
   ]
  },
  {
   "cell_type": "code",
   "execution_count": 41,
   "metadata": {},
   "outputs": [
    {
     "data": {
      "text/plain": [
       "(64, 64, 3)"
      ]
     },
     "execution_count": 41,
     "metadata": {},
     "output_type": "execute_result"
    }
   ],
   "source": [
    "size(permutedims(img,(2,3,1)))"
   ]
  },
  {
   "cell_type": "code",
   "execution_count": 42,
   "metadata": {
    "scrolled": true
   },
   "outputs": [
    {
     "name": "stdout",
     "output_type": "stream",
     "text": [
      "  0.049365 seconds (116.22 k allocations: 5.776 MiB)\n"
     ]
    },
    {
     "data": {
      "text/plain": [
       "64×64×3 Array{N0f8,3} with eltype Normed{UInt8,8}:\n",
       "[:, :, 1] =\n",
       " 0.51   0.592  0.604  0.682  0.518  …  0.627  0.588  0.22   0.027  0.376\n",
       " 0.204  0.247  0.69   0.345  0.176     0.604  0.243  0.365  0.329  0.282\n",
       " 0.384  0.431  0.557  0.604  0.71      0.098  0.027  0.137  0.047  0.22\n",
       " 0.345  0.655  0.247  0.69   0.188     0.373  0.165  0.6    0.584  0.188\n",
       " 0.667  0.659  0.588  0.706  0.722     0.525  0.545  0.318  0.643  0.357\n",
       " 0.49   0.51   0.784  0.486  0.318  …  0.714  0.42   0.247  0.408  0.392\n",
       " 0.314  0.525  0.769  0.235  0.757     0.612  0.369  0.675  0.608  0.471\n",
       " 0.216  0.294  0.757  0.753  0.757     0.29   0.224  0.251  0.529  0.208\n",
       " 0.82   0.325  0.392  0.396  0.522     0.702  0.565  0.255  0.62   0.392\n",
       " 0.592  0.741  0.851  0.851  0.749     0.141  0.294  0.322  0.588  0.612\n",
       " 0.208  0.725  0.824  0.514  0.51   …  0.18   0.255  0.757  0.243  0.651\n",
       " 0.345  0.596  0.678  0.416  0.671     0.149  0.286  0.651  0.706  0.471\n",
       " 0.671  0.498  0.584  0.792  0.859     0.141  0.725  0.498  0.106  0.753\n",
       " ⋮                                  ⋱         ⋮                    \n",
       " 0.118  0.082  0.251  0.075  0.129     0.086  0.196  0.125  0.075  0.125\n",
       " 0.078  0.067  0.082  0.275  0.063     0.157  0.114  0.055  0.235  0.031\n",
       " 0.09   0.059  0.255  0.078  0.231     0.086  0.082  0.204  0.082  0.259\n",
       " 0.082  0.122  0.035  0.059  0.047  …  0.059  0.396  0.031  0.224  0.067\n",
       " 0.059  0.071  0.055  0.094  0.188     0.035  0.047  0.031  0.082  0.051\n",
       " 0.224  0.086  0.227  0.098  0.102     0.141  0.075  0.133  0.082  0.102\n",
       " 0.212  0.059  0.055  0.055  0.165     0.455  0.055  0.31   0.157  0.051\n",
       " 0.047  0.176  0.384  0.047  0.502     0.165  0.055  0.275  0.067  0.075\n",
       " 0.133  0.094  0.42   0.055  0.094  …  0.118  0.118  0.078  0.071  0.145\n",
       " 0.086  0.137  0.051  0.22   0.137     0.137  0.055  0.075  0.071  0.141\n",
       " 0.141  0.055  0.204  0.243  0.063     0.239  0.082  0.059  0.2    0.059\n",
       " 0.224  0.2    0.114  0.31   0.051     0.282  0.09   0.522  0.086  0.055\n",
       "\n",
       "[:, :, 2] =\n",
       " 0.518  0.6    0.612  0.69   0.525  …  0.592  0.482  0.278  0.208  0.459\n",
       " 0.212  0.255  0.698  0.353  0.184     0.557  0.227  0.373  0.404  0.325\n",
       " 0.416  0.463  0.588  0.624  0.718     0.114  0.051  0.157  0.071  0.227\n",
       " 0.376  0.686  0.278  0.71   0.196     0.412  0.169  0.612  0.592  0.224\n",
       " 0.698  0.69   0.62   0.733  0.749     0.529  0.576  0.349  0.675  0.4\n",
       " 0.522  0.541  0.816  0.514  0.345  …  0.718  0.451  0.278  0.439  0.424\n",
       " 0.361  0.557  0.796  0.267  0.796     0.639  0.404  0.71   0.643  0.49\n",
       " 0.263  0.325  0.784  0.784  0.796     0.318  0.251  0.278  0.557  0.278\n",
       " 0.851  0.369  0.451  0.439  0.549     0.714  0.573  0.267  0.655  0.42\n",
       " 0.635  0.769  0.863  0.871  0.784     0.157  0.329  0.349  0.596  0.635\n",
       " 0.259  0.761  0.847  0.537  0.537  …  0.22   0.294  0.788  0.271  0.659\n",
       " 0.361  0.627  0.725  0.467  0.718     0.188  0.322  0.682  0.733  0.522\n",
       " 0.675  0.506  0.612  0.824  0.894     0.169  0.776  0.545  0.153  0.761\n",
       " ⋮                                  ⋱         ⋮                    \n",
       " 0.118  0.086  0.247  0.075  0.133     0.086  0.2    0.129  0.078  0.122\n",
       " 0.075  0.063  0.09   0.29   0.071     0.157  0.094  0.055  0.259  0.059\n",
       " 0.082  0.051  0.255  0.082  0.231     0.086  0.09   0.212  0.09   0.259\n",
       " 0.086  0.122  0.035  0.078  0.055  …  0.063  0.4    0.027  0.227  0.055\n",
       " 0.055  0.075  0.059  0.071  0.161     0.039  0.043  0.027  0.078  0.051\n",
       " 0.22   0.086  0.231  0.075  0.098     0.141  0.078  0.141  0.082  0.106\n",
       " 0.22   0.055  0.059  0.047  0.165     0.447  0.055  0.314  0.153  0.055\n",
       " 0.047  0.173  0.376  0.039  0.49      0.145  0.051  0.255  0.051  0.078\n",
       " 0.129  0.075  0.404  0.059  0.082  …  0.11   0.129  0.094  0.075  0.129\n",
       " 0.055  0.129  0.051  0.22   0.133     0.157  0.024  0.082  0.047  0.125\n",
       " 0.153  0.047  0.196  0.235  0.055     0.243  0.067  0.059  0.192  0.063\n",
       " 0.212  0.196  0.114  0.314  0.059     0.322  0.094  0.502  0.075  0.059\n",
       "\n",
       "[:, :, 3] =\n",
       " 0.569  0.651  0.659  0.737  0.573  …  0.659  0.545  0.439  0.392  0.584\n",
       " 0.263  0.302  0.745  0.4    0.231     0.651  0.294  0.439  0.459  0.396\n",
       " 0.467  0.514  0.639  0.678  0.776     0.125  0.031  0.173  0.075  0.227\n",
       " 0.427  0.737  0.329  0.765  0.255     0.447  0.235  0.639  0.639  0.275\n",
       " 0.749  0.741  0.671  0.776  0.788     0.608  0.627  0.4    0.725  0.431\n",
       " 0.573  0.592  0.867  0.557  0.384  …  0.796  0.502  0.329  0.49   0.443\n",
       " 0.408  0.6    0.827  0.302  0.843     0.678  0.439  0.741  0.675  0.51\n",
       " 0.31   0.369  0.816  0.82   0.843     0.357  0.322  0.349  0.631  0.29\n",
       " 0.886  0.376  0.482  0.506  0.612     0.773  0.616  0.333  0.694  0.447\n",
       " 0.694  0.843  0.922  0.906  0.804     0.216  0.369  0.376  0.647  0.706\n",
       " 0.302  0.792  0.867  0.549  0.596  …  0.267  0.31   0.831  0.345  0.706\n",
       " 0.373  0.651  0.761  0.51   0.761     0.235  0.357  0.725  0.792  0.553\n",
       " 0.694  0.569  0.651  0.847  0.953     0.231  0.796  0.612  0.216  0.827\n",
       " ⋮                                  ⋱         ⋮                    \n",
       " 0.078  0.02   0.231  0.031  0.082     0.047  0.161  0.114  0.059  0.098\n",
       " 0.071  0.035  0.02   0.173  0.004     0.106  0.075  0.055  0.212  0.024\n",
       " 0.078  0.059  0.216  0.024  0.188     0.067  0.071  0.173  0.051  0.208\n",
       " 0.031  0.094  0.02   0.027  0.031  …  0.039  0.365  0.016  0.169  0.031\n",
       " 0.043  0.02   0.008  0.012  0.09      0.008  0.027  0.012  0.071  0.059\n",
       " 0.2    0.051  0.161  0.071  0.067     0.129  0.024  0.059  0.047  0.075\n",
       " 0.133  0.031  0.016  0.075  0.082     0.388  0.012  0.255  0.129  0.063\n",
       " 0.027  0.118  0.294  0.031  0.451     0.118  0.016  0.208  0.063  0.051\n",
       " 0.051  0.082  0.373  0.012  0.047  …  0.082  0.075  0.043  0.075  0.082\n",
       " 0.051  0.043  0.008  0.227  0.075     0.078  0.008  0.082  0.039  0.035\n",
       " 0.063  0.059  0.184  0.212  0.016     0.208  0.055  0.031  0.137  0.027\n",
       " 0.259  0.133  0.031  0.251  0.055     0.247  0.055  0.392  0.059  0.051"
      ]
     },
     "execution_count": 42,
     "metadata": {},
     "output_type": "execute_result"
    }
   ],
   "source": [
    "@time images[:,:,:,1] = permutedims(img,(2,3,1))"
   ]
  },
  {
   "cell_type": "code",
   "execution_count": 43,
   "metadata": {},
   "outputs": [
    {
     "data": {
      "text/plain": [
       "add_path (generic function with 1 method)"
      ]
     },
     "execution_count": 43,
     "metadata": {},
     "output_type": "execute_result"
    }
   ],
   "source": [
    "\n",
    "Threads.nthreads() = 8\n",
    "\n",
    "function add_path(cat::String)\n",
    "    temp_dir = readdir(joinpath(path,cat));\n",
    "    return [joinpath(path, cat,x) for x in temp_dir],fill(cat,size(temp_dir,1) )\n",
    "end"
   ]
  },
  {
   "cell_type": "code",
   "execution_count": 44,
   "metadata": {},
   "outputs": [],
   "source": [
    "\n",
    "total_files = collect(Iterators.flatten([add_path(x)[1] for x in categories]));\n",
    "total_categories = collect(Iterators.flatten([add_path(x)[2] for x in categories]));"
   ]
  },
  {
   "cell_type": "code",
   "execution_count": 45,
   "metadata": {},
   "outputs": [
    {
     "name": "stderr",
     "output_type": "stream",
     "text": [
      "Error encountered while loading \"/media/subhaditya/DATA/COSMO/Datasets/catDog/cat/10991.jpg\".\n",
      "\n",
      "Fatal error:\n"
     ]
    },
    {
     "ename": "TaskFailedException",
     "evalue": "TaskFailedException:\nInterruptException:\nStacktrace:\n [1] handle_error(::InterruptException, ::File{DataFormat{:JPEG}}) at /home/subhaditya/.julia/packages/FileIO/ZknoK/src/error_handling.jl:82\n [2] handle_exceptions(::Array{Any,1}, ::String) at /home/subhaditya/.julia/packages/FileIO/ZknoK/src/error_handling.jl:77\n [3] load(::FileIO.Formatted; options::Base.Iterators.Pairs{Union{},Union{},Tuple{},NamedTuple{(),Tuple{}}}) at /home/subhaditya/.julia/packages/FileIO/ZknoK/src/loadsave.jl:186\n [4] load at /home/subhaditya/.julia/packages/FileIO/ZknoK/src/loadsave.jl:166 [inlined]\n [5] #load#13 at /home/subhaditya/.julia/packages/FileIO/ZknoK/src/loadsave.jl:118 [inlined]\n [6] load(::String) at /home/subhaditya/.julia/packages/FileIO/ZknoK/src/loadsave.jl:118\n [7] macro expansion at ./In[45]:5 [inlined]\n [8] (::var\"#398#threadsfor_fun#23\"{UnitRange{Int64}})(::Bool) at ./threadingconstructs.jl:61\n [9] (::var\"#398#threadsfor_fun#23\"{UnitRange{Int64}})() at ./threadingconstructs.jl:28",
     "output_type": "error",
     "traceback": [
      "TaskFailedException:\nInterruptException:\nStacktrace:\n [1] handle_error(::InterruptException, ::File{DataFormat{:JPEG}}) at /home/subhaditya/.julia/packages/FileIO/ZknoK/src/error_handling.jl:82\n [2] handle_exceptions(::Array{Any,1}, ::String) at /home/subhaditya/.julia/packages/FileIO/ZknoK/src/error_handling.jl:77\n [3] load(::FileIO.Formatted; options::Base.Iterators.Pairs{Union{},Union{},Tuple{},NamedTuple{(),Tuple{}}}) at /home/subhaditya/.julia/packages/FileIO/ZknoK/src/loadsave.jl:186\n [4] load at /home/subhaditya/.julia/packages/FileIO/ZknoK/src/loadsave.jl:166 [inlined]\n [5] #load#13 at /home/subhaditya/.julia/packages/FileIO/ZknoK/src/loadsave.jl:118 [inlined]\n [6] load(::String) at /home/subhaditya/.julia/packages/FileIO/ZknoK/src/loadsave.jl:118\n [7] macro expansion at ./In[45]:5 [inlined]\n [8] (::var\"#398#threadsfor_fun#23\"{UnitRange{Int64}})(::Bool) at ./threadingconstructs.jl:61\n [9] (::var\"#398#threadsfor_fun#23\"{UnitRange{Int64}})() at ./threadingconstructs.jl:28",
      "",
      "Stacktrace:",
      " [1] wait(::Task) at ./task.jl:267",
      " [2] macro expansion at ./threadingconstructs.jl:69 [inlined]",
      " [3] macro expansion at ./util.jl:175 [inlined]",
      " [4] top-level scope at ./In[45]:3"
     ]
    }
   ],
   "source": [
    "\n",
    "images = zeros((imageSize, imageSize, 3, size(total_files,1)));\n",
    "\n",
    "@time Threads.@threads for idx in 1:size(total_files,1)\n",
    "    img = channelview(imresize(load(total_files[idx]), (imageSize, imageSize)))\n",
    "    images[:,:,:,idx] = permutedims(img,(2,3,1))\n",
    "    end"
   ]
  },
  {
   "cell_type": "code",
   "execution_count": 46,
   "metadata": {},
   "outputs": [
    {
     "data": {
      "text/plain": [
       "true"
      ]
     },
     "execution_count": 46,
     "metadata": {},
     "output_type": "execute_result"
    }
   ],
   "source": [
    "\n",
    "size(images,4) == size(total_categories,1)"
   ]
  },
  {
   "cell_type": "code",
   "execution_count": 47,
   "metadata": {},
   "outputs": [
    {
     "ename": "InterruptException",
     "evalue": "InterruptException:",
     "output_type": "error",
     "traceback": [
      "InterruptException:",
      "",
      "Stacktrace:",
      " [1] #invokelatest#1 at ./essentials.jl:712 [inlined]",
      " [2] invokelatest at ./essentials.jl:711 [inlined]",
      " [3] execute_request(::ZMQ.Socket, ::IJulia.Msg) at /home/subhaditya/.julia/packages/IJulia/DrVMH/src/execute_request.jl:111",
      " [4] #invokelatest#1 at ./essentials.jl:712 [inlined]",
      " [5] invokelatest at ./essentials.jl:711 [inlined]",
      " [6] eventloop(::ZMQ.Socket) at /home/subhaditya/.julia/packages/IJulia/DrVMH/src/eventloop.jl:8",
      " [7] (::IJulia.var\"#15#18\")() at ./task.jl:358"
     ]
    }
   ],
   "source": [
    "mb_idxs = Base.Iterators.partition(1:length(X), 64)"
   ]
  },
  {
   "cell_type": "code",
   "execution_count": null,
   "metadata": {},
   "outputs": [],
   "source": []
  },
  {
   "cell_type": "markdown",
   "metadata": {},
   "source": [
    "## "
   ]
  },
  {
   "cell_type": "code",
   "execution_count": null,
   "metadata": {},
   "outputs": [],
   "source": []
  },
  {
   "cell_type": "code",
   "execution_count": null,
   "metadata": {},
   "outputs": [],
   "source": []
  },
  {
   "cell_type": "markdown",
   "metadata": {},
   "source": [
    "# ImageList -> Main"
   ]
  },
  {
   "cell_type": "code",
   "execution_count": 48,
   "metadata": {},
   "outputs": [
    {
     "ename": "InterruptException",
     "evalue": "InterruptException:",
     "output_type": "error",
     "traceback": [
      "InterruptException:",
      "",
      "Stacktrace:",
      " [1] top-level scope at In[48]:1"
     ]
    }
   ],
   "source": [
    "#export\n",
    "using FileIO\n",
    "using Images\n",
    "using Serialization\n",
    "using Random\n",
    "using CUDAapi\n",
    "using Plots\n",
    "import GR\n",
    "using Images\n",
    "using CuArrays\n",
    "using ImageView\n",
    "using Statistics, Random\n",
    "import ProgressMeter\n",
    "using Distributions\n",
    "using Zygote\n",
    "gr()"
   ]
  },
  {
   "cell_type": "markdown",
   "metadata": {},
   "source": [
    "## fromFolder"
   ]
  },
  {
   "cell_type": "code",
   "execution_count": 49,
   "metadata": {},
   "outputs": [
    {
     "data": {
      "text/plain": [
       "add_path (generic function with 1 method)"
      ]
     },
     "execution_count": 49,
     "metadata": {},
     "output_type": "execute_result"
    }
   ],
   "source": [
    "#export\n",
    "# Helper function to add path to array\n",
    "function add_path(cat::String)\n",
    "    temp_dir = readdir(joinpath(path,cat));\n",
    "    return [joinpath(path, cat,x) for x in temp_dir],fill(cat,size(temp_dir,1) )\n",
    "end"
   ]
  },
  {
   "cell_type": "markdown",
   "metadata": {},
   "source": [
    "## Class Distribution"
   ]
  },
  {
   "cell_type": "code",
   "execution_count": 50,
   "metadata": {},
   "outputs": [
    {
     "data": {
      "text/plain": [
       "classDistribution (generic function with 1 method)"
      ]
     },
     "execution_count": 50,
     "metadata": {},
     "output_type": "execute_result"
    }
   ],
   "source": [
    "#export\n",
    "function classDistribution(y)\n",
    "    \"\"\"\n",
    "    Function to plot class distribution to see if balanced or not.\n",
    "    \"\"\"\n",
    "    labels = unique(y)\n",
    "    cnts = [sum(y .== i) for i in labels]\n",
    "    display(plot(cnts,seriestype = [:bar]))\n",
    "    return cnts,maximum(cnts)\n",
    "end"
   ]
  },
  {
   "cell_type": "code",
   "execution_count": 51,
   "metadata": {},
   "outputs": [
    {
     "data": {
      "text/plain": [
       "\"/media/subhaditya/DATA/COSMO/Datasets/catDog/\""
      ]
     },
     "execution_count": 51,
     "metadata": {},
     "output_type": "execute_result"
    }
   ],
   "source": [
    "#export\n",
    "path = \"/media/subhaditya/DATA/COSMO/Datasets/catDog/\""
   ]
  },
  {
   "cell_type": "code",
   "execution_count": 52,
   "metadata": {},
   "outputs": [
    {
     "ename": "InterruptException",
     "evalue": "InterruptException:",
     "output_type": "error",
     "traceback": [
      "InterruptException:",
      "",
      "Stacktrace:",
      " [1] try_yieldto(::typeof(Base.ensure_rescheduled), ::Base.RefValue{Task}) at ./task.jl:645",
      " [2] wait at ./task.jl:710 [inlined]",
      " [3] uv_write(::Base.PipeEndpoint, ::Ptr{UInt8}, ::UInt64) at ./stream.jl:935",
      " [4] flush(::Base.PipeEndpoint) at ./stream.jl:1020",
      " [5] flush at ./io.jl:312 [inlined]",
      " [6] flush(::IJulia.IJuliaStdio{Base.PipeEndpoint}) at /home/subhaditya/.julia/packages/IJulia/DrVMH/src/stdio.jl:273",
      " [7] flush_all() at /home/subhaditya/.julia/packages/IJulia/DrVMH/src/stdio.jl:257",
      " [8] execute_request(::ZMQ.Socket, ::IJulia.Msg) at /home/subhaditya/.julia/packages/IJulia/DrVMH/src/execute_request.jl:105",
      " [9] #invokelatest#1 at ./essentials.jl:712 [inlined]",
      " [10] invokelatest at ./essentials.jl:711 [inlined]",
      " [11] eventloop(::ZMQ.Socket) at /home/subhaditya/.julia/packages/IJulia/DrVMH/src/eventloop.jl:8",
      " [12] (::IJulia.var\"#15#18\")() at ./task.jl:358"
     ]
    }
   ],
   "source": [
    "#export\n",
    "# Define number of threads\n",
    "Threads.nthreads() = length(Sys.cpu_info())"
   ]
  },
  {
   "cell_type": "code",
   "execution_count": 53,
   "metadata": {},
   "outputs": [
    {
     "data": {
      "text/plain": [
       "10-element Array{Int64,1}:\n",
       "  1\n",
       "  2\n",
       "  3\n",
       "  4\n",
       "  5\n",
       "  6\n",
       "  7\n",
       "  8\n",
       "  9\n",
       " 10"
      ]
     },
     "execution_count": 53,
     "metadata": {},
     "output_type": "execute_result"
    }
   ],
   "source": [
    "collect(1:10)"
   ]
  },
  {
   "cell_type": "code",
   "execution_count": 54,
   "metadata": {},
   "outputs": [
    {
     "data": {
      "text/plain": [
       "fromFolder"
      ]
     },
     "execution_count": 54,
     "metadata": {},
     "output_type": "execute_result"
    }
   ],
   "source": [
    "#export\n",
    "\n",
    "\"\"\"\n",
    "Function to create an array of images and labels -> when the directory structure is as follows\n",
    "- main\n",
    "    - category1\n",
    "        - file1...\n",
    "    -category2\n",
    "        - file1...\n",
    "    ...\n",
    "\"\"\"\n",
    "function fromFolder(path::String,imageSize=64::Int64)\n",
    "    @info path, imageSize\n",
    "    categories = readdir(path)\n",
    "    total_files = collect(Iterators.flatten([add_path(x)[1] for x in categories]));\n",
    "    total_categories = collect(Iterators.flatten([add_path(x)[2] for x in categories]));\n",
    "    distrib,max_dis = classDistribution(total_categories)\n",
    "    \n",
    "    indices_repeat = indexin(unique(total_categories), total_categories)\n",
    "    # oversample\n",
    "    total_add = max_dis.-distrib # get the differences to oversample\n",
    "    oversample = false;\n",
    "    if sum(total_add)>100\n",
    "        @info \"Oversampling\"\n",
    "        images = zeros((imageSize, imageSize, 3, size(max_dis*length(unique(total_categories)),1)));\n",
    "        oversample= true;\n",
    "        oversample_index = length(y)- sum(total_add)# keep a track of indices from the back\n",
    "    else\n",
    "        @info \"No need to oversample\"\n",
    "        images = zeros((imageSize, imageSize, 3, size(total_categories,1)));\n",
    "        oversample= false;\n",
    "    end\n",
    "    \n",
    "    Threads.@threads for idx in collect(1:size(total_files,1))\n",
    "        img = channelview(imresize(load(total_files[idx]), (imageSize, imageSize)))\n",
    "        img = convert(Array{Float64},img)\n",
    "        images[:,:,:,idx] = permutedims(img,(2,3,1))\n",
    "#         @info oversample\n",
    "        if oversample==true\n",
    "            \n",
    "            if idx in indices_repeat\n",
    "                labelrep = findfirst(x->x==idx,indices_repeat) # index in the repeated list\n",
    "                to_repeat = total_add[labelrep] # no of times to repeat\n",
    "                total_categories = vcat(total_categories, fill(total_categories[indices_repeat[labelrep]],to_repeat))\n",
    "                Threads.@threads for idx2 in collect(oversample_index:to_repeat)\n",
    "                    images[:,:,:,idx2] = images[:,:,:,indices_repeat[labelrep] ]\n",
    "                    \n",
    "                end\n",
    "                \n",
    "                \n",
    "            end\n",
    "        end\n",
    "    end\n",
    "            \n",
    "      \n",
    "    @info \"Done loading images\"\n",
    "    \n",
    "    return images, total_categories\n",
    "    \n",
    "    \n",
    "    \n",
    "end\n",
    "    "
   ]
  },
  {
   "cell_type": "code",
   "execution_count": 87,
   "metadata": {
    "scrolled": true
   },
   "outputs": [
    {
     "data": {
      "image/svg+xml": [
       "<?xml version=\"1.0\" encoding=\"utf-8\"?>\n",
       "<svg xmlns=\"http://www.w3.org/2000/svg\" xmlns:xlink=\"http://www.w3.org/1999/xlink\" width=\"600\" height=\"400\" viewBox=\"0 0 2400 1600\">\n",
       "<defs>\n",
       "  <clipPath id=\"clip4900\">\n",
       "    <rect x=\"0\" y=\"0\" width=\"2400\" height=\"1600\"/>\n",
       "  </clipPath>\n",
       "</defs>\n",
       "<path clip-path=\"url(#clip4900)\" d=\"\n",
       "M0 1600 L2400 1600 L2400 0 L0 0  Z\n",
       "  \" fill=\"#ffffff\" fill-rule=\"evenodd\" fill-opacity=\"1\"/>\n",
       "<defs>\n",
       "  <clipPath id=\"clip4901\">\n",
       "    <rect x=\"480\" y=\"0\" width=\"1681\" height=\"1600\"/>\n",
       "  </clipPath>\n",
       "</defs>\n",
       "<path clip-path=\"url(#clip4900)\" d=\"\n",
       "M220.804 1487.47 L2352.76 1487.47 L2352.76 47.2441 L220.804 47.2441  Z\n",
       "  \" fill=\"#ffffff\" fill-rule=\"evenodd\" fill-opacity=\"1\"/>\n",
       "<defs>\n",
       "  <clipPath id=\"clip4902\">\n",
       "    <rect x=\"220\" y=\"47\" width=\"2133\" height=\"1441\"/>\n",
       "  </clipPath>\n",
       "</defs>\n",
       "<polyline clip-path=\"url(#clip4902)\" style=\"stroke:#000000; stroke-width:2; stroke-opacity:0.1; fill:none\" points=\"\n",
       "  232.652,1487.47 232.652,47.2441 \n",
       "  \"/>\n",
       "<polyline clip-path=\"url(#clip4902)\" style=\"stroke:#000000; stroke-width:2; stroke-opacity:0.1; fill:none\" points=\"\n",
       "  759.716,1487.47 759.716,47.2441 \n",
       "  \"/>\n",
       "<polyline clip-path=\"url(#clip4902)\" style=\"stroke:#000000; stroke-width:2; stroke-opacity:0.1; fill:none\" points=\"\n",
       "  1286.78,1487.47 1286.78,47.2441 \n",
       "  \"/>\n",
       "<polyline clip-path=\"url(#clip4902)\" style=\"stroke:#000000; stroke-width:2; stroke-opacity:0.1; fill:none\" points=\"\n",
       "  1813.84,1487.47 1813.84,47.2441 \n",
       "  \"/>\n",
       "<polyline clip-path=\"url(#clip4902)\" style=\"stroke:#000000; stroke-width:2; stroke-opacity:0.1; fill:none\" points=\"\n",
       "  2340.91,1487.47 2340.91,47.2441 \n",
       "  \"/>\n",
       "<polyline clip-path=\"url(#clip4902)\" style=\"stroke:#000000; stroke-width:2; stroke-opacity:0.1; fill:none\" points=\"\n",
       "  220.804,1446.71 2352.76,1446.71 \n",
       "  \"/>\n",
       "<polyline clip-path=\"url(#clip4902)\" style=\"stroke:#000000; stroke-width:2; stroke-opacity:0.1; fill:none\" points=\"\n",
       "  220.804,1229.35 2352.76,1229.35 \n",
       "  \"/>\n",
       "<polyline clip-path=\"url(#clip4902)\" style=\"stroke:#000000; stroke-width:2; stroke-opacity:0.1; fill:none\" points=\"\n",
       "  220.804,1012 2352.76,1012 \n",
       "  \"/>\n",
       "<polyline clip-path=\"url(#clip4902)\" style=\"stroke:#000000; stroke-width:2; stroke-opacity:0.1; fill:none\" points=\"\n",
       "  220.804,794.638 2352.76,794.638 \n",
       "  \"/>\n",
       "<polyline clip-path=\"url(#clip4902)\" style=\"stroke:#000000; stroke-width:2; stroke-opacity:0.1; fill:none\" points=\"\n",
       "  220.804,577.279 2352.76,577.279 \n",
       "  \"/>\n",
       "<polyline clip-path=\"url(#clip4902)\" style=\"stroke:#000000; stroke-width:2; stroke-opacity:0.1; fill:none\" points=\"\n",
       "  220.804,359.921 2352.76,359.921 \n",
       "  \"/>\n",
       "<polyline clip-path=\"url(#clip4902)\" style=\"stroke:#000000; stroke-width:2; stroke-opacity:0.1; fill:none\" points=\"\n",
       "  220.804,359.921 2352.76,359.921 \n",
       "  \"/>\n",
       "<polyline clip-path=\"url(#clip4900)\" style=\"stroke:#000000; stroke-width:4; stroke-opacity:1; fill:none\" points=\"\n",
       "  220.804,1487.47 2352.76,1487.47 \n",
       "  \"/>\n",
       "<polyline clip-path=\"url(#clip4900)\" style=\"stroke:#000000; stroke-width:4; stroke-opacity:1; fill:none\" points=\"\n",
       "  220.804,1487.47 220.804,47.2441 \n",
       "  \"/>\n",
       "<polyline clip-path=\"url(#clip4900)\" style=\"stroke:#000000; stroke-width:4; stroke-opacity:1; fill:none\" points=\"\n",
       "  232.652,1487.47 232.652,1470.19 \n",
       "  \"/>\n",
       "<polyline clip-path=\"url(#clip4900)\" style=\"stroke:#000000; stroke-width:4; stroke-opacity:1; fill:none\" points=\"\n",
       "  759.716,1487.47 759.716,1470.19 \n",
       "  \"/>\n",
       "<polyline clip-path=\"url(#clip4900)\" style=\"stroke:#000000; stroke-width:4; stroke-opacity:1; fill:none\" points=\"\n",
       "  1286.78,1487.47 1286.78,1470.19 \n",
       "  \"/>\n",
       "<polyline clip-path=\"url(#clip4900)\" style=\"stroke:#000000; stroke-width:4; stroke-opacity:1; fill:none\" points=\"\n",
       "  1813.84,1487.47 1813.84,1470.19 \n",
       "  \"/>\n",
       "<polyline clip-path=\"url(#clip4900)\" style=\"stroke:#000000; stroke-width:4; stroke-opacity:1; fill:none\" points=\"\n",
       "  2340.91,1487.47 2340.91,1470.19 \n",
       "  \"/>\n",
       "<polyline clip-path=\"url(#clip4900)\" style=\"stroke:#000000; stroke-width:4; stroke-opacity:1; fill:none\" points=\"\n",
       "  220.804,1446.71 246.387,1446.71 \n",
       "  \"/>\n",
       "<polyline clip-path=\"url(#clip4900)\" style=\"stroke:#000000; stroke-width:4; stroke-opacity:1; fill:none\" points=\"\n",
       "  220.804,1229.35 246.387,1229.35 \n",
       "  \"/>\n",
       "<polyline clip-path=\"url(#clip4900)\" style=\"stroke:#000000; stroke-width:4; stroke-opacity:1; fill:none\" points=\"\n",
       "  220.804,1012 246.387,1012 \n",
       "  \"/>\n",
       "<polyline clip-path=\"url(#clip4900)\" style=\"stroke:#000000; stroke-width:4; stroke-opacity:1; fill:none\" points=\"\n",
       "  220.804,794.638 246.387,794.638 \n",
       "  \"/>\n",
       "<polyline clip-path=\"url(#clip4900)\" style=\"stroke:#000000; stroke-width:4; stroke-opacity:1; fill:none\" points=\"\n",
       "  220.804,577.279 246.387,577.279 \n",
       "  \"/>\n",
       "<polyline clip-path=\"url(#clip4900)\" style=\"stroke:#000000; stroke-width:4; stroke-opacity:1; fill:none\" points=\"\n",
       "  220.804,359.921 246.387,359.921 \n",
       "  \"/>\n",
       "<polyline clip-path=\"url(#clip4900)\" style=\"stroke:#000000; stroke-width:4; stroke-opacity:1; fill:none\" points=\"\n",
       "  220.804,359.921 246.387,359.921 \n",
       "  \"/>\n",
       "<g clip-path=\"url(#clip4900)\">\n",
       "<text style=\"fill:#000000; fill-opacity:1; font-family:Arial,Helvetica Neue,Helvetica,sans-serif; font-size:48px; text-anchor:middle;\" transform=\"rotate(0, 232.652, 1541.47)\" x=\"232.652\" y=\"1541.47\">0.5</text>\n",
       "</g>\n",
       "<g clip-path=\"url(#clip4900)\">\n",
       "<text style=\"fill:#000000; fill-opacity:1; font-family:Arial,Helvetica Neue,Helvetica,sans-serif; font-size:48px; text-anchor:middle;\" transform=\"rotate(0, 759.716, 1541.47)\" x=\"759.716\" y=\"1541.47\">1.0</text>\n",
       "</g>\n",
       "<g clip-path=\"url(#clip4900)\">\n",
       "<text style=\"fill:#000000; fill-opacity:1; font-family:Arial,Helvetica Neue,Helvetica,sans-serif; font-size:48px; text-anchor:middle;\" transform=\"rotate(0, 1286.78, 1541.47)\" x=\"1286.78\" y=\"1541.47\">1.5</text>\n",
       "</g>\n",
       "<g clip-path=\"url(#clip4900)\">\n",
       "<text style=\"fill:#000000; fill-opacity:1; font-family:Arial,Helvetica Neue,Helvetica,sans-serif; font-size:48px; text-anchor:middle;\" transform=\"rotate(0, 1813.84, 1541.47)\" x=\"1813.84\" y=\"1541.47\">2.0</text>\n",
       "</g>\n",
       "<g clip-path=\"url(#clip4900)\">\n",
       "<text style=\"fill:#000000; fill-opacity:1; font-family:Arial,Helvetica Neue,Helvetica,sans-serif; font-size:48px; text-anchor:middle;\" transform=\"rotate(0, 2340.91, 1541.47)\" x=\"2340.91\" y=\"1541.47\">2.5</text>\n",
       "</g>\n",
       "<g clip-path=\"url(#clip4900)\">\n",
       "<text style=\"fill:#000000; fill-opacity:1; font-family:Arial,Helvetica Neue,Helvetica,sans-serif; font-size:48px; text-anchor:end;\" transform=\"rotate(0, 196.804, 1464.21)\" x=\"196.804\" y=\"1464.21\">0</text>\n",
       "</g>\n",
       "<g clip-path=\"url(#clip4900)\">\n",
       "<text style=\"fill:#000000; fill-opacity:1; font-family:Arial,Helvetica Neue,Helvetica,sans-serif; font-size:48px; text-anchor:end;\" transform=\"rotate(0, 196.804, 1246.85)\" x=\"196.804\" y=\"1246.85\">2000</text>\n",
       "</g>\n",
       "<g clip-path=\"url(#clip4900)\">\n",
       "<text style=\"fill:#000000; fill-opacity:1; font-family:Arial,Helvetica Neue,Helvetica,sans-serif; font-size:48px; text-anchor:end;\" transform=\"rotate(0, 196.804, 1029.5)\" x=\"196.804\" y=\"1029.5\">4000</text>\n",
       "</g>\n",
       "<g clip-path=\"url(#clip4900)\">\n",
       "<text style=\"fill:#000000; fill-opacity:1; font-family:Arial,Helvetica Neue,Helvetica,sans-serif; font-size:48px; text-anchor:end;\" transform=\"rotate(0, 196.804, 812.138)\" x=\"196.804\" y=\"812.138\">6000</text>\n",
       "</g>\n",
       "<g clip-path=\"url(#clip4900)\">\n",
       "<text style=\"fill:#000000; fill-opacity:1; font-family:Arial,Helvetica Neue,Helvetica,sans-serif; font-size:48px; text-anchor:end;\" transform=\"rotate(0, 196.804, 594.779)\" x=\"196.804\" y=\"594.779\">8000</text>\n",
       "</g>\n",
       "<g clip-path=\"url(#clip4900)\">\n",
       "<text style=\"fill:#000000; fill-opacity:1; font-family:Arial,Helvetica Neue,Helvetica,sans-serif; font-size:48px; text-anchor:end;\" transform=\"rotate(0, 196.804, 377.421)\" x=\"196.804\" y=\"377.421\">10000</text>\n",
       "</g>\n",
       "<g clip-path=\"url(#clip4900)\">\n",
       "<text style=\"fill:#000000; fill-opacity:1; font-family:Arial,Helvetica Neue,Helvetica,sans-serif; font-size:48px; text-anchor:end;\" transform=\"rotate(0, 196.804, 377.421)\" x=\"196.804\" y=\"377.421\">10000</text>\n",
       "</g>\n",
       "<path clip-path=\"url(#clip4902)\" d=\"\n",
       "M338.065 88.0053 L338.065 1446.71 L1181.37 1446.71 L1181.37 88.0053 L338.065 88.0053 L338.065 88.0053  Z\n",
       "  \" fill=\"#009af9\" fill-rule=\"evenodd\" fill-opacity=\"1\"/>\n",
       "<polyline clip-path=\"url(#clip4902)\" style=\"stroke:#000000; stroke-width:4; stroke-opacity:1; fill:none\" points=\"\n",
       "  338.065,88.0053 338.065,1446.71 1181.37,1446.71 1181.37,88.0053 338.065,88.0053 \n",
       "  \"/>\n",
       "<path clip-path=\"url(#clip4902)\" d=\"\n",
       "M1392.19 88.114 L1392.19 1446.71 L2235.49 1446.71 L2235.49 88.114 L1392.19 88.114 L1392.19 88.114  Z\n",
       "  \" fill=\"#009af9\" fill-rule=\"evenodd\" fill-opacity=\"1\"/>\n",
       "<polyline clip-path=\"url(#clip4902)\" style=\"stroke:#000000; stroke-width:4; stroke-opacity:1; fill:none\" points=\"\n",
       "  1392.19,88.114 1392.19,1446.71 2235.49,1446.71 2235.49,88.114 1392.19,88.114 \n",
       "  \"/>\n",
       "<path clip-path=\"url(#clip4900)\" d=\"\n",
       "M1989.93 251.724 L2280.76 251.724 L2280.76 130.764 L1989.93 130.764  Z\n",
       "  \" fill=\"#ffffff\" fill-rule=\"evenodd\" fill-opacity=\"1\"/>\n",
       "<polyline clip-path=\"url(#clip4900)\" style=\"stroke:#000000; stroke-width:4; stroke-opacity:1; fill:none\" points=\"\n",
       "  1989.93,251.724 2280.76,251.724 2280.76,130.764 1989.93,130.764 1989.93,251.724 \n",
       "  \"/>\n",
       "<path clip-path=\"url(#clip4900)\" d=\"\n",
       "M2013.93 215.436 L2157.93 215.436 L2157.93 167.052 L2013.93 167.052 L2013.93 215.436  Z\n",
       "  \" fill=\"#009af9\" fill-rule=\"evenodd\" fill-opacity=\"1\"/>\n",
       "<polyline clip-path=\"url(#clip4900)\" style=\"stroke:#000000; stroke-width:4; stroke-opacity:1; fill:none\" points=\"\n",
       "  2013.93,215.436 2157.93,215.436 2157.93,167.052 2013.93,167.052 2013.93,215.436 \n",
       "  \"/>\n",
       "<g clip-path=\"url(#clip4900)\">\n",
       "<text style=\"fill:#000000; fill-opacity:1; font-family:Arial,Helvetica Neue,Helvetica,sans-serif; font-size:48px; text-anchor:start;\" transform=\"rotate(0, 2181.93, 208.744)\" x=\"2181.93\" y=\"208.744\">y1</text>\n",
       "</g>\n",
       "</svg>\n"
      ]
     },
     "metadata": {},
     "output_type": "display_data"
    },
    {
     "name": "stderr",
     "output_type": "stream",
     "text": [
      "┌ Info: (\"/media/subhaditya/DATA/COSMO/Datasets/catDog/\", 64)\n",
      "└ @ Main In[54]:13\n",
      "┌ Info: No need to oversample\n",
      "└ @ Main In[54]:29\n",
      "┌ Info: Done loading images\n",
      "└ @ Main In[54]:56\n"
     ]
    }
   ],
   "source": [
    "#export\n",
    "X,y = fromFolder(path,64);"
   ]
  },
  {
   "cell_type": "code",
   "execution_count": 88,
   "metadata": {},
   "outputs": [
    {
     "data": {
      "text/plain": [
       "((64, 64, 3, 25003), (25003,))"
      ]
     },
     "execution_count": 88,
     "metadata": {},
     "output_type": "execute_result"
    }
   ],
   "source": [
    "size(X),size(y)"
   ]
  },
  {
   "cell_type": "markdown",
   "metadata": {},
   "source": [
    "## Splitting"
   ]
  },
  {
   "cell_type": "code",
   "execution_count": 89,
   "metadata": {},
   "outputs": [],
   "source": [
    "at = 0.7\n",
    "n = length(y)\n",
    "idx = shuffle(1:n)\n",
    "train_idx = view(idx, 1:floor(Int, at*n));\n",
    "test_idx = view(idx, (floor(Int, at*n)+1):n);"
   ]
  },
  {
   "cell_type": "code",
   "execution_count": 90,
   "metadata": {},
   "outputs": [
    {
     "name": "stderr",
     "output_type": "stream",
     "text": [
      "┌ Info: (17502, 7501)\n",
      "└ @ Main In[90]:3\n",
      "┌ Info: (215064576, 92172288)\n",
      "└ @ Main In[90]:4\n"
     ]
    }
   ],
   "source": [
    "ytrain,ytest = y[train_idx,:], y[test_idx,:]\n",
    "Xtrain,Xtest = X[:,:,:,train_idx], X[:,:,:,test_idx]\n",
    "@info length(ytrain),length(ytest)\n",
    "@info length(Xtrain),length(Xtest)"
   ]
  },
  {
   "cell_type": "code",
   "execution_count": 91,
   "metadata": {},
   "outputs": [
    {
     "data": {
      "text/plain": [
       "splitter (generic function with 2 methods)"
      ]
     },
     "execution_count": 91,
     "metadata": {},
     "output_type": "execute_result"
    }
   ],
   "source": [
    "#export\n",
    "function splitter(pct_split=0.7::Float16)\n",
    "    \"\"\"\n",
    "    Splits into train/test by pct_split%\n",
    "    \"\"\"\n",
    "    n = length(y)\n",
    "    idx = shuffle(1:n)\n",
    "    train_idx = view(idx, 1:floor(Int, pct_split*n));\n",
    "    test_idx = view(idx, (floor(Int, pct_split*n)+1):n);\n",
    "    ytrain,ytest = y[train_idx,:], y[test_idx,:]\n",
    "    Xtrain,Xtest = X[:,:,:,train_idx], X[:,:,:,test_idx]\n",
    "    return Xtrain, ytrain, Xtest, ytest\n",
    "end"
   ]
  },
  {
   "cell_type": "code",
   "execution_count": 92,
   "metadata": {
    "scrolled": true
   },
   "outputs": [],
   "source": [
    "#export\n",
    "Xtrain, ytrain, Xtest, ytest = splitter(.8);"
   ]
  },
  {
   "cell_type": "markdown",
   "metadata": {},
   "source": [
    "## Linear "
   ]
  },
  {
   "cell_type": "code",
   "execution_count": 93,
   "metadata": {},
   "outputs": [],
   "source": [
    "using Zygote"
   ]
  },
  {
   "cell_type": "code",
   "execution_count": 94,
   "metadata": {},
   "outputs": [
    {
     "data": {
      "text/plain": [
       "2-element Array{Float64,1}:\n",
       " 0.5764458955807203\n",
       " 0.08567222423924625"
      ]
     },
     "execution_count": 94,
     "metadata": {},
     "output_type": "execute_result"
    }
   ],
   "source": [
    "W = rand(2,5)\n",
    "b = rand(2)"
   ]
  },
  {
   "cell_type": "code",
   "execution_count": 95,
   "metadata": {},
   "outputs": [
    {
     "data": {
      "text/plain": [
       "Dense (generic function with 1 method)"
      ]
     },
     "execution_count": 95,
     "metadata": {},
     "output_type": "execute_result"
    }
   ],
   "source": [
    "Dense(x) = W*x.+b"
   ]
  },
  {
   "cell_type": "code",
   "execution_count": 96,
   "metadata": {},
   "outputs": [
    {
     "data": {
      "text/plain": [
       "loss (generic function with 1 method)"
      ]
     },
     "execution_count": 96,
     "metadata": {},
     "output_type": "execute_result"
    }
   ],
   "source": [
    "function loss(x,y)\n",
    "    ŷ = Dense(x)\n",
    "    sum((y-ŷ).^2)\n",
    "end"
   ]
  },
  {
   "cell_type": "code",
   "execution_count": 97,
   "metadata": {},
   "outputs": [
    {
     "data": {
      "text/plain": [
       "([0.12301556361508892, 0.7539684756859879, 0.8821190914744803, 0.29043588305977974, 0.4111351570083821], [0.376111351493311, 0.2575111728758481])"
      ]
     },
     "execution_count": 97,
     "metadata": {},
     "output_type": "execute_result"
    }
   ],
   "source": [
    "x,y = rand(5),rand(2)\n",
    "# loss(x,y)"
   ]
  },
  {
   "cell_type": "code",
   "execution_count": 98,
   "metadata": {},
   "outputs": [
    {
     "data": {
      "text/plain": [
       "0.1"
      ]
     },
     "execution_count": 98,
     "metadata": {},
     "output_type": "execute_result"
    }
   ],
   "source": [
    "α = 0.1"
   ]
  },
  {
   "cell_type": "code",
   "execution_count": 99,
   "metadata": {},
   "outputs": [
    {
     "data": {
      "text/plain": [
       "2-element Array{Float64,1}:\n",
       " 0.6031506660494295\n",
       " 0.4146788453975747"
      ]
     },
     "execution_count": 99,
     "metadata": {},
     "output_type": "execute_result"
    }
   ],
   "source": [
    "x,y = rand(100),rand(2)\n",
    "W = rand(2,100)\n",
    "b = rand(2)"
   ]
  },
  {
   "cell_type": "code",
   "execution_count": 100,
   "metadata": {},
   "outputs": [
    {
     "data": {
      "text/plain": [
       "2×100 Array{Float64,2}:\n",
       " 0.0  0.0  0.0  0.0  0.0  0.0  0.0  0.0  …  0.0  0.0  0.0  0.0  0.0  0.0  0.0\n",
       " 0.0  0.0  0.0  0.0  0.0  0.0  0.0  0.0     0.0  0.0  0.0  0.0  0.0  0.0  0.0"
      ]
     },
     "execution_count": 100,
     "metadata": {},
     "output_type": "execute_result"
    }
   ],
   "source": [
    "W = zeros(2,100)"
   ]
  },
  {
   "cell_type": "code",
   "execution_count": 101,
   "metadata": {
    "scrolled": true
   },
   "outputs": [
    {
     "name": "stderr",
     "output_type": "stream",
     "text": [
      "┌ Info: 7.461649267405814\n",
      "└ @ Main In[101]:6\n",
      "┌ Info: 373.97444891631585\n",
      "└ @ Main In[101]:6\n",
      "┌ Info: 18176.089538877266\n",
      "└ @ Main In[101]:6\n",
      "┌ Info: 879552.2853621729\n",
      "└ @ Main In[101]:6\n",
      "┌ Info: 4.253539574742735e7\n",
      "└ @ Main In[101]:6\n",
      "┌ Info: 2.0568382116483445e9\n",
      "└ @ Main In[101]:6\n",
      "┌ Info: 9.945901515605614e10\n",
      "└ @ Main In[101]:6\n",
      "┌ Info: 4.80936088867003e12\n",
      "└ @ Main In[101]:6\n",
      "┌ Info: 2.3255756070519138e14\n",
      "└ @ Main In[101]:6\n",
      "┌ Info: 1.1245364656021288e16\n",
      "└ @ Main In[101]:6\n",
      "┌ Info: 5.437717232762797e17\n",
      "└ @ Main In[101]:6\n",
      "┌ Info: 2.6294183945445974e19\n",
      "└ @ Main In[101]:6\n",
      "┌ Info: 1.2714602096482638e21\n",
      "└ @ Main In[101]:6\n",
      "┌ Info: 6.1481697551299495e22\n",
      "└ @ Main In[101]:6\n",
      "┌ Info: 2.972959047476757e24\n",
      "└ @ Main In[101]:6\n",
      "┌ Info: 1.4375799384192644e26\n",
      "└ @ Main In[101]:6\n",
      "┌ Info: 6.951444827669094e27\n",
      "└ @ Main In[101]:6\n",
      "┌ Info: 3.361384219458547e29\n",
      "└ @ Main In[101]:6\n",
      "┌ Info: 1.6254036608118488e31\n",
      "└ @ Main In[101]:6\n",
      "┌ Info: 7.859669969552376e32\n",
      "└ @ Main In[101]:6\n",
      "┌ Info: 3.8005581948442667e34\n",
      "└ @ Main In[101]:6\n",
      "┌ Info: 1.8377670625297946e36\n",
      "└ @ Main In[101]:6\n",
      "┌ Info: 8.88655719231207e37\n",
      "└ @ Main In[101]:6\n",
      "┌ Info: 4.2971114425962826e39\n",
      "└ @ Main In[101]:6\n",
      "┌ Info: 2.0778763193091793e41\n",
      "└ @ Main In[101]:6\n",
      "┌ Info: 1.0047610019015972e43\n",
      "└ @ Main In[101]:6\n",
      "┌ Info: 4.858540720450291e44\n",
      "└ @ Main In[101]:6\n",
      "┌ Info: 2.349356502451661e46\n",
      "└ @ Main In[101]:6\n",
      "┌ Info: 1.1360357550117135e48\n",
      "└ @ Main In[101]:6\n",
      "┌ Info: 5.493322257895971e49\n",
      "└ @ Main In[101]:6\n",
      "┌ Info: 2.6563063086675593e51\n",
      "└ @ Main In[101]:6\n",
      "┌ Info: 1.2844619110639288e53\n",
      "└ @ Main In[101]:6\n",
      "┌ Info: 6.211039726821206e54\n",
      "└ @ Main In[101]:6\n",
      "┌ Info: 3.003359940521523e56\n",
      "└ @ Main In[101]:6\n",
      "┌ Info: 1.4522803474235623e58\n",
      "└ @ Main In[101]:6\n",
      "┌ Info: 7.022528931868426e59\n",
      "└ @ Main In[101]:6\n",
      "┌ Info: 3.3957570717264517e61\n",
      "└ @ Main In[101]:6\n",
      "┌ Info: 1.6420247181683306e63\n",
      "└ @ Main In[101]:6\n",
      "┌ Info: 7.940041404978882e64\n",
      "└ @ Main In[101]:6\n",
      "┌ Info: 3.839421953593032e66\n",
      "└ @ Main In[101]:6\n",
      "┌ Info: 1.8565597061607953e68\n",
      "└ @ Main In[101]:6\n",
      "┌ Info: 8.977429374008337e69\n",
      "└ @ Main In[101]:6\n",
      "┌ Info: 4.3410528569517265e71\n",
      "└ @ Main In[101]:6\n",
      "┌ Info: 2.0991242728579376e73\n",
      "└ @ Main In[101]:6\n",
      "┌ Info: 1.0150354897994658e75\n",
      "└ @ Main In[101]:6\n",
      "┌ Info: 4.9082231999047e76\n",
      "└ @ Main In[101]:6\n",
      "┌ Info: 2.373380558825796e78\n",
      "└ @ Main In[101]:6\n",
      "┌ Info: 1.1476526326515916e80\n",
      "└ @ Main In[101]:6\n",
      "┌ Info: 5.5494958881931435e81\n",
      "└ @ Main In[101]:6\n",
      "┌ Info: 2.6834691732391153e83\n",
      "└ @ Main In[101]:6\n"
     ]
    }
   ],
   "source": [
    "for a in collect(1:50)\n",
    "    gs = gradient(() -> loss(x, y), Params([W, b]))\n",
    "    W̄ = gs[W]\n",
    "    W.= α.*W̄\n",
    "    ŷ =  W*x.+b\n",
    "    @info sum((y-ŷ).^2)\n",
    "end"
   ]
  },
  {
   "cell_type": "markdown",
   "metadata": {},
   "source": [
    "# Initialization\n",
    "- Zero Initialization: set all weights to 0\n",
    "- Normal Initialization: set all weights to random small numbers\n",
    "- Lecun Initialization: normalize variance\n",
    "- Xavier Intialization (glorot init)\n",
    "- Kaiming Initialization (he init)"
   ]
  },
  {
   "cell_type": "markdown",
   "metadata": {},
   "source": [
    "## Lecun\n",
    "It draws samples from a truncated normal distribution centered on 0 with stddev <- sqrt(1 / fan_in) where fan_in is the number of input units in the weight tensor.."
   ]
  },
  {
   "cell_type": "code",
   "execution_count": 102,
   "metadata": {},
   "outputs": [],
   "source": [
    "using Distributions"
   ]
  },
  {
   "cell_type": "code",
   "execution_count": 103,
   "metadata": {},
   "outputs": [
    {
     "data": {
      "text/plain": [
       "lecun_normal (generic function with 1 method)"
      ]
     },
     "execution_count": 103,
     "metadata": {},
     "output_type": "execute_result"
    }
   ],
   "source": [
    "#export\n",
    "lecun_normal(fan_in) = return Distributions.Normal(0, sqrt(1/fan_in))"
   ]
  },
  {
   "cell_type": "code",
   "execution_count": 104,
   "metadata": {},
   "outputs": [
    {
     "data": {
      "text/plain": [
       "2-element Array{Float64,1}:\n",
       "  0.940000461492082\n",
       " -0.02009758485773298"
      ]
     },
     "execution_count": 104,
     "metadata": {},
     "output_type": "execute_result"
    }
   ],
   "source": [
    "W = rand(lecun_normal(2), 2, 100)\n",
    "b = rand(lecun_normal(2), 2)"
   ]
  },
  {
   "cell_type": "markdown",
   "metadata": {},
   "source": [
    "## Xavier Normal\n",
    "It draws samples from a truncated normal distribution centered on 0 with stddev = sqrt(2 / (fan_in + fan_out)) where fan_in is the number of input units in the weight tensor and fan_out is the number of output units in the weight tensor."
   ]
  },
  {
   "cell_type": "code",
   "execution_count": 105,
   "metadata": {},
   "outputs": [
    {
     "data": {
      "text/plain": [
       "xavier_normal (generic function with 1 method)"
      ]
     },
     "execution_count": 105,
     "metadata": {},
     "output_type": "execute_result"
    }
   ],
   "source": [
    "#export\n",
    "xavier_normal(fan_in,fan_out) = return Distributions.Normal(0, sqrt(2/(fan_in+fan_out)))"
   ]
  },
  {
   "cell_type": "code",
   "execution_count": 106,
   "metadata": {},
   "outputs": [
    {
     "data": {
      "text/plain": [
       "2-element Array{Float64,1}:\n",
       " -1.0109359937781766\n",
       "  0.20342110323523546"
      ]
     },
     "execution_count": 106,
     "metadata": {},
     "output_type": "execute_result"
    }
   ],
   "source": [
    "W = rand(xavier_normal(2,100), 2, 100)\n",
    "b = rand(xavier_normal(2,2), 2)"
   ]
  },
  {
   "cell_type": "markdown",
   "metadata": {},
   "source": [
    "# Xavier Uniform\n",
    "It draws samples from a uniform distribution within -limit, limit where limit is sqrt(6 / (fan_in + fan_out)) where fan_in is the number of input units in the weight tensor and fan_out is the number of output units in the weight tensor."
   ]
  },
  {
   "cell_type": "code",
   "execution_count": 107,
   "metadata": {},
   "outputs": [
    {
     "data": {
      "text/plain": [
       "xavier_uniform (generic function with 1 method)"
      ]
     },
     "execution_count": 107,
     "metadata": {},
     "output_type": "execute_result"
    }
   ],
   "source": [
    "#export\n",
    "function xavier_uniform(fan_in,fan_out)\n",
    "    limit = sqrt(6/(fan_in+fan_out))\n",
    "    return Distributions.Uniform(-limit, limit)\n",
    "end"
   ]
  },
  {
   "cell_type": "code",
   "execution_count": 108,
   "metadata": {},
   "outputs": [
    {
     "data": {
      "text/plain": [
       "2-element Array{Float64,1}:\n",
       " -0.05047299788861537\n",
       "  1.019156066359661"
      ]
     },
     "execution_count": 108,
     "metadata": {},
     "output_type": "execute_result"
    }
   ],
   "source": [
    "W = rand(xavier_uniform(2,100), 2, 100)\n",
    "b = rand(xavier_uniform(2,2), 2)"
   ]
  },
  {
   "cell_type": "markdown",
   "metadata": {},
   "source": [
    "## He Normal\n",
    "It draws samples from a truncated normal distribution centered on 0 with stddev = sqrt(2 / fan_in) where fan_in is the number of input units in the weight tensor."
   ]
  },
  {
   "cell_type": "code",
   "execution_count": 109,
   "metadata": {},
   "outputs": [
    {
     "data": {
      "text/plain": [
       "he_normal (generic function with 1 method)"
      ]
     },
     "execution_count": 109,
     "metadata": {},
     "output_type": "execute_result"
    }
   ],
   "source": [
    "#export\n",
    "he_normal(fan_in) = return Distributions.Normal(0, sqrt(2/(fan_in)))"
   ]
  },
  {
   "cell_type": "code",
   "execution_count": 110,
   "metadata": {},
   "outputs": [
    {
     "data": {
      "text/plain": [
       "2-element Array{Float64,1}:\n",
       " 0.8717973634999604\n",
       " 1.578166079550752"
      ]
     },
     "execution_count": 110,
     "metadata": {},
     "output_type": "execute_result"
    }
   ],
   "source": [
    "W = rand(he_normal(2), 2, 100)\n",
    "b = rand(he_normal(2), 2)"
   ]
  },
  {
   "cell_type": "markdown",
   "metadata": {},
   "source": [
    "# He Uniform\n",
    "It draws samples from a uniform distribution within -limit, limit where limit is sqrt(6 / fan_in) where fan_in is the number of input units in the weight tensor."
   ]
  },
  {
   "cell_type": "code",
   "execution_count": 111,
   "metadata": {},
   "outputs": [
    {
     "data": {
      "text/plain": [
       "he_uniform (generic function with 1 method)"
      ]
     },
     "execution_count": 111,
     "metadata": {},
     "output_type": "execute_result"
    }
   ],
   "source": [
    "#export\n",
    "function he_uniform(fan_in)\n",
    "    limit = sqrt(6/(fan_in))\n",
    "    return Distributions.Uniform(-limit, limit)\n",
    "end"
   ]
  },
  {
   "cell_type": "code",
   "execution_count": 112,
   "metadata": {},
   "outputs": [
    {
     "data": {
      "text/plain": [
       "2-element Array{Float64,1}:\n",
       " -1.3631828338625294\n",
       "  0.7671381540574544"
      ]
     },
     "execution_count": 112,
     "metadata": {},
     "output_type": "execute_result"
    }
   ],
   "source": [
    "W = rand(he_uniform(2), 2, 100)\n",
    "b = rand(he_uniform(2), 2)"
   ]
  },
  {
   "cell_type": "markdown",
   "metadata": {},
   "source": [
    "# Batching"
   ]
  },
  {
   "cell_type": "markdown",
   "metadata": {},
   "source": [
    "## One hot"
   ]
  },
  {
   "cell_type": "code",
   "execution_count": 115,
   "metadata": {
    "scrolled": true
   },
   "outputs": [
    {
     "data": {
      "text/plain": [
       "20002×1 Array{String,2}:\n",
       " \"dog\"\n",
       " \"dog\"\n",
       " \"cat\"\n",
       " \"cat\"\n",
       " \"dog\"\n",
       " \"cat\"\n",
       " \"cat\"\n",
       " \"cat\"\n",
       " \"dog\"\n",
       " \"cat\"\n",
       " \"dog\"\n",
       " \"cat\"\n",
       " \"cat\"\n",
       " ⋮\n",
       " \"dog\"\n",
       " \"dog\"\n",
       " \"dog\"\n",
       " \"dog\"\n",
       " \"cat\"\n",
       " \"cat\"\n",
       " \"dog\"\n",
       " \"cat\"\n",
       " \"cat\"\n",
       " \"dog\"\n",
       " \"dog\"\n",
       " \"dog\""
      ]
     },
     "execution_count": 115,
     "metadata": {},
     "output_type": "execute_result"
    }
   ],
   "source": [
    "ytrain"
   ]
  },
  {
   "cell_type": "code",
   "execution_count": 119,
   "metadata": {},
   "outputs": [
    {
     "data": {
      "text/plain": [
       "Dict{String,Int64} with 2 entries:\n",
       "  \"cat\" => 2\n",
       "  \"dog\" => 1"
      ]
     },
     "execution_count": 119,
     "metadata": {},
     "output_type": "execute_result"
    }
   ],
   "source": [
    "labels = unique(ytrain);\n",
    "encodedlabels = Dict(labels .=> collect(1:length(labels)))"
   ]
  },
  {
   "cell_type": "code",
   "execution_count": 123,
   "metadata": {},
   "outputs": [
    {
     "ename": "ErrorException",
     "evalue": "map is not defined on dictionaries",
     "output_type": "error",
     "traceback": [
      "map is not defined on dictionaries",
      "",
      "Stacktrace:",
      " [1] error(::String) at ./error.jl:33",
      " [2] map(::Array{String,2}, ::Dict{String,Int64}) at ./abstractarray.jl:2100",
      " [3] top-level scope at In[123]:1"
     ]
    }
   ],
   "source": [
    "map(ytrain, encodedlabels) "
   ]
  },
  {
   "cell_type": "code",
   "execution_count": null,
   "metadata": {},
   "outputs": [],
   "source": []
  },
  {
   "cell_type": "code",
   "execution_count": 82,
   "metadata": {},
   "outputs": [
    {
     "data": {
      "text/plain": [
       "onecold (generic function with 1 method)"
      ]
     },
     "execution_count": 82,
     "metadata": {},
     "output_type": "execute_result"
    }
   ],
   "source": [
    "function onecold(y_enc)\n",
    "    labels = unique(y_enc)\n",
    "    encodedlabels = Dict(labels .=> collect(1:length(labels)))\n",
    "    return map(labels, encodedlabels), encodedlabels\n",
    "end"
   ]
  },
  {
   "cell_type": "code",
   "execution_count": 83,
   "metadata": {},
   "outputs": [
    {
     "ename": "ErrorException",
     "evalue": "map is not defined on dictionaries",
     "output_type": "error",
     "traceback": [
      "map is not defined on dictionaries",
      "",
      "Stacktrace:",
      " [1] error(::String) at ./error.jl:33",
      " [2] map(::Array{Float64,1}, ::Dict{Float64,Int64}) at ./abstractarray.jl:2100",
      " [3] onecold(::Array{Float64,2}) at ./In[82]:4",
      " [4] top-level scope at In[83]:1"
     ]
    }
   ],
   "source": [
    "onecold(ytrain)"
   ]
  },
  {
   "cell_type": "code",
   "execution_count": null,
   "metadata": {},
   "outputs": [],
   "source": []
  },
  {
   "cell_type": "code",
   "execution_count": null,
   "metadata": {},
   "outputs": [],
   "source": []
  },
  {
   "cell_type": "code",
   "execution_count": null,
   "metadata": {},
   "outputs": [],
   "source": []
  },
  {
   "cell_type": "code",
   "execution_count": null,
   "metadata": {},
   "outputs": [],
   "source": []
  },
  {
   "cell_type": "code",
   "execution_count": null,
   "metadata": {},
   "outputs": [],
   "source": []
  }
 ],
 "metadata": {
  "kernelspec": {
   "display_name": "Julia 1.4.1",
   "language": "julia",
   "name": "julia-1.4"
  },
  "language_info": {
   "file_extension": ".jl",
   "mimetype": "application/julia",
   "name": "julia",
   "version": "1.4.1"
  },
  "widgets": {
   "application/vnd.jupyter.widget-state+json": {
    "state": {},
    "version_major": 2,
    "version_minor": 0
   }
  }
 },
 "nbformat": 4,
 "nbformat_minor": 4
}
