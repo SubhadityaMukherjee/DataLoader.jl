{
 "cells": [
  {
   "cell_type": "markdown",
   "metadata": {},
   "source": [
    "# Functionality to add\n",
    "- Databunch\n",
    "- Learner\n",
    "- Fit one cycle\n",
    "- Show batch"
   ]
  },
  {
   "cell_type": "code",
   "execution_count": 1,
   "metadata": {},
   "outputs": [
    {
     "data": {
      "text/plain": [
       "Plots.GRBackend()"
      ]
     },
     "execution_count": 1,
     "metadata": {},
     "output_type": "execute_result"
    }
   ],
   "source": [
    "using Metalhead\n",
    "using FileIO\n",
    "using Images\n",
    "using Serialization\n",
    "using Random\n",
    "using Flux\n",
    "using Flux.Data: DataLoader\n",
    "using Flux.Optimise: Optimiser, WeightDecay\n",
    "using Flux: onehotbatch, onecold, logitcrossentropy\n",
    "using Statistics, Random\n",
    "import ProgressMeter\n",
    "using Parameters: @with_kw\n",
    "import MLDatasets\n",
    "import DrWatson: savename, struct2dict\n",
    "import BSON\n",
    "using CUDAapi\n",
    "using Plots\n",
    "import GR\n",
    "using Images\n",
    "using CuArrays\n",
    "using ImageView\n",
    "gr()"
   ]
  },
  {
   "cell_type": "markdown",
   "metadata": {},
   "source": [
    "# ImageList -> Playground"
   ]
  },
  {
   "cell_type": "markdown",
   "metadata": {},
   "source": [
    "## From folder"
   ]
  },
  {
   "cell_type": "code",
   "execution_count": 11,
   "metadata": {},
   "outputs": [],
   "source": [
    "#export\n",
    "path = \"/media/subhaditya/DATA/COSMO/Datasets/catDog/\"\n",
    "\n",
    "categories = readdir(path)\n",
    "\n",
    "\n",
    "imageSize = 64"
   ]
  },
  {
   "cell_type": "code",
   "execution_count": 20,
   "metadata": {
    "scrolled": true
   },
   "outputs": [
    {
     "name": "stdout",
     "output_type": "stream",
     "text": [
      "  0.006679 seconds (12.52 k allocations: 696.953 KiB)\n"
     ]
    },
    {
     "data": {
      "text/plain": [
       "12502-element Array{String,1}:\n",
       " \"1.jpg\"\n",
       " \"10.jpg\"\n",
       " \"100.jpg\"\n",
       " \"1000.jpg\"\n",
       " \"10000.jpg\"\n",
       " \"10001.jpg\"\n",
       " \"10002.jpg\"\n",
       " \"10003.jpg\"\n",
       " \"10004.jpg\"\n",
       " \"10005.jpg\"\n",
       " \"10006.jpg\"\n",
       " \"10007.jpg\"\n",
       " \"10008.jpg\"\n",
       " ⋮\n",
       " \"999.jpg\"\n",
       " \"9990.jpg\"\n",
       " \"9991.jpg\"\n",
       " \"9992.jpg\"\n",
       " \"9993.jpg\"\n",
       " \"9994.jpg\"\n",
       " \"9995.jpg\"\n",
       " \"9996.jpg\"\n",
       " \"9997.jpg\"\n",
       " \"9998.jpg\"\n",
       " \"9999.jpg\"\n",
       " \"models\""
      ]
     },
     "execution_count": 20,
     "metadata": {},
     "output_type": "execute_result"
    }
   ],
   "source": [
    "@time test_folder = readdir(joinpath(path,\"cat\"))"
   ]
  },
  {
   "cell_type": "code",
   "execution_count": 58,
   "metadata": {
    "scrolled": true
   },
   "outputs": [],
   "source": [
    "\n",
    "images =zeros((imageSize, imageSize, 3, size(test_folder, 1)));\n",
    "file_name = joinpath(path, \"cat\", \"9998.jpg\")\n",
    "img = channelview(imresize(load(file_name), (imageSize, imageSize)))\n"
   ]
  },
  {
   "cell_type": "code",
   "execution_count": 67,
   "metadata": {},
   "outputs": [
    {
     "data": {
      "text/plain": [
       "(64, 64, 3)"
      ]
     },
     "execution_count": 67,
     "metadata": {},
     "output_type": "execute_result"
    }
   ],
   "source": [
    "size(permutedims(img,(2,3,1)))"
   ]
  },
  {
   "cell_type": "code",
   "execution_count": 69,
   "metadata": {
    "scrolled": true
   },
   "outputs": [
    {
     "name": "stdout",
     "output_type": "stream",
     "text": [
      "  0.000091 seconds (9 allocations: 12.594 KiB)\n"
     ]
    },
    {
     "data": {
      "text/plain": [
       "64×64×3 Array{N0f8,3} with eltype Normed{UInt8,8}:\n",
       "[:, :, 1] =\n",
       " 0.51   0.592  0.604  0.682  0.518  …  0.627  0.588  0.22   0.027  0.376\n",
       " 0.204  0.247  0.69   0.345  0.176     0.604  0.243  0.365  0.329  0.282\n",
       " 0.384  0.431  0.557  0.604  0.71      0.098  0.027  0.137  0.047  0.22\n",
       " 0.345  0.655  0.247  0.69   0.188     0.373  0.165  0.6    0.584  0.188\n",
       " 0.667  0.659  0.588  0.706  0.722     0.525  0.545  0.318  0.643  0.357\n",
       " 0.49   0.51   0.784  0.486  0.318  …  0.714  0.42   0.247  0.408  0.392\n",
       " 0.314  0.525  0.769  0.235  0.757     0.612  0.369  0.675  0.608  0.471\n",
       " 0.216  0.294  0.757  0.753  0.757     0.29   0.224  0.251  0.529  0.208\n",
       " 0.82   0.325  0.392  0.396  0.522     0.702  0.565  0.255  0.62   0.392\n",
       " 0.592  0.741  0.851  0.851  0.749     0.141  0.294  0.322  0.588  0.612\n",
       " 0.208  0.725  0.824  0.514  0.51   …  0.18   0.255  0.757  0.243  0.651\n",
       " 0.345  0.596  0.678  0.416  0.671     0.149  0.286  0.651  0.706  0.471\n",
       " 0.671  0.498  0.584  0.792  0.859     0.141  0.725  0.498  0.106  0.753\n",
       " ⋮                                  ⋱         ⋮                    \n",
       " 0.118  0.082  0.251  0.075  0.129     0.086  0.196  0.125  0.075  0.125\n",
       " 0.078  0.067  0.082  0.275  0.063     0.157  0.114  0.055  0.235  0.031\n",
       " 0.09   0.059  0.255  0.078  0.231     0.086  0.082  0.204  0.082  0.259\n",
       " 0.082  0.122  0.035  0.059  0.047  …  0.059  0.396  0.031  0.224  0.067\n",
       " 0.059  0.071  0.055  0.094  0.188     0.035  0.047  0.031  0.082  0.051\n",
       " 0.224  0.086  0.227  0.098  0.102     0.141  0.075  0.133  0.082  0.102\n",
       " 0.212  0.059  0.055  0.055  0.165     0.455  0.055  0.31   0.157  0.051\n",
       " 0.047  0.176  0.384  0.047  0.502     0.165  0.055  0.275  0.067  0.075\n",
       " 0.133  0.094  0.42   0.055  0.094  …  0.118  0.118  0.078  0.071  0.145\n",
       " 0.086  0.137  0.051  0.22   0.137     0.137  0.055  0.075  0.071  0.141\n",
       " 0.141  0.055  0.204  0.243  0.063     0.239  0.082  0.059  0.2    0.059\n",
       " 0.224  0.2    0.114  0.31   0.051     0.282  0.09   0.522  0.086  0.055\n",
       "\n",
       "[:, :, 2] =\n",
       " 0.518  0.6    0.612  0.69   0.525  …  0.592  0.482  0.278  0.208  0.459\n",
       " 0.212  0.255  0.698  0.353  0.184     0.557  0.227  0.373  0.404  0.325\n",
       " 0.416  0.463  0.588  0.624  0.718     0.114  0.051  0.157  0.071  0.227\n",
       " 0.376  0.686  0.278  0.71   0.196     0.412  0.169  0.612  0.592  0.224\n",
       " 0.698  0.69   0.62   0.733  0.749     0.529  0.576  0.349  0.675  0.4\n",
       " 0.522  0.541  0.816  0.514  0.345  …  0.718  0.451  0.278  0.439  0.424\n",
       " 0.361  0.557  0.796  0.267  0.796     0.639  0.404  0.71   0.643  0.49\n",
       " 0.263  0.325  0.784  0.784  0.796     0.318  0.251  0.278  0.557  0.278\n",
       " 0.851  0.369  0.451  0.439  0.549     0.714  0.573  0.267  0.655  0.42\n",
       " 0.635  0.769  0.863  0.871  0.784     0.157  0.329  0.349  0.596  0.635\n",
       " 0.259  0.761  0.847  0.537  0.537  …  0.22   0.294  0.788  0.271  0.659\n",
       " 0.361  0.627  0.725  0.467  0.718     0.188  0.322  0.682  0.733  0.522\n",
       " 0.675  0.506  0.612  0.824  0.894     0.169  0.776  0.545  0.153  0.761\n",
       " ⋮                                  ⋱         ⋮                    \n",
       " 0.118  0.086  0.247  0.075  0.133     0.086  0.2    0.129  0.078  0.122\n",
       " 0.075  0.063  0.09   0.29   0.071     0.157  0.094  0.055  0.259  0.059\n",
       " 0.082  0.051  0.255  0.082  0.231     0.086  0.09   0.212  0.09   0.259\n",
       " 0.086  0.122  0.035  0.078  0.055  …  0.063  0.4    0.027  0.227  0.055\n",
       " 0.055  0.075  0.059  0.071  0.161     0.039  0.043  0.027  0.078  0.051\n",
       " 0.22   0.086  0.231  0.075  0.098     0.141  0.078  0.141  0.082  0.106\n",
       " 0.22   0.055  0.059  0.047  0.165     0.447  0.055  0.314  0.153  0.055\n",
       " 0.047  0.173  0.376  0.039  0.49      0.145  0.051  0.255  0.051  0.078\n",
       " 0.129  0.075  0.404  0.059  0.082  …  0.11   0.129  0.094  0.075  0.129\n",
       " 0.055  0.129  0.051  0.22   0.133     0.157  0.024  0.082  0.047  0.125\n",
       " 0.153  0.047  0.196  0.235  0.055     0.243  0.067  0.059  0.192  0.063\n",
       " 0.212  0.196  0.114  0.314  0.059     0.322  0.094  0.502  0.075  0.059\n",
       "\n",
       "[:, :, 3] =\n",
       " 0.569  0.651  0.659  0.737  0.573  …  0.659  0.545  0.439  0.392  0.584\n",
       " 0.263  0.302  0.745  0.4    0.231     0.651  0.294  0.439  0.459  0.396\n",
       " 0.467  0.514  0.639  0.678  0.776     0.125  0.031  0.173  0.075  0.227\n",
       " 0.427  0.737  0.329  0.765  0.255     0.447  0.235  0.639  0.639  0.275\n",
       " 0.749  0.741  0.671  0.776  0.788     0.608  0.627  0.4    0.725  0.431\n",
       " 0.573  0.592  0.867  0.557  0.384  …  0.796  0.502  0.329  0.49   0.443\n",
       " 0.408  0.6    0.827  0.302  0.843     0.678  0.439  0.741  0.675  0.51\n",
       " 0.31   0.369  0.816  0.82   0.843     0.357  0.322  0.349  0.631  0.29\n",
       " 0.886  0.376  0.482  0.506  0.612     0.773  0.616  0.333  0.694  0.447\n",
       " 0.694  0.843  0.922  0.906  0.804     0.216  0.369  0.376  0.647  0.706\n",
       " 0.302  0.792  0.867  0.549  0.596  …  0.267  0.31   0.831  0.345  0.706\n",
       " 0.373  0.651  0.761  0.51   0.761     0.235  0.357  0.725  0.792  0.553\n",
       " 0.694  0.569  0.651  0.847  0.953     0.231  0.796  0.612  0.216  0.827\n",
       " ⋮                                  ⋱         ⋮                    \n",
       " 0.078  0.02   0.231  0.031  0.082     0.047  0.161  0.114  0.059  0.098\n",
       " 0.071  0.035  0.02   0.173  0.004     0.106  0.075  0.055  0.212  0.024\n",
       " 0.078  0.059  0.216  0.024  0.188     0.067  0.071  0.173  0.051  0.208\n",
       " 0.031  0.094  0.02   0.027  0.031  …  0.039  0.365  0.016  0.169  0.031\n",
       " 0.043  0.02   0.008  0.012  0.09      0.008  0.027  0.012  0.071  0.059\n",
       " 0.2    0.051  0.161  0.071  0.067     0.129  0.024  0.059  0.047  0.075\n",
       " 0.133  0.031  0.016  0.075  0.082     0.388  0.012  0.255  0.129  0.063\n",
       " 0.027  0.118  0.294  0.031  0.451     0.118  0.016  0.208  0.063  0.051\n",
       " 0.051  0.082  0.373  0.012  0.047  …  0.082  0.075  0.043  0.075  0.082\n",
       " 0.051  0.043  0.008  0.227  0.075     0.078  0.008  0.082  0.039  0.035\n",
       " 0.063  0.059  0.184  0.212  0.016     0.208  0.055  0.031  0.137  0.027\n",
       " 0.259  0.133  0.031  0.251  0.055     0.247  0.055  0.392  0.059  0.051"
      ]
     },
     "execution_count": 69,
     "metadata": {},
     "output_type": "execute_result"
    }
   ],
   "source": [
    "@time images[:,:,:,1] = permutedims(img,(2,3,1))"
   ]
  },
  {
   "cell_type": "code",
   "execution_count": 191,
   "metadata": {},
   "outputs": [
    {
     "data": {
      "text/plain": [
       "add_path (generic function with 4 methods)"
      ]
     },
     "execution_count": 191,
     "metadata": {},
     "output_type": "execute_result"
    }
   ],
   "source": [
    "#export\n",
    "Threads.nthreads() = 8\n",
    "\n",
    "function add_path(cat::String)\n",
    "    temp_dir = readdir(joinpath(path,cat));\n",
    "    return [joinpath(path, cat,x) for x in temp_dir],fill(cat,size(temp_dir,1) )\n",
    "end"
   ]
  },
  {
   "cell_type": "code",
   "execution_count": 192,
   "metadata": {},
   "outputs": [],
   "source": [
    "#export\n",
    "total_files = collect(Iterators.flatten([add_path(x)[1] for x in categories]));\n",
    "total_categories = collect(Iterators.flatten([add_path(x)[2] for x in categories]));"
   ]
  },
  {
   "cell_type": "code",
   "execution_count": 193,
   "metadata": {},
   "outputs": [
    {
     "name": "stdout",
     "output_type": "stream",
     "text": [
      " 14.747637 seconds (848.08 k allocations: 5.413 GiB, 2.99% gc time)\n"
     ]
    }
   ],
   "source": [
    "#export\n",
    "images = zeros((imageSize, imageSize, 3, size(total_files,1)));\n",
    "\n",
    "@time Threads.@threads for idx in 1:size(total_files,1)\n",
    "    img = channelview(imresize(load(total_files[idx]), (imageSize, imageSize)))\n",
    "    images[:,:,:,idx] = permutedims(img,(2,3,1))\n",
    "    end"
   ]
  },
  {
   "cell_type": "code",
   "execution_count": 197,
   "metadata": {},
   "outputs": [
    {
     "data": {
      "text/plain": [
       "true"
      ]
     },
     "execution_count": 197,
     "metadata": {},
     "output_type": "execute_result"
    }
   ],
   "source": [
    "#export\n",
    "size(images,4) == size(total_categories,1)"
   ]
  },
  {
   "cell_type": "code",
   "execution_count": 256,
   "metadata": {},
   "outputs": [
    {
     "data": {
      "text/plain": [
       "Base.Iterators.PartitionIterator{UnitRange{Int64}}(1:307236864, 64)"
      ]
     },
     "execution_count": 256,
     "metadata": {},
     "output_type": "execute_result"
    }
   ],
   "source": [
    "mb_idxs = Base.Iterators.partition(1:length(X), 64)"
   ]
  },
  {
   "cell_type": "code",
   "execution_count": null,
   "metadata": {},
   "outputs": [],
   "source": []
  },
  {
   "cell_type": "markdown",
   "metadata": {},
   "source": [
    "## "
   ]
  },
  {
   "cell_type": "code",
   "execution_count": null,
   "metadata": {},
   "outputs": [],
   "source": []
  },
  {
   "cell_type": "code",
   "execution_count": null,
   "metadata": {},
   "outputs": [],
   "source": []
  },
  {
   "cell_type": "markdown",
   "metadata": {},
   "source": [
    "# ImageList -> Main"
   ]
  },
  {
   "cell_type": "markdown",
   "metadata": {},
   "source": [
    "## fromFolder"
   ]
  },
  {
   "cell_type": "code",
   "execution_count": 204,
   "metadata": {},
   "outputs": [
    {
     "data": {
      "text/plain": [
       "add_path (generic function with 4 methods)"
      ]
     },
     "execution_count": 204,
     "metadata": {},
     "output_type": "execute_result"
    }
   ],
   "source": [
    "# Helper function to add path to array\n",
    "function add_path(cat::String)\n",
    "    temp_dir = readdir(joinpath(path,cat));\n",
    "    return [joinpath(path, cat,x) for x in temp_dir],fill(cat,size(temp_dir,1) )\n",
    "end"
   ]
  },
  {
   "cell_type": "code",
   "execution_count": 211,
   "metadata": {},
   "outputs": [],
   "source": [
    "# Define number of threads\n",
    "Threads.nthreads() = length(Sys.cpu_info())"
   ]
  },
  {
   "cell_type": "code",
   "execution_count": 235,
   "metadata": {},
   "outputs": [
    {
     "data": {
      "text/plain": [
       "fromFolder"
      ]
     },
     "execution_count": 235,
     "metadata": {},
     "output_type": "execute_result"
    }
   ],
   "source": [
    "\"\"\"\n",
    "Function to create an array of images and labels -> when the directory structure is as follows\n",
    "- main\n",
    "    - category1\n",
    "        - file1...\n",
    "    -category2\n",
    "        - file1...\n",
    "    ...\n",
    "\"\"\"\n",
    "function fromFolder(path::String,imageSize=64::Int64)\n",
    "    @info path, imageSize\n",
    "    categories = readdir(path)\n",
    "    total_files = collect(Iterators.flatten([add_path(x)[1] for x in categories]));\n",
    "    total_categories = collect(Iterators.flatten([add_path(x)[2] for x in categories]));\n",
    "\n",
    "    images = zeros((imageSize, imageSize, 3, size(total_files,1)));\n",
    "\n",
    "    Threads.@threads for idx in 1:size(total_files,1)\n",
    "        img = channelview(imresize(load(total_files[idx]), (imageSize, imageSize)))\n",
    "        img = convert(Array{Float64},img)\n",
    "        images[:,:,:,idx] = permutedims(img,(2,3,1))\n",
    "        end\n",
    "    @info \"Done loading images\"\n",
    "    return images, total_categories\n",
    "    \n",
    "\n",
    "end\n",
    "    "
   ]
  },
  {
   "cell_type": "code",
   "execution_count": 236,
   "metadata": {
    "scrolled": true
   },
   "outputs": [
    {
     "name": "stderr",
     "output_type": "stream",
     "text": [
      "┌ Info: (\"/media/subhaditya/DATA/COSMO/Datasets/catDog/\", 64)\n",
      "└ @ Main In[235]:11\n",
      "┌ Info: Done loading images\n",
      "└ @ Main In[235]:23\n"
     ]
    }
   ],
   "source": [
    "# test\n",
    "X,y = fromFolder(\"/media/subhaditya/DATA/COSMO/Datasets/catDog/\",64);"
   ]
  },
  {
   "cell_type": "code",
   "execution_count": null,
   "metadata": {},
   "outputs": [],
   "source": []
  },
  {
   "cell_type": "code",
   "execution_count": null,
   "metadata": {},
   "outputs": [],
   "source": []
  },
  {
   "cell_type": "code",
   "execution_count": null,
   "metadata": {},
   "outputs": [],
   "source": []
  },
  {
   "cell_type": "code",
   "execution_count": null,
   "metadata": {},
   "outputs": [],
   "source": []
  },
  {
   "cell_type": "code",
   "execution_count": null,
   "metadata": {},
   "outputs": [],
   "source": []
  },
  {
   "cell_type": "code",
   "execution_count": null,
   "metadata": {},
   "outputs": [],
   "source": []
  },
  {
   "cell_type": "code",
   "execution_count": null,
   "metadata": {},
   "outputs": [],
   "source": []
  }
 ],
 "metadata": {
  "kernelspec": {
   "display_name": "Julia 1.4.1",
   "language": "julia",
   "name": "julia-1.4"
  },
  "language_info": {
   "file_extension": ".jl",
   "mimetype": "application/julia",
   "name": "julia",
   "version": "1.4.1"
  },
  "widgets": {
   "application/vnd.jupyter.widget-state+json": {
    "state": {},
    "version_major": 2,
    "version_minor": 0
   }
  }
 },
 "nbformat": 4,
 "nbformat_minor": 4
}
