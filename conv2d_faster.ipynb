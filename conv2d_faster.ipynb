{
 "cells": [
  {
   "cell_type": "markdown",
   "metadata": {},
   "source": [
    "# Old"
   ]
  },
  {
   "cell_type": "code",
   "execution_count": 5,
   "metadata": {},
   "outputs": [
    {
     "data": {
      "text/plain": [
       "conv2d (generic function with 3 methods)"
      ]
     },
     "execution_count": 5,
     "metadata": {},
     "output_type": "execute_result"
    }
   ],
   "source": [
    "function conv2d(img, kernel, stride = 1, padding = \"valid\")\n",
    "    input_h, input_w = size(img)\n",
    "    kernel_h, kernel_w = size(kernel)\n",
    "    \n",
    "    if padding == \"same\"\n",
    "        pad_h = (kernel_h-1) ÷ 2\n",
    "        pad_w = (kernel_w-1) ÷ 2\n",
    "        \n",
    "        img_padded = zeros(input_h+(2*pad_h),input_w+(2*pad_w))\n",
    "        \n",
    "        for i in 1:input_h , j in 1:input_w\n",
    "            img_padded[i+pad_h, j+pad_w] = img[i,j]\n",
    "        end\n",
    "        \n",
    "    elseif padding == \"valid\"\n",
    "    else\n",
    "        throw(DomainError(padding, \"Invalid padding value\"))\n",
    "    end\n",
    "    \n",
    "    result = zeros((input_h- kernel_h) ÷ stride +1 ,(input_w- kernel_w) ÷ stride +1 )\n",
    "    result_h, result_w = size(result)\n",
    "    \n",
    "    ih, iw = 1, 1\n",
    "    for i in 1: result_h\n",
    "        for j in 1: result_w\n",
    "            for k in 1:kernel_h\n",
    "                for l in 1:kernel_w\n",
    "                    result[i,j] += img[ih+k-1, iw+l-1]*kernel[k,l]\n",
    "                end\n",
    "            end\n",
    "            ih+=stride\n",
    "        end\n",
    "        iw+= stride\n",
    "        ih = 1\n",
    "    end\n",
    "    return result\n",
    "end"
   ]
  },
  {
   "cell_type": "code",
   "execution_count": 6,
   "metadata": {},
   "outputs": [],
   "source": [
    "img = rand(Float32,10000,10000)\n",
    "kernel = rand(Float32,15,15);"
   ]
  },
  {
   "cell_type": "code",
   "execution_count": 7,
   "metadata": {
    "scrolled": true
   },
   "outputs": [
    {
     "name": "stdout",
     "output_type": "stream",
     "text": [
      " 53.943691 seconds (59.00 k allocations: 763.824 MiB, 0.08% gc time)\n"
     ]
    },
    {
     "data": {
      "text/plain": [
       "9986×9986 Array{Float64,2}:\n",
       " 55.1103  53.6555  54.7989  55.7792  …  57.1378  56.0684  55.5278  54.8168\n",
       " 55.638   55.1453  56.2829  57.517      56.9378  55.9692  55.291   56.6514\n",
       " 59.5069  54.6726  56.5088  55.3175     57.3875  55.3549  54.2167  53.6572\n",
       " 55.1441  55.0903  55.7647  55.8247     56.1902  54.3936  54.8783  55.4977\n",
       " 58.0125  58.4033  60.4215  59.5335     56.3709  56.581   55.0934  57.8492\n",
       " 59.7877  60.1004  61.0574  60.5322  …  56.0156  54.544   53.8752  53.9561\n",
       " 60.4831  59.2864  61.8398  59.8047     55.0457  55.3872  55.5735  54.5301\n",
       " 61.8257  59.6132  61.0708  62.2667     53.8662  55.0981  54.1424  55.8933\n",
       " 59.7856  58.9797  60.4625  62.6842     56.3706  57.5737  57.2259  57.7376\n",
       " 59.1531  61.1174  58.5238  60.0542     55.0528  53.5145  54.0603  55.2477\n",
       " 60.5447  57.4912  60.7377  61.1334  …  53.444   55.6145  55.3125  55.3896\n",
       " 58.5153  58.0574  59.0052  61.2728     56.0957  54.7779  52.5846  54.1418\n",
       " 59.8011  59.6502  60.6901  59.6189     54.2842  55.3179  53.5531  53.1231\n",
       "  ⋮                                  ⋱                              ⋮\n",
       " 52.2368  50.0038  52.7204  51.3303     57.6525  57.6378  56.057   58.0761\n",
       " 55.1613  51.7061  52.3729  54.5514  …  54.8418  59.8831  57.0005  57.3464\n",
       " 53.136   56.1669  52.7433  55.0197     53.2874  54.132   57.2501  55.8723\n",
       " 53.2427  54.8458  54.3426  54.037      56.9581  56.1534  55.4865  58.3472\n",
       " 54.3992  53.9572  54.604   56.1419     52.9142  54.4648  53.4216  56.775\n",
       " 54.5605  54.5324  54.9682  52.9345     57.5735  56.7606  54.5344  56.3261\n",
       " 57.4026  55.4313  56.0677  54.2939  …  54.0839  56.5084  54.2818  57.3867\n",
       " 55.5491  57.3502  54.6671  56.6289     51.3118  54.7057  55.3693  56.4168\n",
       " 50.6515  54.8402  55.2288  55.4281     58.7855  56.1957  55.8789  55.8853\n",
       " 55.2791  55.0934  54.3015  55.3783     55.7333  56.8505  55.0335  56.3116\n",
       " 57.5375  55.8811  55.8675  56.5358     55.0522  57.046   54.6578  58.2962\n",
       " 53.4083  54.6624  54.1652  53.1604  …  56.9043  57.1283  54.0318  55.9023"
      ]
     },
     "execution_count": 7,
     "metadata": {},
     "output_type": "execute_result"
    }
   ],
   "source": [
    "@time conv2d(img,kernel)"
   ]
  },
  {
   "cell_type": "code",
   "execution_count": null,
   "metadata": {},
   "outputs": [],
   "source": []
  },
  {
   "cell_type": "markdown",
   "metadata": {},
   "source": [
    "# Loops P1"
   ]
  },
  {
   "cell_type": "code",
   "execution_count": 4,
   "metadata": {},
   "outputs": [],
   "source": [
    "using FFTW"
   ]
  },
  {
   "cell_type": "code",
   "execution_count": 5,
   "metadata": {},
   "outputs": [],
   "source": [
    "img = rand(1000,1000)\n",
    "kernel = rand(15,15);"
   ]
  },
  {
   "cell_type": "code",
   "execution_count": 3,
   "metadata": {},
   "outputs": [
    {
     "data": {
      "text/plain": [
       "conv2d_gpu (generic function with 3 methods)"
      ]
     },
     "execution_count": 3,
     "metadata": {},
     "output_type": "execute_result"
    }
   ],
   "source": [
    "function conv2d_gpu(img, kernel, stride = 1, padding = \"valid\")\n",
    "    input_h, input_w = size(img)\n",
    "    kernel_h, kernel_w = size(kernel)\n",
    "    \n",
    "    if padding == \"same\"\n",
    "        pad_h = (kernel_h-1) ÷ 2\n",
    "        pad_w = (kernel_w-1) ÷ 2\n",
    "        img_padded = zeros(input_h+(2*pad_h),input_w+(2*pad_w))\n",
    "        for i in 1:input_h , j in 1:input_w\n",
    "            img_padded[i+pad_h, j+pad_w] = img[i,j]\n",
    "            img = img_padded\n",
    "        end\n",
    "    elseif padding == \"valid\"\n",
    "    else\n",
    "        throw(DomainError(padding, \"Invalid padding value\"))\n",
    "    end\n",
    "    @info size(img)\n",
    "    result = zeros((input_h- kernel_h) ÷ stride +1 ,(input_w- kernel_w) ÷ stride +1 )\n",
    "    result_h, result_w = size(result)\n",
    "    \n",
    "  ih, iw = 1, 1\n",
    "    for i in 1: result_h\n",
    "        for j in 1: result_w\n",
    "#             for k in 1:kernel_h\n",
    "#                 for l in 1:kernel_w\n",
    "# #                     result[i,j] += img[ih+k-1, iw+l-1]*kernel[k,l]\n",
    "                    \n",
    "#                 end\n",
    "#             end\n",
    "             result[i,j] +=ifft(fft(img[ih+k-1, iw+l-1])*fft(kernel))\n",
    "            ih+=stride\n",
    "        end\n",
    "        iw+= stride\n",
    "        ih = 1\n",
    "    end\n",
    "    return result\n",
    "end"
   ]
  },
  {
   "cell_type": "code",
   "execution_count": 4,
   "metadata": {
    "scrolled": true
   },
   "outputs": [
    {
     "name": "stderr",
     "output_type": "stream",
     "text": [
      "┌ Info: (1000, 1000)\n",
      "└ @ Main In[3]:17\n"
     ]
    },
    {
     "ename": "MethodError",
     "evalue": "MethodError: no method matching fft(::Float64)\nClosest candidates are:\n  fft(!Matched::AbstractArray{#s12,N} where N where #s12<:Real) at /home/subhaditya/.julia/packages/AbstractFFTs/mhQvY/src/definitions.jl:198\n  fft(!Matched::AbstractArray{#s13,N} where N where #s13<:Real, !Matched::Any) at /home/subhaditya/.julia/packages/AbstractFFTs/mhQvY/src/definitions.jl:198\n  fft(!Matched::AbstractArray{#s18,N} where N where #s18<:(Complex{#s19} where #s19<:Union{Integer, Rational})) at /home/subhaditya/.julia/packages/AbstractFFTs/mhQvY/src/definitions.jl:200\n  ...",
     "output_type": "error",
     "traceback": [
      "MethodError: no method matching fft(::Float64)\nClosest candidates are:\n  fft(!Matched::AbstractArray{#s12,N} where N where #s12<:Real) at /home/subhaditya/.julia/packages/AbstractFFTs/mhQvY/src/definitions.jl:198\n  fft(!Matched::AbstractArray{#s13,N} where N where #s13<:Real, !Matched::Any) at /home/subhaditya/.julia/packages/AbstractFFTs/mhQvY/src/definitions.jl:198\n  fft(!Matched::AbstractArray{#s18,N} where N where #s18<:(Complex{#s19} where #s19<:Union{Integer, Rational})) at /home/subhaditya/.julia/packages/AbstractFFTs/mhQvY/src/definitions.jl:200\n  ...",
      "",
      "Stacktrace:",
      " [1] conv2d_gpu(::Array{Float64,2}, ::Array{Float64,2}, ::Int64, ::String) at ./In[3]:27",
      " [2] conv2d_gpu(::Array{Float64,2}, ::Array{Float64,2}) at ./In[3]:2",
      " [3] macro expansion at ./util.jl:175 [inlined]",
      " [4] top-level scope at ./In[4]:1"
     ]
    }
   ],
   "source": [
    "# @time \n",
    "@time conv2d_gpu(img,kernel)"
   ]
  },
  {
   "cell_type": "code",
   "execution_count": null,
   "metadata": {},
   "outputs": [],
   "source": []
  },
  {
   "cell_type": "code",
   "execution_count": null,
   "metadata": {},
   "outputs": [],
   "source": []
  },
  {
   "cell_type": "code",
   "execution_count": null,
   "metadata": {},
   "outputs": [],
   "source": []
  },
  {
   "cell_type": "code",
   "execution_count": null,
   "metadata": {},
   "outputs": [],
   "source": []
  },
  {
   "cell_type": "markdown",
   "metadata": {},
   "source": [
    "# CuDA\n"
   ]
  },
  {
   "cell_type": "code",
   "execution_count": 28,
   "metadata": {
    "scrolled": true
   },
   "outputs": [],
   "source": [
    "using CUDA,GPUArrays,CUDA.CUFFT"
   ]
  },
  {
   "cell_type": "code",
   "execution_count": 1,
   "metadata": {},
   "outputs": [],
   "source": [
    "img = rand(10000,10000)\n",
    "kernel = rand(15,15);"
   ]
  },
  {
   "cell_type": "code",
   "execution_count": 26,
   "metadata": {},
   "outputs": [],
   "source": [
    "# CUBLAS.cublasLoggerConfigure(1, 0, 1, C_NULL)"
   ]
  },
  {
   "cell_type": "code",
   "execution_count": 29,
   "metadata": {},
   "outputs": [],
   "source": [
    "CUDA.allowscalar(true)"
   ]
  },
  {
   "cell_type": "code",
   "execution_count": 2,
   "metadata": {},
   "outputs": [
    {
     "ename": "InitError",
     "evalue": "InitError: InterruptException:\nduring initialization of module CompilerSupportLibraries_jll",
     "output_type": "error",
     "traceback": [
      "InitError: InterruptException:\nduring initialization of module CompilerSupportLibraries_jll",
      "",
      "Stacktrace:",
      " [1] do_artifact_str(::String, ::Dict{String,Any}, ::String, ::Module) at /buildworker/worker/package_linux64/build/usr/share/julia/stdlib/v1.4/Pkg/src/Artifacts.jl:1023",
      " [2] #invokelatest#1 at ./essentials.jl:712 [inlined]",
      " [3] invokelatest at ./essentials.jl:711 [inlined]",
      " [4] __init__() at /home/subhaditya/.julia/packages/CompilerSupportLibraries_jll/kmL78/src/wrappers/x86_64-linux-gnu-libgfortran4.jl:69",
      " [5] _include_from_serialized(::String, ::Array{Any,1}) at ./loading.jl:697",
      " [6] _require_search_from_serialized(::Base.PkgId, ::String) at ./loading.jl:781",
      " [7] _tryrequire_from_serialized(::Base.PkgId, ::UInt64, ::String) at ./loading.jl:712",
      " [8] _require_search_from_serialized(::Base.PkgId, ::String) at ./loading.jl:770",
      " [9] _tryrequire_from_serialized(::Base.PkgId, ::UInt64, ::String) at ./loading.jl:712",
      " [10] _require_search_from_serialized(::Base.PkgId, ::String) at ./loading.jl:770",
      " [11] _require(::Base.PkgId) at ./loading.jl:1006",
      " [12] require(::Base.PkgId) at ./loading.jl:927",
      " [13] require(::Module, ::Symbol) at ./loading.jl:922",
      " [14] top-level scope at In[2]:1"
     ]
    }
   ],
   "source": [
    "using Images,ImageViewew"
   ]
  },
  {
   "cell_type": "code",
   "execution_count": 3,
   "metadata": {},
   "outputs": [
    {
     "data": {
      "text/plain": [
       "conv2d_fft (generic function with 3 methods)"
      ]
     },
     "execution_count": 3,
     "metadata": {},
     "output_type": "execute_result"
    }
   ],
   "source": [
    "function conv2d_fft(img, kernel, stride = 1, padding = \"valid\")\n",
    "    input_h, input_w = size(img)\n",
    "    kernel_h, kernel_w = size(kernel)\n",
    "    pad_h = (kernel_h-1) ÷ 2\n",
    "    pad_w = (kernel_w-1) ÷ 2\n",
    "\n",
    "    img_padded = zeros(input_h+(2*pad_h),input_w+(2*pad_w))\n",
    "    em_kernel = zeros(size(img_padded))\n",
    "    @info size(em_kernel)\n",
    "    \n",
    "\n",
    "    for i in 1:input_h , j in 1:input_w\n",
    "        img_padded[i+pad_h, j+pad_w] = img[i,j]\n",
    "    end\n",
    "    imshow(img_padded)\n",
    "#     @info size(img_padded), size(kernel)\n",
    "    \n",
    "    \n",
    "end"
   ]
  },
  {
   "cell_type": "code",
   "execution_count": 4,
   "metadata": {
    "scrolled": true
   },
   "outputs": [
    {
     "name": "stderr",
     "output_type": "stream",
     "text": [
      "┌ Info: (10014, 10014)\n",
      "└ @ Main In[3]:9\n"
     ]
    },
    {
     "ename": "UndefVarError",
     "evalue": "UndefVarError: imshow not defined",
     "output_type": "error",
     "traceback": [
      "UndefVarError: imshow not defined",
      "",
      "Stacktrace:",
      " [1] conv2d_fft(::Array{Float64,2}, ::Array{Float64,2}, ::Int64, ::String) at ./In[3]:15",
      " [2] conv2d_fft(::Array{Float64,2}, ::Array{Float64,2}) at ./In[3]:2",
      " [3] macro expansion at ./util.jl:175 [inlined]",
      " [4] top-level scope at ./In[4]:1"
     ]
    }
   ],
   "source": [
    "@time conv2d_fft(img,kernel)"
   ]
  },
  {
   "cell_type": "code",
   "execution_count": 14,
   "metadata": {},
   "outputs": [
    {
     "ename": "UndefVarError",
     "evalue": "UndefVarError: img_padded not defined",
     "output_type": "error",
     "traceback": [
      "UndefVarError: img_padded not defined",
      "",
      "Stacktrace:",
      " [1] top-level scope at In[14]:1"
     ]
    }
   ],
   "source": [
    "img_padded"
   ]
  },
  {
   "cell_type": "markdown",
   "metadata": {},
   "source": [
    "# FFT"
   ]
  },
  {
   "cell_type": "markdown",
   "metadata": {},
   "source": [
    "$f*g= ℱ^{-1}\\big\\{ℱ\\{f\\}\\cdot ℱ\\{g\\}\\big\\}$"
   ]
  },
  {
   "cell_type": "code",
   "execution_count": 31,
   "metadata": {},
   "outputs": [],
   "source": [
    "using CUDA.CUFFT"
   ]
  },
  {
   "cell_type": "code",
   "execution_count": 43,
   "metadata": {
    "scrolled": true
   },
   "outputs": [
    {
     "name": "stdout",
     "output_type": "stream",
     "text": [
      "  0.001866 seconds (742 allocations: 23.516 KiB)\n"
     ]
    },
    {
     "name": "stderr",
     "output_type": "stream",
     "text": [
      "I! cuBLAS (v10.2) function cublasStatus_t cublasZgemm_v2(cublasContext*, cublasOperation_t, cublasOperation_t, int, int, int, const cuDoubleComplex*, const cuDoubleComplex*, int, const cuDoubleComplex*, int, const cuDoubleComplex*, cuDoubleComplex*, int) called:\n",
      "i!  handle: type=cublasHandle_t; val=POINTER (IN HEX:0x0xb8ed650)\n",
      "i!  transa: type=cublasOperation_t; val=CUBLAS_OP_N(0)\n",
      "i!  transb: type=cublasOperation_t; val=CUBLAS_OP_N(0)\n",
      "i!  m: type=int; val=1000\n",
      "i!  n: type=int; val=1000\n",
      "i!  k: type=int; val=1000\n",
      "i!  alpha: type=SOME TYPE; val=POINTER (IN HEX:0x0x7ff4149185f0)\n",
      "i!  A: type=SOME TYPE; val=POINTER (IN HEX:0x0x7ff111000000)\n",
      "i!  lda: type=int; val=1000\n",
      "i!  B: type=SOME TYPE; val=POINTER (IN HEX:0x0x7ff116000000)\n",
      "i!  ldb: type=int; val=1000\n",
      "i!  beta: type=SOME TYPE; val=POINTER (IN HEX:0x0x7ff414918650)\n",
      "i!  C: type=SOME TYPE; val=POINTER (IN HEX:0x0x7ff11d000000)\n",
      "i!  ldc: type=int; val=1000\n",
      "i! Time: 2020-07-03T20:32:01 elapsed from start 9.666667 minutes or 580.000000 seconds\n",
      "i!Process=2925538; Thread=140688492732928; GPU=0; Handle=POINTER (IN HEX:0x0xb8ed650); StreamId=POINTER (IN HEX:0x(nil)) (defaultStream); MathMode=CUBLAS_DEFAULT_MATH\n",
      "i! COMPILED WITH: GNU GCC/G++ / 4.1.2 20080704 (Red Hat 4.1.2-48)\n",
      "I! cuBLAS (v10.2) function cublasStatus_t cublasZscal_v2(cublasContext*, int, const cuDoubleComplex*, cuDoubleComplex*, int) called:\n",
      "i!  handle: type=cublasHandle_t; val=POINTER (IN HEX:0x0xb8ed650)\n",
      "i!  n: type=int; val=1000000\n",
      "i!  alpha: type=SOME TYPE; val=POINTER (IN HEX:0x0x7ff414235930)\n",
      "i!  x: type=SOME TYPE; val=POINTER (IN HEX:0x0x7ff11f000000)\n",
      "i!  incx: type=int; val=1\n",
      "i! Time: 2020-07-03T20:32:01 elapsed from start 9.666667 minutes or 580.000000 seconds\n",
      "i!Process=2925538; Thread=140688492732928; GPU=0; Handle=POINTER (IN HEX:0x0xb8ed650); StreamId=POINTER (IN HEX:0x(nil)) (defaultStream); MathMode=CUBLAS_DEFAULT_MATH\n",
      "i! COMPILED WITH: GNU GCC/G++ / 4.1.2 20080704 (Red Hat 4.1.2-48)\n"
     ]
    },
    {
     "data": {
      "text/plain": [
       "1000×1000 CuArray{Complex{Float64},2,Nothing}:\n",
       " 243012.0-2.21743e-12im  248462.0+4.01465e-12im  …  241187.0-2.52501e-12im\n",
       " 246895.0+3.073e-12im    252705.0+6.76299e-13im     246505.0+2.79914e-13im\n",
       " 244040.0+1.29822e-12im  248105.0-5.81032e-13im     241536.0-1.12949e-12im\n",
       " 243674.0+2.3766e-12im   252479.0-7.71853e-12im     241838.0+2.15367e-12im\n",
       " 245296.0-8.24491e-12im  252462.0+1.12814e-12im     246401.0+5.69911e-13im\n",
       " 242099.0-6.79953e-12im  252635.0-4.2406e-12im   …  242305.0+4.35187e-12im\n",
       " 238863.0+3.01047e-12im  250017.0+1.15065e-13im     239439.0+1.7488e-12im\n",
       " 235779.0-5.5786e-12im   244164.0-1.35589e-12im     228264.0-4.2733e-12im\n",
       " 251754.0+2.63911e-12im  255426.0+1.13083e-12im     244159.0+5.11367e-13im\n",
       " 246463.0-3.65313e-13im  255684.0-3.11646e-12im     243004.0+3.5881e-12im\n",
       " 254619.0+1.5321e-12im   255587.0+3.03261e-12im  …  249885.0+4.20335e-12im\n",
       " 245245.0+3.32796e-12im  256673.0+1.39922e-12im     250151.0+1.76742e-12im\n",
       " 255243.0+1.23851e-12im  265632.0-2.16189e-12im     257422.0-2.98085e-12im\n",
       "         ⋮                                       ⋱  \n",
       " 244818.0+6.62441e-12im  251014.0+7.39377e-12im     243364.0+3.02899e-12im\n",
       " 241017.0+1.44152e-12im  245957.0-2.62923e-12im     236984.0+4.89625e-14im\n",
       " 251698.0-3.24681e-12im  258307.0-2.82633e-12im  …  247840.0+6.68109e-12im\n",
       " 248690.0+2.07162e-12im  258984.0+2.44327e-12im     247645.0+2.58561e-12im\n",
       " 245718.0-4.49229e-12im  249999.0+3.60852e-12im     242592.0+2.12573e-12im\n",
       " 244819.0+1.19098e-12im  249867.0+9.95819e-14im     247011.0+5.48189e-13im\n",
       " 241148.0-6.95225e-12im  252256.0+3.22967e-12im     247586.0+7.10838e-14im\n",
       " 248212.0+6.34275e-13im  258727.0+1.55582e-13im  …  249217.0+4.78768e-12im\n",
       " 248823.0+3.84916e-12im  259700.0+9.16396e-14im     248409.0+6.17966e-12im\n",
       " 246188.0-2.18812e-12im  248735.0-2.80368e-12im     237524.0-1.81618e-12im\n",
       " 257155.0-2.52546e-12im  259552.0+3.57105e-13im     253329.0-4.33071e-12im\n",
       " 244657.0+4.63347e-12im  245488.0+4.00208e-12im     240919.0-2.34037e-12im"
      ]
     },
     "execution_count": 43,
     "metadata": {},
     "output_type": "execute_result"
    }
   ],
   "source": [
    "@time ifft(fft(img)*fft(img))"
   ]
  },
  {
   "cell_type": "code",
   "execution_count": null,
   "metadata": {},
   "outputs": [],
   "source": []
  },
  {
   "cell_type": "code",
   "execution_count": null,
   "metadata": {},
   "outputs": [],
   "source": []
  }
 ],
 "metadata": {
  "kernelspec": {
   "display_name": "Julia 1.4.1",
   "language": "julia",
   "name": "julia-1.4"
  },
  "language_info": {
   "file_extension": ".jl",
   "mimetype": "application/julia",
   "name": "julia",
   "version": "1.4.1"
  }
 },
 "nbformat": 4,
 "nbformat_minor": 4
}
